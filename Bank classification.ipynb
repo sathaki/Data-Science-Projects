{
 "cells": [
  {
   "cell_type": "code",
   "execution_count": 1,
   "metadata": {},
   "outputs": [],
   "source": [
    "import numpy as np\n",
    "import pandas as pd\n",
    "import sklearn\n",
    "import seaborn as sns\n",
    "import matplotlib.pyplot as plt"
   ]
  },
  {
   "cell_type": "code",
   "execution_count": 2,
   "metadata": {},
   "outputs": [
    {
     "name": "stdout",
     "output_type": "stream",
     "text": [
      "C:\\Users\\SATHAKI PROSAD\\Desktop\n"
     ]
    }
   ],
   "source": [
    "cd C:\\Users\\SATHAKI PROSAD\\Desktop"
   ]
  },
  {
   "cell_type": "code",
   "execution_count": 3,
   "metadata": {},
   "outputs": [],
   "source": [
    "bank = pd.read_csv('Bank.csv')"
   ]
  },
  {
   "cell_type": "code",
   "execution_count": 4,
   "metadata": {},
   "outputs": [
    {
     "data": {
      "text/html": [
       "<div>\n",
       "<style scoped>\n",
       "    .dataframe tbody tr th:only-of-type {\n",
       "        vertical-align: middle;\n",
       "    }\n",
       "\n",
       "    .dataframe tbody tr th {\n",
       "        vertical-align: top;\n",
       "    }\n",
       "\n",
       "    .dataframe thead th {\n",
       "        text-align: right;\n",
       "    }\n",
       "</style>\n",
       "<table border=\"1\" class=\"dataframe\">\n",
       "  <thead>\n",
       "    <tr style=\"text-align: right;\">\n",
       "      <th></th>\n",
       "      <th>age</th>\n",
       "      <th>job</th>\n",
       "      <th>marital</th>\n",
       "      <th>education</th>\n",
       "      <th>Credit default</th>\n",
       "      <th>housing loan</th>\n",
       "      <th>loan</th>\n",
       "      <th>contact</th>\n",
       "      <th>month</th>\n",
       "      <th>day_of_week</th>\n",
       "      <th>last contact duration</th>\n",
       "      <th>no of contacts performed during the campaign</th>\n",
       "      <th>pdays after last contract</th>\n",
       "      <th>No of contacts before campaign</th>\n",
       "      <th>Outcome of previous campaign</th>\n",
       "      <th>Client subscribed or not</th>\n",
       "    </tr>\n",
       "  </thead>\n",
       "  <tbody>\n",
       "    <tr>\n",
       "      <th>0</th>\n",
       "      <td>49</td>\n",
       "      <td>blue-collar</td>\n",
       "      <td>married</td>\n",
       "      <td>basic.9y</td>\n",
       "      <td>unknown</td>\n",
       "      <td>no</td>\n",
       "      <td>no</td>\n",
       "      <td>cellular</td>\n",
       "      <td>nov</td>\n",
       "      <td>wed</td>\n",
       "      <td>227</td>\n",
       "      <td>4</td>\n",
       "      <td>999</td>\n",
       "      <td>0</td>\n",
       "      <td>nonexistent</td>\n",
       "      <td>no</td>\n",
       "    </tr>\n",
       "    <tr>\n",
       "      <th>1</th>\n",
       "      <td>37</td>\n",
       "      <td>entrepreneur</td>\n",
       "      <td>married</td>\n",
       "      <td>university.degree</td>\n",
       "      <td>no</td>\n",
       "      <td>no</td>\n",
       "      <td>no</td>\n",
       "      <td>telephone</td>\n",
       "      <td>nov</td>\n",
       "      <td>wed</td>\n",
       "      <td>202</td>\n",
       "      <td>2</td>\n",
       "      <td>999</td>\n",
       "      <td>1</td>\n",
       "      <td>failure</td>\n",
       "      <td>no</td>\n",
       "    </tr>\n",
       "    <tr>\n",
       "      <th>2</th>\n",
       "      <td>78</td>\n",
       "      <td>retired</td>\n",
       "      <td>married</td>\n",
       "      <td>basic.4y</td>\n",
       "      <td>no</td>\n",
       "      <td>no</td>\n",
       "      <td>no</td>\n",
       "      <td>cellular</td>\n",
       "      <td>jul</td>\n",
       "      <td>mon</td>\n",
       "      <td>1148</td>\n",
       "      <td>1</td>\n",
       "      <td>999</td>\n",
       "      <td>0</td>\n",
       "      <td>nonexistent</td>\n",
       "      <td>yes</td>\n",
       "    </tr>\n",
       "    <tr>\n",
       "      <th>3</th>\n",
       "      <td>36</td>\n",
       "      <td>admin.</td>\n",
       "      <td>married</td>\n",
       "      <td>university.degree</td>\n",
       "      <td>no</td>\n",
       "      <td>yes</td>\n",
       "      <td>no</td>\n",
       "      <td>telephone</td>\n",
       "      <td>may</td>\n",
       "      <td>mon</td>\n",
       "      <td>120</td>\n",
       "      <td>2</td>\n",
       "      <td>999</td>\n",
       "      <td>0</td>\n",
       "      <td>nonexistent</td>\n",
       "      <td>no</td>\n",
       "    </tr>\n",
       "    <tr>\n",
       "      <th>4</th>\n",
       "      <td>59</td>\n",
       "      <td>retired</td>\n",
       "      <td>divorced</td>\n",
       "      <td>university.degree</td>\n",
       "      <td>no</td>\n",
       "      <td>no</td>\n",
       "      <td>no</td>\n",
       "      <td>cellular</td>\n",
       "      <td>jun</td>\n",
       "      <td>tue</td>\n",
       "      <td>368</td>\n",
       "      <td>2</td>\n",
       "      <td>999</td>\n",
       "      <td>0</td>\n",
       "      <td>nonexistent</td>\n",
       "      <td>no</td>\n",
       "    </tr>\n",
       "    <tr>\n",
       "      <th>...</th>\n",
       "      <td>...</td>\n",
       "      <td>...</td>\n",
       "      <td>...</td>\n",
       "      <td>...</td>\n",
       "      <td>...</td>\n",
       "      <td>...</td>\n",
       "      <td>...</td>\n",
       "      <td>...</td>\n",
       "      <td>...</td>\n",
       "      <td>...</td>\n",
       "      <td>...</td>\n",
       "      <td>...</td>\n",
       "      <td>...</td>\n",
       "      <td>...</td>\n",
       "      <td>...</td>\n",
       "      <td>...</td>\n",
       "    </tr>\n",
       "    <tr>\n",
       "      <th>32945</th>\n",
       "      <td>28</td>\n",
       "      <td>services</td>\n",
       "      <td>single</td>\n",
       "      <td>high.school</td>\n",
       "      <td>no</td>\n",
       "      <td>yes</td>\n",
       "      <td>no</td>\n",
       "      <td>cellular</td>\n",
       "      <td>jul</td>\n",
       "      <td>tue</td>\n",
       "      <td>192</td>\n",
       "      <td>1</td>\n",
       "      <td>999</td>\n",
       "      <td>0</td>\n",
       "      <td>nonexistent</td>\n",
       "      <td>no</td>\n",
       "    </tr>\n",
       "    <tr>\n",
       "      <th>32946</th>\n",
       "      <td>52</td>\n",
       "      <td>technician</td>\n",
       "      <td>married</td>\n",
       "      <td>professional.course</td>\n",
       "      <td>no</td>\n",
       "      <td>yes</td>\n",
       "      <td>no</td>\n",
       "      <td>cellular</td>\n",
       "      <td>nov</td>\n",
       "      <td>fri</td>\n",
       "      <td>64</td>\n",
       "      <td>1</td>\n",
       "      <td>999</td>\n",
       "      <td>1</td>\n",
       "      <td>failure</td>\n",
       "      <td>no</td>\n",
       "    </tr>\n",
       "    <tr>\n",
       "      <th>32947</th>\n",
       "      <td>54</td>\n",
       "      <td>admin.</td>\n",
       "      <td>married</td>\n",
       "      <td>basic.9y</td>\n",
       "      <td>no</td>\n",
       "      <td>no</td>\n",
       "      <td>yes</td>\n",
       "      <td>cellular</td>\n",
       "      <td>jul</td>\n",
       "      <td>mon</td>\n",
       "      <td>131</td>\n",
       "      <td>4</td>\n",
       "      <td>999</td>\n",
       "      <td>0</td>\n",
       "      <td>nonexistent</td>\n",
       "      <td>no</td>\n",
       "    </tr>\n",
       "    <tr>\n",
       "      <th>32948</th>\n",
       "      <td>29</td>\n",
       "      <td>admin.</td>\n",
       "      <td>married</td>\n",
       "      <td>university.degree</td>\n",
       "      <td>no</td>\n",
       "      <td>no</td>\n",
       "      <td>no</td>\n",
       "      <td>telephone</td>\n",
       "      <td>may</td>\n",
       "      <td>fri</td>\n",
       "      <td>165</td>\n",
       "      <td>1</td>\n",
       "      <td>999</td>\n",
       "      <td>0</td>\n",
       "      <td>nonexistent</td>\n",
       "      <td>no</td>\n",
       "    </tr>\n",
       "    <tr>\n",
       "      <th>32949</th>\n",
       "      <td>35</td>\n",
       "      <td>admin.</td>\n",
       "      <td>married</td>\n",
       "      <td>university.degree</td>\n",
       "      <td>no</td>\n",
       "      <td>no</td>\n",
       "      <td>yes</td>\n",
       "      <td>telephone</td>\n",
       "      <td>jun</td>\n",
       "      <td>tue</td>\n",
       "      <td>544</td>\n",
       "      <td>3</td>\n",
       "      <td>999</td>\n",
       "      <td>0</td>\n",
       "      <td>nonexistent</td>\n",
       "      <td>no</td>\n",
       "    </tr>\n",
       "  </tbody>\n",
       "</table>\n",
       "<p>32950 rows × 16 columns</p>\n",
       "</div>"
      ],
      "text/plain": [
       "       age           job   marital            education Credit default  \\\n",
       "0       49   blue-collar   married             basic.9y        unknown   \n",
       "1       37  entrepreneur   married    university.degree             no   \n",
       "2       78       retired   married             basic.4y             no   \n",
       "3       36        admin.   married    university.degree             no   \n",
       "4       59       retired  divorced    university.degree             no   \n",
       "...    ...           ...       ...                  ...            ...   \n",
       "32945   28      services    single          high.school             no   \n",
       "32946   52    technician   married  professional.course             no   \n",
       "32947   54        admin.   married             basic.9y             no   \n",
       "32948   29        admin.   married    university.degree             no   \n",
       "32949   35        admin.   married    university.degree             no   \n",
       "\n",
       "      housing loan loan    contact month day_of_week  last contact duration  \\\n",
       "0               no   no   cellular   nov         wed                    227   \n",
       "1               no   no  telephone   nov         wed                    202   \n",
       "2               no   no   cellular   jul         mon                   1148   \n",
       "3              yes   no  telephone   may         mon                    120   \n",
       "4               no   no   cellular   jun         tue                    368   \n",
       "...            ...  ...        ...   ...         ...                    ...   \n",
       "32945          yes   no   cellular   jul         tue                    192   \n",
       "32946          yes   no   cellular   nov         fri                     64   \n",
       "32947           no  yes   cellular   jul         mon                    131   \n",
       "32948           no   no  telephone   may         fri                    165   \n",
       "32949           no  yes  telephone   jun         tue                    544   \n",
       "\n",
       "       no of contacts performed during the campaign  \\\n",
       "0                                                 4   \n",
       "1                                                 2   \n",
       "2                                                 1   \n",
       "3                                                 2   \n",
       "4                                                 2   \n",
       "...                                             ...   \n",
       "32945                                             1   \n",
       "32946                                             1   \n",
       "32947                                             4   \n",
       "32948                                             1   \n",
       "32949                                             3   \n",
       "\n",
       "       pdays after last contract  No of contacts before campaign  \\\n",
       "0                            999                               0   \n",
       "1                            999                               1   \n",
       "2                            999                               0   \n",
       "3                            999                               0   \n",
       "4                            999                               0   \n",
       "...                          ...                             ...   \n",
       "32945                        999                               0   \n",
       "32946                        999                               1   \n",
       "32947                        999                               0   \n",
       "32948                        999                               0   \n",
       "32949                        999                               0   \n",
       "\n",
       "      Outcome of previous campaign Client subscribed or not  \n",
       "0                      nonexistent                       no  \n",
       "1                          failure                       no  \n",
       "2                      nonexistent                      yes  \n",
       "3                      nonexistent                       no  \n",
       "4                      nonexistent                       no  \n",
       "...                            ...                      ...  \n",
       "32945                  nonexistent                       no  \n",
       "32946                      failure                       no  \n",
       "32947                  nonexistent                       no  \n",
       "32948                  nonexistent                       no  \n",
       "32949                  nonexistent                       no  \n",
       "\n",
       "[32950 rows x 16 columns]"
      ]
     },
     "execution_count": 4,
     "metadata": {},
     "output_type": "execute_result"
    }
   ],
   "source": [
    "bank"
   ]
  },
  {
   "cell_type": "code",
   "execution_count": 5,
   "metadata": {},
   "outputs": [
    {
     "data": {
      "text/html": [
       "<div>\n",
       "<style scoped>\n",
       "    .dataframe tbody tr th:only-of-type {\n",
       "        vertical-align: middle;\n",
       "    }\n",
       "\n",
       "    .dataframe tbody tr th {\n",
       "        vertical-align: top;\n",
       "    }\n",
       "\n",
       "    .dataframe thead th {\n",
       "        text-align: right;\n",
       "    }\n",
       "</style>\n",
       "<table border=\"1\" class=\"dataframe\">\n",
       "  <thead>\n",
       "    <tr style=\"text-align: right;\">\n",
       "      <th></th>\n",
       "      <th>age</th>\n",
       "      <th>job</th>\n",
       "      <th>marital</th>\n",
       "      <th>education</th>\n",
       "      <th>Credit default</th>\n",
       "      <th>housing loan</th>\n",
       "      <th>loan</th>\n",
       "      <th>contact</th>\n",
       "      <th>month</th>\n",
       "      <th>day_of_week</th>\n",
       "      <th>last contact duration</th>\n",
       "      <th>no of contacts performed during the campaign</th>\n",
       "      <th>pdays after last contract</th>\n",
       "      <th>No of contacts before campaign</th>\n",
       "      <th>Outcome of previous campaign</th>\n",
       "      <th>Client subscribed or not</th>\n",
       "    </tr>\n",
       "  </thead>\n",
       "  <tbody>\n",
       "    <tr>\n",
       "      <th>0</th>\n",
       "      <td>49</td>\n",
       "      <td>blue-collar</td>\n",
       "      <td>married</td>\n",
       "      <td>basic.9y</td>\n",
       "      <td>unknown</td>\n",
       "      <td>no</td>\n",
       "      <td>no</td>\n",
       "      <td>cellular</td>\n",
       "      <td>nov</td>\n",
       "      <td>wed</td>\n",
       "      <td>227</td>\n",
       "      <td>4</td>\n",
       "      <td>999</td>\n",
       "      <td>0</td>\n",
       "      <td>nonexistent</td>\n",
       "      <td>no</td>\n",
       "    </tr>\n",
       "    <tr>\n",
       "      <th>1</th>\n",
       "      <td>37</td>\n",
       "      <td>entrepreneur</td>\n",
       "      <td>married</td>\n",
       "      <td>university.degree</td>\n",
       "      <td>no</td>\n",
       "      <td>no</td>\n",
       "      <td>no</td>\n",
       "      <td>telephone</td>\n",
       "      <td>nov</td>\n",
       "      <td>wed</td>\n",
       "      <td>202</td>\n",
       "      <td>2</td>\n",
       "      <td>999</td>\n",
       "      <td>1</td>\n",
       "      <td>failure</td>\n",
       "      <td>no</td>\n",
       "    </tr>\n",
       "    <tr>\n",
       "      <th>2</th>\n",
       "      <td>78</td>\n",
       "      <td>retired</td>\n",
       "      <td>married</td>\n",
       "      <td>basic.4y</td>\n",
       "      <td>no</td>\n",
       "      <td>no</td>\n",
       "      <td>no</td>\n",
       "      <td>cellular</td>\n",
       "      <td>jul</td>\n",
       "      <td>mon</td>\n",
       "      <td>1148</td>\n",
       "      <td>1</td>\n",
       "      <td>999</td>\n",
       "      <td>0</td>\n",
       "      <td>nonexistent</td>\n",
       "      <td>yes</td>\n",
       "    </tr>\n",
       "    <tr>\n",
       "      <th>3</th>\n",
       "      <td>36</td>\n",
       "      <td>admin.</td>\n",
       "      <td>married</td>\n",
       "      <td>university.degree</td>\n",
       "      <td>no</td>\n",
       "      <td>yes</td>\n",
       "      <td>no</td>\n",
       "      <td>telephone</td>\n",
       "      <td>may</td>\n",
       "      <td>mon</td>\n",
       "      <td>120</td>\n",
       "      <td>2</td>\n",
       "      <td>999</td>\n",
       "      <td>0</td>\n",
       "      <td>nonexistent</td>\n",
       "      <td>no</td>\n",
       "    </tr>\n",
       "    <tr>\n",
       "      <th>4</th>\n",
       "      <td>59</td>\n",
       "      <td>retired</td>\n",
       "      <td>divorced</td>\n",
       "      <td>university.degree</td>\n",
       "      <td>no</td>\n",
       "      <td>no</td>\n",
       "      <td>no</td>\n",
       "      <td>cellular</td>\n",
       "      <td>jun</td>\n",
       "      <td>tue</td>\n",
       "      <td>368</td>\n",
       "      <td>2</td>\n",
       "      <td>999</td>\n",
       "      <td>0</td>\n",
       "      <td>nonexistent</td>\n",
       "      <td>no</td>\n",
       "    </tr>\n",
       "  </tbody>\n",
       "</table>\n",
       "</div>"
      ],
      "text/plain": [
       "   age           job   marital          education Credit default housing loan  \\\n",
       "0   49   blue-collar   married           basic.9y        unknown           no   \n",
       "1   37  entrepreneur   married  university.degree             no           no   \n",
       "2   78       retired   married           basic.4y             no           no   \n",
       "3   36        admin.   married  university.degree             no          yes   \n",
       "4   59       retired  divorced  university.degree             no           no   \n",
       "\n",
       "  loan    contact month day_of_week  last contact duration  \\\n",
       "0   no   cellular   nov         wed                    227   \n",
       "1   no  telephone   nov         wed                    202   \n",
       "2   no   cellular   jul         mon                   1148   \n",
       "3   no  telephone   may         mon                    120   \n",
       "4   no   cellular   jun         tue                    368   \n",
       "\n",
       "   no of contacts performed during the campaign  pdays after last contract  \\\n",
       "0                                             4                        999   \n",
       "1                                             2                        999   \n",
       "2                                             1                        999   \n",
       "3                                             2                        999   \n",
       "4                                             2                        999   \n",
       "\n",
       "   No of contacts before campaign Outcome of previous campaign  \\\n",
       "0                               0                  nonexistent   \n",
       "1                               1                      failure   \n",
       "2                               0                  nonexistent   \n",
       "3                               0                  nonexistent   \n",
       "4                               0                  nonexistent   \n",
       "\n",
       "  Client subscribed or not  \n",
       "0                       no  \n",
       "1                       no  \n",
       "2                      yes  \n",
       "3                       no  \n",
       "4                       no  "
      ]
     },
     "execution_count": 5,
     "metadata": {},
     "output_type": "execute_result"
    }
   ],
   "source": [
    "bank.head()"
   ]
  },
  {
   "cell_type": "code",
   "execution_count": 6,
   "metadata": {},
   "outputs": [
    {
     "data": {
      "text/html": [
       "<div>\n",
       "<style scoped>\n",
       "    .dataframe tbody tr th:only-of-type {\n",
       "        vertical-align: middle;\n",
       "    }\n",
       "\n",
       "    .dataframe tbody tr th {\n",
       "        vertical-align: top;\n",
       "    }\n",
       "\n",
       "    .dataframe thead th {\n",
       "        text-align: right;\n",
       "    }\n",
       "</style>\n",
       "<table border=\"1\" class=\"dataframe\">\n",
       "  <thead>\n",
       "    <tr style=\"text-align: right;\">\n",
       "      <th></th>\n",
       "      <th>age</th>\n",
       "      <th>job</th>\n",
       "      <th>marital</th>\n",
       "      <th>education</th>\n",
       "      <th>Credit default</th>\n",
       "      <th>housing loan</th>\n",
       "      <th>loan</th>\n",
       "      <th>contact</th>\n",
       "      <th>month</th>\n",
       "      <th>day_of_week</th>\n",
       "      <th>last contact duration</th>\n",
       "      <th>no of contacts performed during the campaign</th>\n",
       "      <th>pdays after last contract</th>\n",
       "      <th>No of contacts before campaign</th>\n",
       "      <th>Outcome of previous campaign</th>\n",
       "      <th>Client subscribed or not</th>\n",
       "    </tr>\n",
       "  </thead>\n",
       "  <tbody>\n",
       "    <tr>\n",
       "      <th>32945</th>\n",
       "      <td>28</td>\n",
       "      <td>services</td>\n",
       "      <td>single</td>\n",
       "      <td>high.school</td>\n",
       "      <td>no</td>\n",
       "      <td>yes</td>\n",
       "      <td>no</td>\n",
       "      <td>cellular</td>\n",
       "      <td>jul</td>\n",
       "      <td>tue</td>\n",
       "      <td>192</td>\n",
       "      <td>1</td>\n",
       "      <td>999</td>\n",
       "      <td>0</td>\n",
       "      <td>nonexistent</td>\n",
       "      <td>no</td>\n",
       "    </tr>\n",
       "    <tr>\n",
       "      <th>32946</th>\n",
       "      <td>52</td>\n",
       "      <td>technician</td>\n",
       "      <td>married</td>\n",
       "      <td>professional.course</td>\n",
       "      <td>no</td>\n",
       "      <td>yes</td>\n",
       "      <td>no</td>\n",
       "      <td>cellular</td>\n",
       "      <td>nov</td>\n",
       "      <td>fri</td>\n",
       "      <td>64</td>\n",
       "      <td>1</td>\n",
       "      <td>999</td>\n",
       "      <td>1</td>\n",
       "      <td>failure</td>\n",
       "      <td>no</td>\n",
       "    </tr>\n",
       "    <tr>\n",
       "      <th>32947</th>\n",
       "      <td>54</td>\n",
       "      <td>admin.</td>\n",
       "      <td>married</td>\n",
       "      <td>basic.9y</td>\n",
       "      <td>no</td>\n",
       "      <td>no</td>\n",
       "      <td>yes</td>\n",
       "      <td>cellular</td>\n",
       "      <td>jul</td>\n",
       "      <td>mon</td>\n",
       "      <td>131</td>\n",
       "      <td>4</td>\n",
       "      <td>999</td>\n",
       "      <td>0</td>\n",
       "      <td>nonexistent</td>\n",
       "      <td>no</td>\n",
       "    </tr>\n",
       "    <tr>\n",
       "      <th>32948</th>\n",
       "      <td>29</td>\n",
       "      <td>admin.</td>\n",
       "      <td>married</td>\n",
       "      <td>university.degree</td>\n",
       "      <td>no</td>\n",
       "      <td>no</td>\n",
       "      <td>no</td>\n",
       "      <td>telephone</td>\n",
       "      <td>may</td>\n",
       "      <td>fri</td>\n",
       "      <td>165</td>\n",
       "      <td>1</td>\n",
       "      <td>999</td>\n",
       "      <td>0</td>\n",
       "      <td>nonexistent</td>\n",
       "      <td>no</td>\n",
       "    </tr>\n",
       "    <tr>\n",
       "      <th>32949</th>\n",
       "      <td>35</td>\n",
       "      <td>admin.</td>\n",
       "      <td>married</td>\n",
       "      <td>university.degree</td>\n",
       "      <td>no</td>\n",
       "      <td>no</td>\n",
       "      <td>yes</td>\n",
       "      <td>telephone</td>\n",
       "      <td>jun</td>\n",
       "      <td>tue</td>\n",
       "      <td>544</td>\n",
       "      <td>3</td>\n",
       "      <td>999</td>\n",
       "      <td>0</td>\n",
       "      <td>nonexistent</td>\n",
       "      <td>no</td>\n",
       "    </tr>\n",
       "  </tbody>\n",
       "</table>\n",
       "</div>"
      ],
      "text/plain": [
       "       age         job  marital            education Credit default  \\\n",
       "32945   28    services   single          high.school             no   \n",
       "32946   52  technician  married  professional.course             no   \n",
       "32947   54      admin.  married             basic.9y             no   \n",
       "32948   29      admin.  married    university.degree             no   \n",
       "32949   35      admin.  married    university.degree             no   \n",
       "\n",
       "      housing loan loan    contact month day_of_week  last contact duration  \\\n",
       "32945          yes   no   cellular   jul         tue                    192   \n",
       "32946          yes   no   cellular   nov         fri                     64   \n",
       "32947           no  yes   cellular   jul         mon                    131   \n",
       "32948           no   no  telephone   may         fri                    165   \n",
       "32949           no  yes  telephone   jun         tue                    544   \n",
       "\n",
       "       no of contacts performed during the campaign  \\\n",
       "32945                                             1   \n",
       "32946                                             1   \n",
       "32947                                             4   \n",
       "32948                                             1   \n",
       "32949                                             3   \n",
       "\n",
       "       pdays after last contract  No of contacts before campaign  \\\n",
       "32945                        999                               0   \n",
       "32946                        999                               1   \n",
       "32947                        999                               0   \n",
       "32948                        999                               0   \n",
       "32949                        999                               0   \n",
       "\n",
       "      Outcome of previous campaign Client subscribed or not  \n",
       "32945                  nonexistent                       no  \n",
       "32946                      failure                       no  \n",
       "32947                  nonexistent                       no  \n",
       "32948                  nonexistent                       no  \n",
       "32949                  nonexistent                       no  "
      ]
     },
     "execution_count": 6,
     "metadata": {},
     "output_type": "execute_result"
    }
   ],
   "source": [
    "bank.tail()"
   ]
  },
  {
   "cell_type": "markdown",
   "metadata": {},
   "source": [
    "# EXPLORATORY DATA ANALYSIS"
   ]
  },
  {
   "cell_type": "code",
   "execution_count": 7,
   "metadata": {},
   "outputs": [
    {
     "data": {
      "text/plain": [
       "(32950, 16)"
      ]
     },
     "execution_count": 7,
     "metadata": {},
     "output_type": "execute_result"
    }
   ],
   "source": [
    "bank.shape"
   ]
  },
  {
   "cell_type": "code",
   "execution_count": 8,
   "metadata": {},
   "outputs": [
    {
     "data": {
      "text/plain": [
       "Index(['age', 'job', 'marital', 'education', 'Credit default', 'housing loan',\n",
       "       'loan', 'contact', 'month', 'day_of_week', 'last contact duration',\n",
       "       'no of contacts performed during the campaign',\n",
       "       'pdays after last contract', 'No of contacts before campaign',\n",
       "       'Outcome of previous campaign', 'Client subscribed or not'],\n",
       "      dtype='object')"
      ]
     },
     "execution_count": 8,
     "metadata": {},
     "output_type": "execute_result"
    }
   ],
   "source": [
    "bank.columns"
   ]
  },
  {
   "cell_type": "code",
   "execution_count": 9,
   "metadata": {},
   "outputs": [
    {
     "data": {
      "text/plain": [
       "age                                              int64\n",
       "job                                             object\n",
       "marital                                         object\n",
       "education                                       object\n",
       "Credit default                                  object\n",
       "housing loan                                    object\n",
       "loan                                            object\n",
       "contact                                         object\n",
       "month                                           object\n",
       "day_of_week                                     object\n",
       "last contact duration                            int64\n",
       "no of contacts performed during the campaign     int64\n",
       "pdays after last contract                        int64\n",
       "No of contacts before campaign                   int64\n",
       "Outcome of previous campaign                    object\n",
       "Client subscribed or not                        object\n",
       "dtype: object"
      ]
     },
     "execution_count": 9,
     "metadata": {},
     "output_type": "execute_result"
    }
   ],
   "source": [
    "bank.dtypes"
   ]
  },
  {
   "cell_type": "code",
   "execution_count": 10,
   "metadata": {},
   "outputs": [
    {
     "data": {
      "text/plain": [
       "age                                             0\n",
       "job                                             0\n",
       "marital                                         0\n",
       "education                                       0\n",
       "Credit default                                  0\n",
       "housing loan                                    0\n",
       "loan                                            0\n",
       "contact                                         0\n",
       "month                                           0\n",
       "day_of_week                                     0\n",
       "last contact duration                           0\n",
       "no of contacts performed during the campaign    0\n",
       "pdays after last contract                       0\n",
       "No of contacts before campaign                  0\n",
       "Outcome of previous campaign                    0\n",
       "Client subscribed or not                        0\n",
       "dtype: int64"
      ]
     },
     "execution_count": 10,
     "metadata": {},
     "output_type": "execute_result"
    }
   ],
   "source": [
    "bank.isnull().sum()# so no null values present in the dataset"
   ]
  },
  {
   "cell_type": "code",
   "execution_count": 11,
   "metadata": {},
   "outputs": [
    {
     "data": {
      "text/plain": [
       "0"
      ]
     },
     "execution_count": 11,
     "metadata": {},
     "output_type": "execute_result"
    }
   ],
   "source": [
    "bank.isnull().sum().sum()"
   ]
  },
  {
   "cell_type": "code",
   "execution_count": 12,
   "metadata": {},
   "outputs": [
    {
     "name": "stdout",
     "output_type": "stream",
     "text": [
      "<class 'pandas.core.frame.DataFrame'>\n",
      "RangeIndex: 32950 entries, 0 to 32949\n",
      "Data columns (total 16 columns):\n",
      " #   Column                                        Non-Null Count  Dtype \n",
      "---  ------                                        --------------  ----- \n",
      " 0   age                                           32950 non-null  int64 \n",
      " 1   job                                           32950 non-null  object\n",
      " 2   marital                                       32950 non-null  object\n",
      " 3   education                                     32950 non-null  object\n",
      " 4   Credit default                                32950 non-null  object\n",
      " 5   housing loan                                  32950 non-null  object\n",
      " 6   loan                                          32950 non-null  object\n",
      " 7   contact                                       32950 non-null  object\n",
      " 8   month                                         32950 non-null  object\n",
      " 9   day_of_week                                   32950 non-null  object\n",
      " 10  last contact duration                         32950 non-null  int64 \n",
      " 11  no of contacts performed during the campaign  32950 non-null  int64 \n",
      " 12  pdays after last contract                     32950 non-null  int64 \n",
      " 13  No of contacts before campaign                32950 non-null  int64 \n",
      " 14  Outcome of previous campaign                  32950 non-null  object\n",
      " 15  Client subscribed or not                      32950 non-null  object\n",
      "dtypes: int64(5), object(11)\n",
      "memory usage: 4.0+ MB\n"
     ]
    }
   ],
   "source": [
    "bank.info()"
   ]
  },
  {
   "cell_type": "code",
   "execution_count": 13,
   "metadata": {},
   "outputs": [
    {
     "data": {
      "text/plain": [
       "<AxesSubplot:>"
      ]
     },
     "execution_count": 13,
     "metadata": {},
     "output_type": "execute_result"
    },
    {
     "data": {
      "image/png": "[encoded data removed]",
      "text/plain": [
       "<Figure size 432x288 with 2 Axes>"
      ]
     },
     "metadata": {
      "needs_background": "light"
     },
     "output_type": "display_data"
    }
   ],
   "source": [
    "#lets visualize it using heatmap\n",
    "sns.heatmap(bank.isnull())"
   ]
  },
  {
   "cell_type": "code",
   "execution_count": 14,
   "metadata": {},
   "outputs": [
    {
     "name": "stdout",
     "output_type": "stream",
     "text": [
      "31    1551\n",
      "32    1474\n",
      "33    1443\n",
      "35    1417\n",
      "34    1404\n",
      "      ... \n",
      "17       3\n",
      "89       2\n",
      "98       1\n",
      "87       1\n",
      "91       1\n",
      "Name: age, Length: 75, dtype: int64\n",
      "\n",
      "\n",
      "admin.           8314\n",
      "blue-collar      7441\n",
      "technician       5400\n",
      "services         3196\n",
      "management       2345\n",
      "retired          1366\n",
      "entrepreneur     1160\n",
      "self-employed    1099\n",
      "housemaid         855\n",
      "unemployed        798\n",
      "student           711\n",
      "unknown           265\n",
      "Name: job, dtype: int64\n",
      "\n",
      "\n",
      "married     19953\n",
      "single       9257\n",
      "divorced     3675\n",
      "unknown        65\n",
      "Name: marital, dtype: int64\n",
      "\n",
      "\n",
      "university.degree      9736\n",
      "high.school            7596\n",
      "basic.9y               4826\n",
      "professional.course    4192\n",
      "basic.4y               3322\n",
      "basic.6y               1865\n",
      "unknown                1397\n",
      "illiterate               16\n",
      "Name: education, dtype: int64\n",
      "\n",
      "\n",
      "no         26007\n",
      "unknown     6940\n",
      "yes            3\n",
      "Name: Credit default, dtype: int64\n",
      "\n",
      "\n",
      "yes        17254\n",
      "no         14900\n",
      "unknown      796\n",
      "Name: housing loan, dtype: int64\n",
      "\n",
      "\n",
      "no         27131\n",
      "yes         5023\n",
      "unknown      796\n",
      "Name: loan, dtype: int64\n",
      "\n",
      "\n",
      "cellular     20908\n",
      "telephone    12042\n",
      "Name: contact, dtype: int64\n",
      "\n",
      "\n",
      "may    11011\n",
      "jul     5763\n",
      "aug     4948\n",
      "jun     4247\n",
      "nov     3266\n",
      "apr     2085\n",
      "oct      587\n",
      "sep      464\n",
      "mar      436\n",
      "dec      143\n",
      "Name: month, dtype: int64\n",
      "\n",
      "\n",
      "thu    6857\n",
      "mon    6812\n",
      "wed    6515\n",
      "tue    6444\n",
      "fri    6322\n",
      "Name: day_of_week, dtype: int64\n",
      "\n",
      "\n",
      "90      147\n",
      "124     139\n",
      "136     138\n",
      "85      137\n",
      "82      133\n",
      "       ... \n",
      "1492      1\n",
      "3509      1\n",
      "1460      1\n",
      "1364      1\n",
      "2015      1\n",
      "Name: last contact duration, Length: 1467, dtype: int64\n",
      "\n",
      "\n",
      "1     14121\n",
      "2      8469\n",
      "3      4300\n",
      "4      2116\n",
      "5      1255\n",
      "6       773\n",
      "7       493\n",
      "8       329\n",
      "9       220\n",
      "10      187\n",
      "11      142\n",
      "12       92\n",
      "13       74\n",
      "14       52\n",
      "17       51\n",
      "15       45\n",
      "16       42\n",
      "18       27\n",
      "20       22\n",
      "21       20\n",
      "19       16\n",
      "22       13\n",
      "23       12\n",
      "24       12\n",
      "27        9\n",
      "25        8\n",
      "31        7\n",
      "26        7\n",
      "29        7\n",
      "30        6\n",
      "28        6\n",
      "35        4\n",
      "33        3\n",
      "42        2\n",
      "43        2\n",
      "32        2\n",
      "40        1\n",
      "37        1\n",
      "56        1\n",
      "34        1\n",
      "Name: no of contacts performed during the campaign, dtype: int64\n",
      "\n",
      "\n",
      "999    31724\n",
      "3        355\n",
      "6        337\n",
      "4         97\n",
      "2         52\n",
      "7         47\n",
      "9         45\n",
      "10        43\n",
      "12        40\n",
      "5         40\n",
      "13        28\n",
      "1         22\n",
      "15        21\n",
      "11        21\n",
      "14        18\n",
      "8         14\n",
      "0         12\n",
      "16         9\n",
      "17         8\n",
      "18         6\n",
      "22         3\n",
      "19         2\n",
      "21         2\n",
      "26         1\n",
      "20         1\n",
      "25         1\n",
      "27         1\n",
      "Name: pdays after last contract, dtype: int64\n",
      "\n",
      "\n",
      "0    28416\n",
      "1     3673\n",
      "2      606\n",
      "3      175\n",
      "4       60\n",
      "5       14\n",
      "6        5\n",
      "7        1\n",
      "Name: No of contacts before campaign, dtype: int64\n",
      "\n",
      "\n",
      "nonexistent    28416\n",
      "failure         3429\n",
      "success         1105\n",
      "Name: Outcome of previous campaign, dtype: int64\n",
      "\n",
      "\n",
      "no     29238\n",
      "yes     3712\n",
      "Name: Client subscribed or not, dtype: int64\n",
      "\n",
      "\n"
     ]
    }
   ],
   "source": [
    "#checking tha value counts of each column\n",
    "for i in bank.columns:\n",
    "    print(bank[i].value_counts())\n",
    "    print(\"\\n\")\n",
    "# no blanks in any column    \n"
   ]
  },
  {
   "cell_type": "markdown",
   "metadata": {},
   "source": [
    "# Univariate Analysis"
   ]
  },
  {
   "cell_type": "code",
   "execution_count": 15,
   "metadata": {},
   "outputs": [
    {
     "name": "stdout",
     "output_type": "stream",
     "text": [
      "no     29238\n",
      "yes     3712\n",
      "Name: Client subscribed or not, dtype: int64\n"
     ]
    },
    {
     "data": {
      "image/png": "[encoded data removed]",
      "text/plain": [
       "<Figure size 432x288 with 1 Axes>"
      ]
     },
     "metadata": {
      "needs_background": "light"
     },
     "output_type": "display_data"
    }
   ],
   "source": [
    "sns.countplot(x=\"Client subscribed or not\",data=bank)\n",
    "print(bank[\"Client subscribed or not\"].value_counts())"
   ]
  },
  {
   "cell_type": "code",
   "execution_count": 16,
   "metadata": {},
   "outputs": [
    {
     "name": "stdout",
     "output_type": "stream",
     "text": [
      "nonexistent    28416\n",
      "failure         3429\n",
      "success         1105\n",
      "Name: Outcome of previous campaign, dtype: int64\n"
     ]
    },
    {
     "data": {
      "image/png": "[encoded data removed]",
      "text/plain": [
       "<Figure size 432x288 with 1 Axes>"
      ]
     },
     "metadata": {
      "needs_background": "light"
     },
     "output_type": "display_data"
    }
   ],
   "source": [
    "sns.countplot(x=\"Outcome of previous campaign\",data=bank)\n",
    "print(bank[\"Outcome of previous campaign\"].value_counts())"
   ]
  },
  {
   "cell_type": "code",
   "execution_count": 17,
   "metadata": {},
   "outputs": [
    {
     "name": "stdout",
     "output_type": "stream",
     "text": [
      "0    28416\n",
      "1     3673\n",
      "2      606\n",
      "3      175\n",
      "4       60\n",
      "5       14\n",
      "6        5\n",
      "7        1\n",
      "Name: No of contacts before campaign, dtype: int64\n"
     ]
    },
    {
     "data": {
      "image/png": "[encoded data removed]",
      "text/plain": [
       "<Figure size 432x288 with 1 Axes>"
      ]
     },
     "metadata": {
      "needs_background": "light"
     },
     "output_type": "display_data"
    }
   ],
   "source": [
    "sns.countplot(x=\"No of contacts before campaign\",data=bank)\n",
    "print(bank[\"No of contacts before campaign\"].value_counts())"
   ]
  },
  {
   "cell_type": "code",
   "execution_count": 18,
   "metadata": {},
   "outputs": [
    {
     "name": "stdout",
     "output_type": "stream",
     "text": [
      "cellular     20908\n",
      "telephone    12042\n",
      "Name: contact, dtype: int64\n"
     ]
    },
    {
     "data": {
      "image/png": "[encoded data removed]",
      "text/plain": [
       "<Figure size 432x288 with 1 Axes>"
      ]
     },
     "metadata": {
      "needs_background": "light"
     },
     "output_type": "display_data"
    }
   ],
   "source": [
    "sns.countplot(x=\"contact\",data=bank)\n",
    "print(bank[\"contact\"].value_counts())"
   ]
  },
  {
   "cell_type": "code",
   "execution_count": 19,
   "metadata": {},
   "outputs": [
    {
     "name": "stdout",
     "output_type": "stream",
     "text": [
      "yes        17254\n",
      "no         14900\n",
      "unknown      796\n",
      "Name: housing loan, dtype: int64\n"
     ]
    },
    {
     "data": {
      "image/png": "[encoded data removed]",
      "text/plain": [
       "<Figure size 432x288 with 1 Axes>"
      ]
     },
     "metadata": {
      "needs_background": "light"
     },
     "output_type": "display_data"
    }
   ],
   "source": [
    "sns.countplot(x=\"housing loan\",data=bank)\n",
    "print(bank[\"housing loan\"].value_counts())"
   ]
  },
  {
   "cell_type": "code",
   "execution_count": 20,
   "metadata": {},
   "outputs": [
    {
     "name": "stdout",
     "output_type": "stream",
     "text": [
      "no         26007\n",
      "unknown     6940\n",
      "yes            3\n",
      "Name: Credit default, dtype: int64\n"
     ]
    },
    {
     "data": {
      "image/png": "[encoded data removed]",
      "text/plain": [
       "<Figure size 432x288 with 1 Axes>"
      ]
     },
     "metadata": {
      "needs_background": "light"
     },
     "output_type": "display_data"
    }
   ],
   "source": [
    "sns.countplot(x=\"Credit default\",data=bank)\n",
    "print(bank[\"Credit default\"].value_counts())"
   ]
  },
  {
   "cell_type": "code",
   "execution_count": 21,
   "metadata": {},
   "outputs": [
    {
     "name": "stdout",
     "output_type": "stream",
     "text": [
      "university.degree      9736\n",
      "high.school            7596\n",
      "basic.9y               4826\n",
      "professional.course    4192\n",
      "basic.4y               3322\n",
      "basic.6y               1865\n",
      "unknown                1397\n",
      "illiterate               16\n",
      "Name: education, dtype: int64\n"
     ]
    },
    {
     "data": {
      "image/png": "[encoded data removed]",
      "text/plain": [
       "<Figure size 432x288 with 1 Axes>"
      ]
     },
     "metadata": {
      "needs_background": "light"
     },
     "output_type": "display_data"
    }
   ],
   "source": [
    "sns.countplot(x=\"education\",data=bank)\n",
    "print(bank[\"education\"].value_counts())"
   ]
  },
  {
   "cell_type": "code",
   "execution_count": 22,
   "metadata": {},
   "outputs": [
    {
     "name": "stdout",
     "output_type": "stream",
     "text": [
      "married     19953\n",
      "single       9257\n",
      "divorced     3675\n",
      "unknown        65\n",
      "Name: marital, dtype: int64\n"
     ]
    },
    {
     "data": {
      "image/png": "[encoded data removed]",
      "text/plain": [
       "<Figure size 432x288 with 1 Axes>"
      ]
     },
     "metadata": {
      "needs_background": "light"
     },
     "output_type": "display_data"
    }
   ],
   "source": [
    "sns.countplot(x=\"marital\",data=bank)\n",
    "print(bank[\"marital\"].value_counts())"
   ]
  },
  {
   "cell_type": "code",
   "execution_count": 23,
   "metadata": {},
   "outputs": [
    {
     "name": "stdout",
     "output_type": "stream",
     "text": [
      "admin.           8314\n",
      "blue-collar      7441\n",
      "technician       5400\n",
      "services         3196\n",
      "management       2345\n",
      "retired          1366\n",
      "entrepreneur     1160\n",
      "self-employed    1099\n",
      "housemaid         855\n",
      "unemployed        798\n",
      "student           711\n",
      "unknown           265\n",
      "Name: job, dtype: int64\n"
     ]
    },
    {
     "data": {
      "image/png": "[encoded data removed]",
      "text/plain": [
       "<Figure size 432x288 with 1 Axes>"
      ]
     },
     "metadata": {
      "needs_background": "light"
     },
     "output_type": "display_data"
    }
   ],
   "source": [
    "sns.countplot(x=\"job\",data=bank)\n",
    "print(bank[\"job\"].value_counts())"
   ]
  },
  {
   "cell_type": "markdown",
   "metadata": {},
   "source": [
    "# Bivariate Analysis"
   ]
  },
  {
   "cell_type": "code",
   "execution_count": 24,
   "metadata": {},
   "outputs": [
    {
     "data": {
      "text/plain": [
       "<AxesSubplot:title={'center':'Comparision between age and job'}, xlabel='job', ylabel='age'>"
      ]
     },
     "execution_count": 24,
     "metadata": {},
     "output_type": "execute_result"
    },
    {
     "data": {
      "image/png": "[encoded data removed]",
      "text/plain": [
       "<Figure size 432x288 with 1 Axes>"
      ]
     },
     "metadata": {
      "needs_background": "light"
     },
     "output_type": "display_data"
    }
   ],
   "source": [
    "#Comparison between Age and other variables\n",
    "plt.title(\"Comparision between age and job\")\n",
    "sns.stripplot(x=\"job\",y=\"age\",data=bank)\n"
   ]
  },
  {
   "cell_type": "code",
   "execution_count": 25,
   "metadata": {},
   "outputs": [
    {
     "data": {
      "text/plain": [
       "<AxesSubplot:title={'center':'Comparision between age and marital'}, xlabel='marital', ylabel='age'>"
      ]
     },
     "execution_count": 25,
     "metadata": {},
     "output_type": "execute_result"
    },
    {
     "data": {
      "image/png": "[encoded data removed]",
      "text/plain": [
       "<Figure size 432x288 with 1 Axes>"
      ]
     },
     "metadata": {
      "needs_background": "light"
     },
     "output_type": "display_data"
    }
   ],
   "source": [
    "plt.title(\"Comparision between age and marital\")\n",
    "sns.stripplot(x=\"marital\",y=\"age\",data=bank)"
   ]
  },
  {
   "cell_type": "code",
   "execution_count": 26,
   "metadata": {},
   "outputs": [
    {
     "data": {
      "text/plain": [
       "<AxesSubplot:title={'center':'Comparision between age and Credit default '}, xlabel='Credit default', ylabel='age'>"
      ]
     },
     "execution_count": 26,
     "metadata": {},
     "output_type": "execute_result"
    },
    {
     "data": {
      "image/png": "[encoded data removed]",
      "text/plain": [
       "<Figure size 432x288 with 1 Axes>"
      ]
     },
     "metadata": {
      "needs_background": "light"
     },
     "output_type": "display_data"
    }
   ],
   "source": [
    "plt.title(\"Comparision between age and Credit default \")\n",
    "sns.stripplot(x=\"Credit default\",y=\"age\",data=bank)"
   ]
  },
  {
   "cell_type": "code",
   "execution_count": 27,
   "metadata": {},
   "outputs": [
    {
     "data": {
      "text/plain": [
       "<AxesSubplot:title={'center':'Comparision between age and Credit default '}, xlabel='housing loan', ylabel='age'>"
      ]
     },
     "execution_count": 27,
     "metadata": {},
     "output_type": "execute_result"
    },
    {
     "data": {
      "image/png": "[encoded data removed]",
      "text/plain": [
       "<Figure size 432x288 with 1 Axes>"
      ]
     },
     "metadata": {
      "needs_background": "light"
     },
     "output_type": "display_data"
    }
   ],
   "source": [
    "plt.title(\"Comparision between age and Credit default \")\n",
    "sns.stripplot(x=\"housing loan\",y=\"age\",data=bank)"
   ]
  },
  {
   "cell_type": "code",
   "execution_count": 28,
   "metadata": {},
   "outputs": [
    {
     "data": {
      "text/plain": [
       "<AxesSubplot:title={'center':'Comparision between age and Credit default '}, xlabel='loan', ylabel='age'>"
      ]
     },
     "execution_count": 28,
     "metadata": {},
     "output_type": "execute_result"
    },
    {
     "data": {
      "image/png": "[encoded data removed]",
      "text/plain": [
       "<Figure size 432x288 with 1 Axes>"
      ]
     },
     "metadata": {
      "needs_background": "light"
     },
     "output_type": "display_data"
    }
   ],
   "source": [
    "plt.title(\"Comparision between age and Credit default \")\n",
    "sns.stripplot(x=\"loan\",y=\"age\",data=bank)"
   ]
  },
  {
   "cell_type": "code",
   "execution_count": 29,
   "metadata": {},
   "outputs": [
    {
     "data": {
      "text/plain": [
       "<AxesSubplot:title={'center':'comparing no of contacts performed before campaign and during the campaign'}, xlabel='no of contacts performed during the campaign', ylabel='No of contacts before campaign'>"
      ]
     },
     "execution_count": 29,
     "metadata": {},
     "output_type": "execute_result"
    },
    {
     "data": {
      "image/png": "[encoded data removed]",
      "text/plain": [
       "<Figure size 432x288 with 1 Axes>"
      ]
     },
     "metadata": {
      "needs_background": "light"
     },
     "output_type": "display_data"
    }
   ],
   "source": [
    "plt.title(\"comparing no of contacts performed before campaign and during the campaign\")\n",
    "sns.scatterplot(x=\"no of contacts performed during the campaign\",y=\"No of contacts before campaign\",data=bank,hue=\"Client subscribed or not\",palette=\"bright\")"
   ]
  },
  {
   "cell_type": "code",
   "execution_count": 30,
   "metadata": {},
   "outputs": [
    {
     "data": {
      "image/png": "[encoded data removed]",
      "text/plain": [
       "<Figure size 720x360 with 2 Axes>"
      ]
     },
     "metadata": {
      "needs_background": "light"
     },
     "output_type": "display_data"
    }
   ],
   "source": [
    "sns.catplot(x=\"loan\",col=\"Client subscribed or not\",palette=\"icefire\",kind=\"count\",data=bank)\n",
    "plt.show()#most of the person who have not subscribed for the new insurance have not taken any loan"
   ]
  },
  {
   "cell_type": "code",
   "execution_count": 31,
   "metadata": {},
   "outputs": [
    {
     "data": {
      "image/png": "[encoded data removed]",
      "text/plain": [
       "<Figure size 720x360 with 2 Axes>"
      ]
     },
     "metadata": {
      "needs_background": "light"
     },
     "output_type": "display_data"
    }
   ],
   "source": [
    "sns.catplot(x=\"Credit default\",col=\"Client subscribed or not\",palette=\"icefire\",kind=\"count\",data=bank)\n",
    "plt.show()"
   ]
  },
  {
   "cell_type": "code",
   "execution_count": 32,
   "metadata": {},
   "outputs": [
    {
     "data": {
      "image/png": "[encoded data removed]",
      "text/plain": [
       "<Figure size 720x360 with 2 Axes>"
      ]
     },
     "metadata": {
      "needs_background": "light"
     },
     "output_type": "display_data"
    }
   ],
   "source": [
    "sns.catplot(x=\"housing loan\",col=\"Client subscribed or not\",palette=\"icefire\",kind=\"count\",data=bank)\n",
    "plt.show()# most of the people who have housing loan have not subscribed for the insurance"
   ]
  },
  {
   "cell_type": "code",
   "execution_count": 33,
   "metadata": {},
   "outputs": [
    {
     "data": {
      "image/png": "[encoded data removed]",
      "text/plain": [
       "<Figure size 1027.12x900 with 30 Axes>"
      ]
     },
     "metadata": {
      "needs_background": "light"
     },
     "output_type": "display_data"
    }
   ],
   "source": [
    "sns.pairplot(bank,hue=\"Client subscribed or not\",palette=\"Dark2\")\n",
    "plt.show()"
   ]
  },
  {
   "cell_type": "code",
   "execution_count": null,
   "metadata": {},
   "outputs": [],
   "source": []
  },
  {
   "cell_type": "code",
   "execution_count": null,
   "metadata": {},
   "outputs": [],
   "source": []
  },
  {
   "cell_type": "code",
   "execution_count": null,
   "metadata": {},
   "outputs": [],
   "source": []
  },
  {
   "cell_type": "code",
   "execution_count": null,
   "metadata": {},
   "outputs": [],
   "source": []
  },
  {
   "cell_type": "markdown",
   "metadata": {},
   "source": [
    "# LABEL ENCODING TO MAKE CATEGORICAL VARIABLES NUMERIC"
   ]
  },
  {
   "cell_type": "code",
   "execution_count": 34,
   "metadata": {},
   "outputs": [],
   "source": [
    "from sklearn.preprocessing import LabelEncoder"
   ]
  },
  {
   "cell_type": "code",
   "execution_count": 35,
   "metadata": {},
   "outputs": [
    {
     "data": {
      "text/plain": [
       "array(['blue-collar', 'entrepreneur', 'retired', 'admin.', 'student',\n",
       "       'services', 'technician', 'self-employed', 'management',\n",
       "       'unemployed', 'unknown', 'housemaid'], dtype=object)"
      ]
     },
     "execution_count": 35,
     "metadata": {},
     "output_type": "execute_result"
    }
   ],
   "source": [
    "bank[\"job\"].unique()"
   ]
  },
  {
   "cell_type": "code",
   "execution_count": 36,
   "metadata": {},
   "outputs": [],
   "source": [
    "lb=LabelEncoder()"
   ]
  },
  {
   "cell_type": "code",
   "execution_count": 37,
   "metadata": {},
   "outputs": [],
   "source": [
    "bank[\"job\"]=lb.fit_transform(bank[\"job\"])"
   ]
  },
  {
   "cell_type": "code",
   "execution_count": 38,
   "metadata": {},
   "outputs": [
    {
     "data": {
      "text/plain": [
       "0     8314\n",
       "1     7441\n",
       "9     5400\n",
       "7     3196\n",
       "4     2345\n",
       "5     1366\n",
       "2     1160\n",
       "6     1099\n",
       "3      855\n",
       "10     798\n",
       "8      711\n",
       "11     265\n",
       "Name: job, dtype: int64"
      ]
     },
     "execution_count": 38,
     "metadata": {},
     "output_type": "execute_result"
    }
   ],
   "source": [
    "bank[\"job\"].value_counts()"
   ]
  },
  {
   "cell_type": "code",
   "execution_count": 39,
   "metadata": {},
   "outputs": [
    {
     "data": {
      "text/plain": [
       "array(['married', 'divorced', 'single', 'unknown'], dtype=object)"
      ]
     },
     "execution_count": 39,
     "metadata": {},
     "output_type": "execute_result"
    }
   ],
   "source": [
    "bank[\"marital\"].unique()"
   ]
  },
  {
   "cell_type": "code",
   "execution_count": 40,
   "metadata": {},
   "outputs": [],
   "source": [
    "bank[\"marital\"]=lb.fit_transform(bank[\"marital\"])\n"
   ]
  },
  {
   "cell_type": "code",
   "execution_count": 41,
   "metadata": {},
   "outputs": [
    {
     "data": {
      "text/plain": [
       "1    19953\n",
       "2     9257\n",
       "0     3675\n",
       "3       65\n",
       "Name: marital, dtype: int64"
      ]
     },
     "execution_count": 41,
     "metadata": {},
     "output_type": "execute_result"
    }
   ],
   "source": [
    "bank[\"marital\"].value_counts()"
   ]
  },
  {
   "cell_type": "code",
   "execution_count": 42,
   "metadata": {},
   "outputs": [],
   "source": [
    " bank[\"education\"]=lb.fit_transform(bank[\"education\"])                       "
   ]
  },
  {
   "cell_type": "code",
   "execution_count": 43,
   "metadata": {},
   "outputs": [],
   "source": [
    "bank[\"Credit default\"]=lb.fit_transform(bank[\"Credit default\"])  "
   ]
  },
  {
   "cell_type": "code",
   "execution_count": 44,
   "metadata": {},
   "outputs": [],
   "source": [
    "bank[\"housing loan\"]=lb.fit_transform(bank[\"housing loan\"])  "
   ]
  },
  {
   "cell_type": "code",
   "execution_count": 45,
   "metadata": {},
   "outputs": [],
   "source": [
    "bank[\"loan\"]=lb.fit_transform(bank[\"loan\"])  "
   ]
  },
  {
   "cell_type": "code",
   "execution_count": 46,
   "metadata": {},
   "outputs": [],
   "source": [
    "bank[\"contact\"]=lb.fit_transform(bank[\"contact\"])  "
   ]
  },
  {
   "cell_type": "code",
   "execution_count": 47,
   "metadata": {},
   "outputs": [],
   "source": [
    "bank[\"month\"]=lb.fit_transform(bank[\"month\"])    "
   ]
  },
  {
   "cell_type": "code",
   "execution_count": 48,
   "metadata": {},
   "outputs": [],
   "source": [
    "bank[\"day_of_week\"]=lb.fit_transform(bank[\"day_of_week\"])"
   ]
  },
  {
   "cell_type": "code",
   "execution_count": 49,
   "metadata": {},
   "outputs": [],
   "source": [
    "bank[\"Outcome of previous campaign\"]=lb.fit_transform(bank[\"Outcome of previous campaign\"])"
   ]
  },
  {
   "cell_type": "code",
   "execution_count": 50,
   "metadata": {},
   "outputs": [],
   "source": [
    " bank[\"Client subscribed or not\"]=lb.fit_transform(bank[\"Client subscribed or not\"])                       "
   ]
  },
  {
   "cell_type": "code",
   "execution_count": 51,
   "metadata": {},
   "outputs": [
    {
     "data": {
      "text/html": [
       "<div>\n",
       "<style scoped>\n",
       "    .dataframe tbody tr th:only-of-type {\n",
       "        vertical-align: middle;\n",
       "    }\n",
       "\n",
       "    .dataframe tbody tr th {\n",
       "        vertical-align: top;\n",
       "    }\n",
       "\n",
       "    .dataframe thead th {\n",
       "        text-align: right;\n",
       "    }\n",
       "</style>\n",
       "<table border=\"1\" class=\"dataframe\">\n",
       "  <thead>\n",
       "    <tr style=\"text-align: right;\">\n",
       "      <th></th>\n",
       "      <th>age</th>\n",
       "      <th>job</th>\n",
       "      <th>marital</th>\n",
       "      <th>education</th>\n",
       "      <th>Credit default</th>\n",
       "      <th>housing loan</th>\n",
       "      <th>loan</th>\n",
       "      <th>contact</th>\n",
       "      <th>month</th>\n",
       "      <th>day_of_week</th>\n",
       "      <th>last contact duration</th>\n",
       "      <th>no of contacts performed during the campaign</th>\n",
       "      <th>pdays after last contract</th>\n",
       "      <th>No of contacts before campaign</th>\n",
       "      <th>Outcome of previous campaign</th>\n",
       "      <th>Client subscribed or not</th>\n",
       "    </tr>\n",
       "  </thead>\n",
       "  <tbody>\n",
       "    <tr>\n",
       "      <th>0</th>\n",
       "      <td>49</td>\n",
       "      <td>1</td>\n",
       "      <td>1</td>\n",
       "      <td>2</td>\n",
       "      <td>1</td>\n",
       "      <td>0</td>\n",
       "      <td>0</td>\n",
       "      <td>0</td>\n",
       "      <td>7</td>\n",
       "      <td>4</td>\n",
       "      <td>227</td>\n",
       "      <td>4</td>\n",
       "      <td>999</td>\n",
       "      <td>0</td>\n",
       "      <td>1</td>\n",
       "      <td>0</td>\n",
       "    </tr>\n",
       "    <tr>\n",
       "      <th>1</th>\n",
       "      <td>37</td>\n",
       "      <td>2</td>\n",
       "      <td>1</td>\n",
       "      <td>6</td>\n",
       "      <td>0</td>\n",
       "      <td>0</td>\n",
       "      <td>0</td>\n",
       "      <td>1</td>\n",
       "      <td>7</td>\n",
       "      <td>4</td>\n",
       "      <td>202</td>\n",
       "      <td>2</td>\n",
       "      <td>999</td>\n",
       "      <td>1</td>\n",
       "      <td>0</td>\n",
       "      <td>0</td>\n",
       "    </tr>\n",
       "    <tr>\n",
       "      <th>2</th>\n",
       "      <td>78</td>\n",
       "      <td>5</td>\n",
       "      <td>1</td>\n",
       "      <td>0</td>\n",
       "      <td>0</td>\n",
       "      <td>0</td>\n",
       "      <td>0</td>\n",
       "      <td>0</td>\n",
       "      <td>3</td>\n",
       "      <td>1</td>\n",
       "      <td>1148</td>\n",
       "      <td>1</td>\n",
       "      <td>999</td>\n",
       "      <td>0</td>\n",
       "      <td>1</td>\n",
       "      <td>1</td>\n",
       "    </tr>\n",
       "    <tr>\n",
       "      <th>3</th>\n",
       "      <td>36</td>\n",
       "      <td>0</td>\n",
       "      <td>1</td>\n",
       "      <td>6</td>\n",
       "      <td>0</td>\n",
       "      <td>2</td>\n",
       "      <td>0</td>\n",
       "      <td>1</td>\n",
       "      <td>6</td>\n",
       "      <td>1</td>\n",
       "      <td>120</td>\n",
       "      <td>2</td>\n",
       "      <td>999</td>\n",
       "      <td>0</td>\n",
       "      <td>1</td>\n",
       "      <td>0</td>\n",
       "    </tr>\n",
       "    <tr>\n",
       "      <th>4</th>\n",
       "      <td>59</td>\n",
       "      <td>5</td>\n",
       "      <td>0</td>\n",
       "      <td>6</td>\n",
       "      <td>0</td>\n",
       "      <td>0</td>\n",
       "      <td>0</td>\n",
       "      <td>0</td>\n",
       "      <td>4</td>\n",
       "      <td>3</td>\n",
       "      <td>368</td>\n",
       "      <td>2</td>\n",
       "      <td>999</td>\n",
       "      <td>0</td>\n",
       "      <td>1</td>\n",
       "      <td>0</td>\n",
       "    </tr>\n",
       "    <tr>\n",
       "      <th>...</th>\n",
       "      <td>...</td>\n",
       "      <td>...</td>\n",
       "      <td>...</td>\n",
       "      <td>...</td>\n",
       "      <td>...</td>\n",
       "      <td>...</td>\n",
       "      <td>...</td>\n",
       "      <td>...</td>\n",
       "      <td>...</td>\n",
       "      <td>...</td>\n",
       "      <td>...</td>\n",
       "      <td>...</td>\n",
       "      <td>...</td>\n",
       "      <td>...</td>\n",
       "      <td>...</td>\n",
       "      <td>...</td>\n",
       "    </tr>\n",
       "    <tr>\n",
       "      <th>32945</th>\n",
       "      <td>28</td>\n",
       "      <td>7</td>\n",
       "      <td>2</td>\n",
       "      <td>3</td>\n",
       "      <td>0</td>\n",
       "      <td>2</td>\n",
       "      <td>0</td>\n",
       "      <td>0</td>\n",
       "      <td>3</td>\n",
       "      <td>3</td>\n",
       "      <td>192</td>\n",
       "      <td>1</td>\n",
       "      <td>999</td>\n",
       "      <td>0</td>\n",
       "      <td>1</td>\n",
       "      <td>0</td>\n",
       "    </tr>\n",
       "    <tr>\n",
       "      <th>32946</th>\n",
       "      <td>52</td>\n",
       "      <td>9</td>\n",
       "      <td>1</td>\n",
       "      <td>5</td>\n",
       "      <td>0</td>\n",
       "      <td>2</td>\n",
       "      <td>0</td>\n",
       "      <td>0</td>\n",
       "      <td>7</td>\n",
       "      <td>0</td>\n",
       "      <td>64</td>\n",
       "      <td>1</td>\n",
       "      <td>999</td>\n",
       "      <td>1</td>\n",
       "      <td>0</td>\n",
       "      <td>0</td>\n",
       "    </tr>\n",
       "    <tr>\n",
       "      <th>32947</th>\n",
       "      <td>54</td>\n",
       "      <td>0</td>\n",
       "      <td>1</td>\n",
       "      <td>2</td>\n",
       "      <td>0</td>\n",
       "      <td>0</td>\n",
       "      <td>2</td>\n",
       "      <td>0</td>\n",
       "      <td>3</td>\n",
       "      <td>1</td>\n",
       "      <td>131</td>\n",
       "      <td>4</td>\n",
       "      <td>999</td>\n",
       "      <td>0</td>\n",
       "      <td>1</td>\n",
       "      <td>0</td>\n",
       "    </tr>\n",
       "    <tr>\n",
       "      <th>32948</th>\n",
       "      <td>29</td>\n",
       "      <td>0</td>\n",
       "      <td>1</td>\n",
       "      <td>6</td>\n",
       "      <td>0</td>\n",
       "      <td>0</td>\n",
       "      <td>0</td>\n",
       "      <td>1</td>\n",
       "      <td>6</td>\n",
       "      <td>0</td>\n",
       "      <td>165</td>\n",
       "      <td>1</td>\n",
       "      <td>999</td>\n",
       "      <td>0</td>\n",
       "      <td>1</td>\n",
       "      <td>0</td>\n",
       "    </tr>\n",
       "    <tr>\n",
       "      <th>32949</th>\n",
       "      <td>35</td>\n",
       "      <td>0</td>\n",
       "      <td>1</td>\n",
       "      <td>6</td>\n",
       "      <td>0</td>\n",
       "      <td>0</td>\n",
       "      <td>2</td>\n",
       "      <td>1</td>\n",
       "      <td>4</td>\n",
       "      <td>3</td>\n",
       "      <td>544</td>\n",
       "      <td>3</td>\n",
       "      <td>999</td>\n",
       "      <td>0</td>\n",
       "      <td>1</td>\n",
       "      <td>0</td>\n",
       "    </tr>\n",
       "  </tbody>\n",
       "</table>\n",
       "<p>32950 rows × 16 columns</p>\n",
       "</div>"
      ],
      "text/plain": [
       "       age  job  marital  education  Credit default  housing loan  loan  \\\n",
       "0       49    1        1          2               1             0     0   \n",
       "1       37    2        1          6               0             0     0   \n",
       "2       78    5        1          0               0             0     0   \n",
       "3       36    0        1          6               0             2     0   \n",
       "4       59    5        0          6               0             0     0   \n",
       "...    ...  ...      ...        ...             ...           ...   ...   \n",
       "32945   28    7        2          3               0             2     0   \n",
       "32946   52    9        1          5               0             2     0   \n",
       "32947   54    0        1          2               0             0     2   \n",
       "32948   29    0        1          6               0             0     0   \n",
       "32949   35    0        1          6               0             0     2   \n",
       "\n",
       "       contact  month  day_of_week  last contact duration  \\\n",
       "0            0      7            4                    227   \n",
       "1            1      7            4                    202   \n",
       "2            0      3            1                   1148   \n",
       "3            1      6            1                    120   \n",
       "4            0      4            3                    368   \n",
       "...        ...    ...          ...                    ...   \n",
       "32945        0      3            3                    192   \n",
       "32946        0      7            0                     64   \n",
       "32947        0      3            1                    131   \n",
       "32948        1      6            0                    165   \n",
       "32949        1      4            3                    544   \n",
       "\n",
       "       no of contacts performed during the campaign  \\\n",
       "0                                                 4   \n",
       "1                                                 2   \n",
       "2                                                 1   \n",
       "3                                                 2   \n",
       "4                                                 2   \n",
       "...                                             ...   \n",
       "32945                                             1   \n",
       "32946                                             1   \n",
       "32947                                             4   \n",
       "32948                                             1   \n",
       "32949                                             3   \n",
       "\n",
       "       pdays after last contract  No of contacts before campaign  \\\n",
       "0                            999                               0   \n",
       "1                            999                               1   \n",
       "2                            999                               0   \n",
       "3                            999                               0   \n",
       "4                            999                               0   \n",
       "...                          ...                             ...   \n",
       "32945                        999                               0   \n",
       "32946                        999                               1   \n",
       "32947                        999                               0   \n",
       "32948                        999                               0   \n",
       "32949                        999                               0   \n",
       "\n",
       "       Outcome of previous campaign  Client subscribed or not  \n",
       "0                                 1                         0  \n",
       "1                                 0                         0  \n",
       "2                                 1                         1  \n",
       "3                                 1                         0  \n",
       "4                                 1                         0  \n",
       "...                             ...                       ...  \n",
       "32945                             1                         0  \n",
       "32946                             0                         0  \n",
       "32947                             1                         0  \n",
       "32948                             1                         0  \n",
       "32949                             1                         0  \n",
       "\n",
       "[32950 rows x 16 columns]"
      ]
     },
     "execution_count": 51,
     "metadata": {},
     "output_type": "execute_result"
    }
   ],
   "source": [
    "bank"
   ]
  },
  {
   "cell_type": "code",
   "execution_count": 52,
   "metadata": {},
   "outputs": [
    {
     "data": {
      "text/plain": [
       "age                                             0.760819\n",
       "job                                             0.451782\n",
       "marital                                        -0.055938\n",
       "education                                      -0.234718\n",
       "Credit default                                  1.422127\n",
       "housing loan                                   -0.143223\n",
       "loan                                            1.808404\n",
       "contact                                         0.558781\n",
       "month                                          -0.306964\n",
       "day_of_week                                     0.011830\n",
       "last contact duration                           3.326612\n",
       "no of contacts performed during the campaign    4.742537\n",
       "pdays after last contract                      -4.890610\n",
       "No of contacts before campaign                  3.854724\n",
       "Outcome of previous campaign                   -0.872020\n",
       "Client subscribed or not                        2.450331\n",
       "dtype: float64"
      ]
     },
     "execution_count": 52,
     "metadata": {},
     "output_type": "execute_result"
    }
   ],
   "source": [
    "bank.skew()# skewness range is between -0.5 to +0.5\n",
    "#age,pdays after last contract have,no of contacts before campaign \n",
    "#have skewness which should be eliminated other are categorial so no need to be removed"
   ]
  },
  {
   "cell_type": "code",
   "execution_count": 53,
   "metadata": {},
   "outputs": [
    {
     "name": "stderr",
     "output_type": "stream",
     "text": [
      "C:\\Users\\SATHAKI PROSAD\\anaconda3\\lib\\site-packages\\seaborn\\distributions.py:2551: FutureWarning: `distplot` is a deprecated function and will be removed in a future version. Please adapt your code to use either `displot` (a figure-level function with similar flexibility) or `histplot` (an axes-level function for histograms).\n",
      "  warnings.warn(msg, FutureWarning)\n"
     ]
    },
    {
     "data": {
      "text/plain": [
       "<AxesSubplot:xlabel='age', ylabel='Density'>"
      ]
     },
     "execution_count": 53,
     "metadata": {},
     "output_type": "execute_result"
    },
    {
     "data": {
      "image/png": "[encoded data removed]",
      "text/plain": [
       "<Figure size 432x288 with 1 Axes>"
      ]
     },
     "metadata": {
      "needs_background": "light"
     },
     "output_type": "display_data"
    }
   ],
   "source": [
    "sns.distplot(bank[\"age\"],bins=20) "
   ]
  },
  {
   "cell_type": "code",
   "execution_count": 54,
   "metadata": {},
   "outputs": [
    {
     "name": "stderr",
     "output_type": "stream",
     "text": [
      "C:\\Users\\SATHAKI PROSAD\\anaconda3\\lib\\site-packages\\seaborn\\distributions.py:2551: FutureWarning: `distplot` is a deprecated function and will be removed in a future version. Please adapt your code to use either `displot` (a figure-level function with similar flexibility) or `histplot` (an axes-level function for histograms).\n",
      "  warnings.warn(msg, FutureWarning)\n"
     ]
    },
    {
     "data": {
      "text/plain": [
       "<AxesSubplot:xlabel='pdays after last contract', ylabel='Density'>"
      ]
     },
     "execution_count": 54,
     "metadata": {},
     "output_type": "execute_result"
    },
    {
     "data": {
      "image/png": "[encoded data removed]",
      "text/plain": [
       "<Figure size 432x288 with 1 Axes>"
      ]
     },
     "metadata": {
      "needs_background": "light"
     },
     "output_type": "display_data"
    }
   ],
   "source": [
    "sns.distplot(bank[\"pdays after last contract\"],bins=20) "
   ]
  },
  {
   "cell_type": "code",
   "execution_count": 55,
   "metadata": {},
   "outputs": [
    {
     "name": "stderr",
     "output_type": "stream",
     "text": [
      "C:\\Users\\SATHAKI PROSAD\\anaconda3\\lib\\site-packages\\seaborn\\distributions.py:2551: FutureWarning: `distplot` is a deprecated function and will be removed in a future version. Please adapt your code to use either `displot` (a figure-level function with similar flexibility) or `histplot` (an axes-level function for histograms).\n",
      "  warnings.warn(msg, FutureWarning)\n"
     ]
    },
    {
     "data": {
      "text/plain": [
       "<AxesSubplot:xlabel='No of contacts before campaign', ylabel='Density'>"
      ]
     },
     "execution_count": 55,
     "metadata": {},
     "output_type": "execute_result"
    },
    {
     "data": {
      "image/png": "[encoded data removed]",
      "text/plain": [
       "<Figure size 432x288 with 1 Axes>"
      ]
     },
     "metadata": {
      "needs_background": "light"
     },
     "output_type": "display_data"
    }
   ],
   "source": [
    "sns.distplot(bank[\"No of contacts before campaign\"],bins=20) "
   ]
  },
  {
   "cell_type": "code",
   "execution_count": 56,
   "metadata": {},
   "outputs": [],
   "source": [
    "bank[\"age\"]=np.cbrt(bank[\"age\"])"
   ]
  },
  {
   "cell_type": "code",
   "execution_count": 57,
   "metadata": {},
   "outputs": [
    {
     "name": "stderr",
     "output_type": "stream",
     "text": [
      "C:\\Users\\SATHAKI PROSAD\\anaconda3\\lib\\site-packages\\seaborn\\distributions.py:2551: FutureWarning: `distplot` is a deprecated function and will be removed in a future version. Please adapt your code to use either `displot` (a figure-level function with similar flexibility) or `histplot` (an axes-level function for histograms).\n",
      "  warnings.warn(msg, FutureWarning)\n"
     ]
    },
    {
     "data": {
      "text/plain": [
       "<AxesSubplot:xlabel='age', ylabel='Density'>"
      ]
     },
     "execution_count": 57,
     "metadata": {},
     "output_type": "execute_result"
    },
    {
     "data": {
      "image/png": "[encoded data removed]",
      "text/plain": [
       "<Figure size 432x288 with 1 Axes>"
      ]
     },
     "metadata": {
      "needs_background": "light"
     },
     "output_type": "display_data"
    }
   ],
   "source": [
    "sns.distplot(bank[\"age\"],bins=20) "
   ]
  },
  {
   "cell_type": "code",
   "execution_count": 58,
   "metadata": {},
   "outputs": [],
   "source": [
    "bank[\"pdays after last contract\"]=np.cbrt(bank[\"pdays after last contract\"])"
   ]
  },
  {
   "cell_type": "code",
   "execution_count": 59,
   "metadata": {},
   "outputs": [
    {
     "name": "stderr",
     "output_type": "stream",
     "text": [
      "C:\\Users\\SATHAKI PROSAD\\anaconda3\\lib\\site-packages\\seaborn\\distributions.py:2551: FutureWarning: `distplot` is a deprecated function and will be removed in a future version. Please adapt your code to use either `displot` (a figure-level function with similar flexibility) or `histplot` (an axes-level function for histograms).\n",
      "  warnings.warn(msg, FutureWarning)\n"
     ]
    },
    {
     "data": {
      "text/plain": [
       "<AxesSubplot:xlabel='pdays after last contract', ylabel='Density'>"
      ]
     },
     "execution_count": 59,
     "metadata": {},
     "output_type": "execute_result"
    },
    {
     "data": {
      "image/png": "[encoded data removed]",
      "text/plain": [
       "<Figure size 432x288 with 1 Axes>"
      ]
     },
     "metadata": {
      "needs_background": "light"
     },
     "output_type": "display_data"
    }
   ],
   "source": [
    "sns.distplot(bank[\"pdays after last contract\"],bins=20) "
   ]
  },
  {
   "cell_type": "code",
   "execution_count": 60,
   "metadata": {},
   "outputs": [],
   "source": [
    "bank[\"No of contacts before campaign\"]=np.cbrt(bank[\"No of contacts before campaign\"])"
   ]
  },
  {
   "cell_type": "code",
   "execution_count": 61,
   "metadata": {},
   "outputs": [
    {
     "name": "stderr",
     "output_type": "stream",
     "text": [
      "C:\\Users\\SATHAKI PROSAD\\anaconda3\\lib\\site-packages\\seaborn\\distributions.py:2551: FutureWarning: `distplot` is a deprecated function and will be removed in a future version. Please adapt your code to use either `displot` (a figure-level function with similar flexibility) or `histplot` (an axes-level function for histograms).\n",
      "  warnings.warn(msg, FutureWarning)\n"
     ]
    },
    {
     "data": {
      "text/plain": [
       "<AxesSubplot:xlabel='No of contacts before campaign', ylabel='Density'>"
      ]
     },
     "execution_count": 61,
     "metadata": {},
     "output_type": "execute_result"
    },
    {
     "data": {
      "image/png": "[encoded data removed]",
      "text/plain": [
       "<Figure size 432x288 with 1 Axes>"
      ]
     },
     "metadata": {
      "needs_background": "light"
     },
     "output_type": "display_data"
    }
   ],
   "source": [
    "sns.distplot(bank[\"No of contacts before campaign\"],bins=20) "
   ]
  },
  {
   "cell_type": "code",
   "execution_count": 62,
   "metadata": {},
   "outputs": [
    {
     "data": {
      "text/html": [
       "<div>\n",
       "<style scoped>\n",
       "    .dataframe tbody tr th:only-of-type {\n",
       "        vertical-align: middle;\n",
       "    }\n",
       "\n",
       "    .dataframe tbody tr th {\n",
       "        vertical-align: top;\n",
       "    }\n",
       "\n",
       "    .dataframe thead th {\n",
       "        text-align: right;\n",
       "    }\n",
       "</style>\n",
       "<table border=\"1\" class=\"dataframe\">\n",
       "  <thead>\n",
       "    <tr style=\"text-align: right;\">\n",
       "      <th></th>\n",
       "      <th>age</th>\n",
       "      <th>job</th>\n",
       "      <th>marital</th>\n",
       "      <th>education</th>\n",
       "      <th>Credit default</th>\n",
       "      <th>housing loan</th>\n",
       "      <th>loan</th>\n",
       "      <th>contact</th>\n",
       "      <th>month</th>\n",
       "      <th>day_of_week</th>\n",
       "      <th>last contact duration</th>\n",
       "      <th>no of contacts performed during the campaign</th>\n",
       "      <th>pdays after last contract</th>\n",
       "      <th>No of contacts before campaign</th>\n",
       "      <th>Outcome of previous campaign</th>\n",
       "      <th>Client subscribed or not</th>\n",
       "    </tr>\n",
       "  </thead>\n",
       "  <tbody>\n",
       "    <tr>\n",
       "      <th>count</th>\n",
       "      <td>32950.000000</td>\n",
       "      <td>32950.000000</td>\n",
       "      <td>32950.000000</td>\n",
       "      <td>32950.000000</td>\n",
       "      <td>32950.000000</td>\n",
       "      <td>32950.000000</td>\n",
       "      <td>32950.000000</td>\n",
       "      <td>32950.000000</td>\n",
       "      <td>32950.000000</td>\n",
       "      <td>32950.000000</td>\n",
       "      <td>32950.000000</td>\n",
       "      <td>32950.000000</td>\n",
       "      <td>32950.000000</td>\n",
       "      <td>32950.000000</td>\n",
       "      <td>32950.000000</td>\n",
       "      <td>32950.000000</td>\n",
       "    </tr>\n",
       "    <tr>\n",
       "      <th>mean</th>\n",
       "      <td>3.395689</td>\n",
       "      <td>3.723369</td>\n",
       "      <td>1.173354</td>\n",
       "      <td>3.748832</td>\n",
       "      <td>0.210804</td>\n",
       "      <td>1.071442</td>\n",
       "      <td>0.329044</td>\n",
       "      <td>0.365463</td>\n",
       "      <td>4.233414</td>\n",
       "      <td>2.000546</td>\n",
       "      <td>258.127466</td>\n",
       "      <td>2.560607</td>\n",
       "      <td>9.689279</td>\n",
       "      <td>0.146255</td>\n",
       "      <td>0.929469</td>\n",
       "      <td>0.112656</td>\n",
       "    </tr>\n",
       "    <tr>\n",
       "      <th>std</th>\n",
       "      <td>0.289144</td>\n",
       "      <td>3.593935</td>\n",
       "      <td>0.608542</td>\n",
       "      <td>2.136978</td>\n",
       "      <td>0.408109</td>\n",
       "      <td>0.985275</td>\n",
       "      <td>0.725035</td>\n",
       "      <td>0.481567</td>\n",
       "      <td>2.319693</td>\n",
       "      <td>1.400260</td>\n",
       "      <td>258.975917</td>\n",
       "      <td>2.752326</td>\n",
       "      <td>1.565454</td>\n",
       "      <td>0.369825</td>\n",
       "      <td>0.364187</td>\n",
       "      <td>0.316176</td>\n",
       "    </tr>\n",
       "    <tr>\n",
       "      <th>min</th>\n",
       "      <td>2.571282</td>\n",
       "      <td>0.000000</td>\n",
       "      <td>0.000000</td>\n",
       "      <td>0.000000</td>\n",
       "      <td>0.000000</td>\n",
       "      <td>0.000000</td>\n",
       "      <td>0.000000</td>\n",
       "      <td>0.000000</td>\n",
       "      <td>0.000000</td>\n",
       "      <td>0.000000</td>\n",
       "      <td>0.000000</td>\n",
       "      <td>1.000000</td>\n",
       "      <td>0.000000</td>\n",
       "      <td>0.000000</td>\n",
       "      <td>0.000000</td>\n",
       "      <td>0.000000</td>\n",
       "    </tr>\n",
       "    <tr>\n",
       "      <th>25%</th>\n",
       "      <td>3.174802</td>\n",
       "      <td>0.000000</td>\n",
       "      <td>1.000000</td>\n",
       "      <td>2.000000</td>\n",
       "      <td>0.000000</td>\n",
       "      <td>0.000000</td>\n",
       "      <td>0.000000</td>\n",
       "      <td>0.000000</td>\n",
       "      <td>3.000000</td>\n",
       "      <td>1.000000</td>\n",
       "      <td>103.000000</td>\n",
       "      <td>1.000000</td>\n",
       "      <td>9.996666</td>\n",
       "      <td>0.000000</td>\n",
       "      <td>1.000000</td>\n",
       "      <td>0.000000</td>\n",
       "    </tr>\n",
       "    <tr>\n",
       "      <th>50%</th>\n",
       "      <td>3.361975</td>\n",
       "      <td>2.000000</td>\n",
       "      <td>1.000000</td>\n",
       "      <td>3.000000</td>\n",
       "      <td>0.000000</td>\n",
       "      <td>2.000000</td>\n",
       "      <td>0.000000</td>\n",
       "      <td>0.000000</td>\n",
       "      <td>4.000000</td>\n",
       "      <td>2.000000</td>\n",
       "      <td>180.000000</td>\n",
       "      <td>2.000000</td>\n",
       "      <td>9.996666</td>\n",
       "      <td>0.000000</td>\n",
       "      <td>1.000000</td>\n",
       "      <td>0.000000</td>\n",
       "    </tr>\n",
       "    <tr>\n",
       "      <th>75%</th>\n",
       "      <td>3.608826</td>\n",
       "      <td>7.000000</td>\n",
       "      <td>2.000000</td>\n",
       "      <td>6.000000</td>\n",
       "      <td>0.000000</td>\n",
       "      <td>2.000000</td>\n",
       "      <td>0.000000</td>\n",
       "      <td>1.000000</td>\n",
       "      <td>6.000000</td>\n",
       "      <td>3.000000</td>\n",
       "      <td>319.000000</td>\n",
       "      <td>3.000000</td>\n",
       "      <td>9.996666</td>\n",
       "      <td>0.000000</td>\n",
       "      <td>1.000000</td>\n",
       "      <td>0.000000</td>\n",
       "    </tr>\n",
       "    <tr>\n",
       "      <th>max</th>\n",
       "      <td>4.610436</td>\n",
       "      <td>11.000000</td>\n",
       "      <td>3.000000</td>\n",
       "      <td>7.000000</td>\n",
       "      <td>2.000000</td>\n",
       "      <td>2.000000</td>\n",
       "      <td>2.000000</td>\n",
       "      <td>1.000000</td>\n",
       "      <td>9.000000</td>\n",
       "      <td>4.000000</td>\n",
       "      <td>4918.000000</td>\n",
       "      <td>56.000000</td>\n",
       "      <td>9.996666</td>\n",
       "      <td>1.912931</td>\n",
       "      <td>2.000000</td>\n",
       "      <td>1.000000</td>\n",
       "    </tr>\n",
       "  </tbody>\n",
       "</table>\n",
       "</div>"
      ],
      "text/plain": [
       "                age           job       marital     education  Credit default  \\\n",
       "count  32950.000000  32950.000000  32950.000000  32950.000000    32950.000000   \n",
       "mean       3.395689      3.723369      1.173354      3.748832        0.210804   \n",
       "std        0.289144      3.593935      0.608542      2.136978        0.408109   \n",
       "min        2.571282      0.000000      0.000000      0.000000        0.000000   \n",
       "25%        3.174802      0.000000      1.000000      2.000000        0.000000   \n",
       "50%        3.361975      2.000000      1.000000      3.000000        0.000000   \n",
       "75%        3.608826      7.000000      2.000000      6.000000        0.000000   \n",
       "max        4.610436     11.000000      3.000000      7.000000        2.000000   \n",
       "\n",
       "       housing loan          loan       contact         month   day_of_week  \\\n",
       "count  32950.000000  32950.000000  32950.000000  32950.000000  32950.000000   \n",
       "mean       1.071442      0.329044      0.365463      4.233414      2.000546   \n",
       "std        0.985275      0.725035      0.481567      2.319693      1.400260   \n",
       "min        0.000000      0.000000      0.000000      0.000000      0.000000   \n",
       "25%        0.000000      0.000000      0.000000      3.000000      1.000000   \n",
       "50%        2.000000      0.000000      0.000000      4.000000      2.000000   \n",
       "75%        2.000000      0.000000      1.000000      6.000000      3.000000   \n",
       "max        2.000000      2.000000      1.000000      9.000000      4.000000   \n",
       "\n",
       "       last contact duration  no of contacts performed during the campaign  \\\n",
       "count           32950.000000                                  32950.000000   \n",
       "mean              258.127466                                      2.560607   \n",
       "std               258.975917                                      2.752326   \n",
       "min                 0.000000                                      1.000000   \n",
       "25%               103.000000                                      1.000000   \n",
       "50%               180.000000                                      2.000000   \n",
       "75%               319.000000                                      3.000000   \n",
       "max              4918.000000                                     56.000000   \n",
       "\n",
       "       pdays after last contract  No of contacts before campaign  \\\n",
       "count               32950.000000                    32950.000000   \n",
       "mean                    9.689279                        0.146255   \n",
       "std                     1.565454                        0.369825   \n",
       "min                     0.000000                        0.000000   \n",
       "25%                     9.996666                        0.000000   \n",
       "50%                     9.996666                        0.000000   \n",
       "75%                     9.996666                        0.000000   \n",
       "max                     9.996666                        1.912931   \n",
       "\n",
       "       Outcome of previous campaign  Client subscribed or not  \n",
       "count                  32950.000000              32950.000000  \n",
       "mean                       0.929469                  0.112656  \n",
       "std                        0.364187                  0.316176  \n",
       "min                        0.000000                  0.000000  \n",
       "25%                        1.000000                  0.000000  \n",
       "50%                        1.000000                  0.000000  \n",
       "75%                        1.000000                  0.000000  \n",
       "max                        2.000000                  1.000000  "
      ]
     },
     "execution_count": 62,
     "metadata": {},
     "output_type": "execute_result"
    }
   ],
   "source": [
    "bank.describe()"
   ]
  },
  {
   "cell_type": "code",
   "execution_count": 67,
   "metadata": {},
   "outputs": [
    {
     "data": {
      "text/plain": [
       "<AxesSubplot:>"
      ]
     },
     "execution_count": 67,
     "metadata": {},
     "output_type": "execute_result"
    },
    {
     "data": {
      "image/png": "[encoded data removed]",
      "text/plain": [
       "<Figure size 432x288 with 1 Axes>"
      ]
     },
     "metadata": {
      "needs_background": "light"
     },
     "output_type": "display_data"
    }
   ],
   "source": [
    "#IQR=Q3-Q1,it can be checked to detect outliers, no need to elliminate outliers of categorial variables\n",
    "#IQR is high for age so it has outliers, other variables are mostly categorial or non continues so\n",
    "#need not to check outliers\n",
    "#lets see the age outliers by box plot,we do not need to remove outliers for age as it represent natural variation\n",
    "bank[\"age\"].plot.box()"
   ]
  },
  {
   "cell_type": "markdown",
   "metadata": {},
   "source": [
    "# Checking Coorelation and multicollinearity"
   ]
  },
  {
   "cell_type": "code",
   "execution_count": 63,
   "metadata": {},
   "outputs": [],
   "source": [
    "cor=bank.corr()"
   ]
  },
  {
   "cell_type": "code",
   "execution_count": 64,
   "metadata": {},
   "outputs": [
    {
     "data": {
      "text/html": [
       "<div>\n",
       "<style scoped>\n",
       "    .dataframe tbody tr th:only-of-type {\n",
       "        vertical-align: middle;\n",
       "    }\n",
       "\n",
       "    .dataframe tbody tr th {\n",
       "        vertical-align: top;\n",
       "    }\n",
       "\n",
       "    .dataframe thead th {\n",
       "        text-align: right;\n",
       "    }\n",
       "</style>\n",
       "<table border=\"1\" class=\"dataframe\">\n",
       "  <thead>\n",
       "    <tr style=\"text-align: right;\">\n",
       "      <th></th>\n",
       "      <th>age</th>\n",
       "      <th>job</th>\n",
       "      <th>marital</th>\n",
       "      <th>education</th>\n",
       "      <th>Credit default</th>\n",
       "      <th>housing loan</th>\n",
       "      <th>loan</th>\n",
       "      <th>contact</th>\n",
       "      <th>month</th>\n",
       "      <th>day_of_week</th>\n",
       "      <th>last contact duration</th>\n",
       "      <th>no of contacts performed during the campaign</th>\n",
       "      <th>pdays after last contract</th>\n",
       "      <th>No of contacts before campaign</th>\n",
       "      <th>Outcome of previous campaign</th>\n",
       "      <th>Client subscribed or not</th>\n",
       "    </tr>\n",
       "  </thead>\n",
       "  <tbody>\n",
       "    <tr>\n",
       "      <th>age</th>\n",
       "      <td>1.000000</td>\n",
       "      <td>-0.009962</td>\n",
       "      <td>-0.407588</td>\n",
       "      <td>-0.112988</td>\n",
       "      <td>0.178744</td>\n",
       "      <td>-0.004541</td>\n",
       "      <td>-0.004022</td>\n",
       "      <td>0.018067</td>\n",
       "      <td>-0.027610</td>\n",
       "      <td>-0.021020</td>\n",
       "      <td>-0.003665</td>\n",
       "      <td>0.005664</td>\n",
       "      <td>-0.017192</td>\n",
       "      <td>0.001731</td>\n",
       "      <td>0.017898</td>\n",
       "      <td>0.010226</td>\n",
       "    </tr>\n",
       "    <tr>\n",
       "      <th>job</th>\n",
       "      <td>-0.009962</td>\n",
       "      <td>1.000000</td>\n",
       "      <td>0.030739</td>\n",
       "      <td>0.132330</td>\n",
       "      <td>-0.028649</td>\n",
       "      <td>0.008478</td>\n",
       "      <td>-0.011808</td>\n",
       "      <td>-0.024775</td>\n",
       "      <td>-0.027014</td>\n",
       "      <td>0.000754</td>\n",
       "      <td>-0.007647</td>\n",
       "      <td>-0.008422</td>\n",
       "      <td>-0.032436</td>\n",
       "      <td>0.020426</td>\n",
       "      <td>0.011388</td>\n",
       "      <td>0.026278</td>\n",
       "    </tr>\n",
       "    <tr>\n",
       "      <th>marital</th>\n",
       "      <td>-0.407588</td>\n",
       "      <td>0.030739</td>\n",
       "      <td>1.000000</td>\n",
       "      <td>0.109775</td>\n",
       "      <td>-0.082625</td>\n",
       "      <td>0.017763</td>\n",
       "      <td>0.006844</td>\n",
       "      <td>-0.054736</td>\n",
       "      <td>-0.004972</td>\n",
       "      <td>0.002667</td>\n",
       "      <td>0.012080</td>\n",
       "      <td>-0.002504</td>\n",
       "      <td>-0.041893</td>\n",
       "      <td>0.040162</td>\n",
       "      <td>0.003132</td>\n",
       "      <td>0.050084</td>\n",
       "    </tr>\n",
       "    <tr>\n",
       "      <th>education</th>\n",
       "      <td>-0.112988</td>\n",
       "      <td>0.132330</td>\n",
       "      <td>0.109775</td>\n",
       "      <td>1.000000</td>\n",
       "      <td>-0.187621</td>\n",
       "      <td>0.023730</td>\n",
       "      <td>0.006977</td>\n",
       "      <td>-0.104060</td>\n",
       "      <td>-0.083212</td>\n",
       "      <td>-0.018160</td>\n",
       "      <td>-0.017342</td>\n",
       "      <td>-0.001261</td>\n",
       "      <td>-0.049161</td>\n",
       "      <td>0.035693</td>\n",
       "      <td>0.017092</td>\n",
       "      <td>0.059263</td>\n",
       "    </tr>\n",
       "    <tr>\n",
       "      <th>Credit default</th>\n",
       "      <td>0.178744</td>\n",
       "      <td>-0.028649</td>\n",
       "      <td>-0.082625</td>\n",
       "      <td>-0.187621</td>\n",
       "      <td>1.000000</td>\n",
       "      <td>-0.019189</td>\n",
       "      <td>-0.004056</td>\n",
       "      <td>0.136745</td>\n",
       "      <td>-0.019822</td>\n",
       "      <td>-0.015232</td>\n",
       "      <td>-0.010710</td>\n",
       "      <td>0.037369</td>\n",
       "      <td>0.081302</td>\n",
       "      <td>-0.111021</td>\n",
       "      <td>0.026528</td>\n",
       "      <td>-0.099142</td>\n",
       "    </tr>\n",
       "    <tr>\n",
       "      <th>housing loan</th>\n",
       "      <td>-0.004541</td>\n",
       "      <td>0.008478</td>\n",
       "      <td>0.017763</td>\n",
       "      <td>0.023730</td>\n",
       "      <td>-0.019189</td>\n",
       "      <td>1.000000</td>\n",
       "      <td>0.045010</td>\n",
       "      <td>-0.082982</td>\n",
       "      <td>-0.018916</td>\n",
       "      <td>0.004569</td>\n",
       "      <td>-0.009648</td>\n",
       "      <td>-0.013628</td>\n",
       "      <td>-0.013687</td>\n",
       "      <td>0.030056</td>\n",
       "      <td>-0.014968</td>\n",
       "      <td>0.009821</td>\n",
       "    </tr>\n",
       "    <tr>\n",
       "      <th>loan</th>\n",
       "      <td>-0.004022</td>\n",
       "      <td>-0.011808</td>\n",
       "      <td>0.006844</td>\n",
       "      <td>0.006977</td>\n",
       "      <td>-0.004056</td>\n",
       "      <td>0.045010</td>\n",
       "      <td>1.000000</td>\n",
       "      <td>-0.009331</td>\n",
       "      <td>-0.005534</td>\n",
       "      <td>-0.013839</td>\n",
       "      <td>0.003301</td>\n",
       "      <td>0.005443</td>\n",
       "      <td>0.003204</td>\n",
       "      <td>-0.000539</td>\n",
       "      <td>-0.004173</td>\n",
       "      <td>-0.000452</td>\n",
       "    </tr>\n",
       "    <tr>\n",
       "      <th>contact</th>\n",
       "      <td>0.018067</td>\n",
       "      <td>-0.024775</td>\n",
       "      <td>-0.054736</td>\n",
       "      <td>-0.104060</td>\n",
       "      <td>0.136745</td>\n",
       "      <td>-0.082982</td>\n",
       "      <td>-0.009331</td>\n",
       "      <td>1.000000</td>\n",
       "      <td>0.275416</td>\n",
       "      <td>-0.007182</td>\n",
       "      <td>-0.026148</td>\n",
       "      <td>0.074217</td>\n",
       "      <td>0.116379</td>\n",
       "      <td>-0.240640</td>\n",
       "      <td>0.121541</td>\n",
       "      <td>-0.143238</td>\n",
       "    </tr>\n",
       "    <tr>\n",
       "      <th>month</th>\n",
       "      <td>-0.027610</td>\n",
       "      <td>-0.027014</td>\n",
       "      <td>-0.004972</td>\n",
       "      <td>-0.083212</td>\n",
       "      <td>-0.019822</td>\n",
       "      <td>-0.018916</td>\n",
       "      <td>-0.005534</td>\n",
       "      <td>0.275416</td>\n",
       "      <td>1.000000</td>\n",
       "      <td>0.023675</td>\n",
       "      <td>0.001216</td>\n",
       "      <td>-0.061558</td>\n",
       "      <td>-0.047644</td>\n",
       "      <td>0.113643</td>\n",
       "      <td>-0.065620</td>\n",
       "      <td>-0.007508</td>\n",
       "    </tr>\n",
       "    <tr>\n",
       "      <th>day_of_week</th>\n",
       "      <td>-0.021020</td>\n",
       "      <td>0.000754</td>\n",
       "      <td>0.002667</td>\n",
       "      <td>-0.018160</td>\n",
       "      <td>-0.015232</td>\n",
       "      <td>0.004569</td>\n",
       "      <td>-0.013839</td>\n",
       "      <td>-0.007182</td>\n",
       "      <td>0.023675</td>\n",
       "      <td>1.000000</td>\n",
       "      <td>0.022589</td>\n",
       "      <td>-0.035588</td>\n",
       "      <td>-0.005695</td>\n",
       "      <td>-0.007010</td>\n",
       "      <td>0.014240</td>\n",
       "      <td>0.011926</td>\n",
       "    </tr>\n",
       "    <tr>\n",
       "      <th>last contact duration</th>\n",
       "      <td>-0.003665</td>\n",
       "      <td>-0.007647</td>\n",
       "      <td>0.012080</td>\n",
       "      <td>-0.017342</td>\n",
       "      <td>-0.010710</td>\n",
       "      <td>-0.009648</td>\n",
       "      <td>0.003301</td>\n",
       "      <td>-0.026148</td>\n",
       "      <td>0.001216</td>\n",
       "      <td>0.022589</td>\n",
       "      <td>1.000000</td>\n",
       "      <td>-0.075663</td>\n",
       "      <td>-0.046396</td>\n",
       "      <td>0.015882</td>\n",
       "      <td>0.031382</td>\n",
       "      <td>0.400752</td>\n",
       "    </tr>\n",
       "    <tr>\n",
       "      <th>no of contacts performed during the campaign</th>\n",
       "      <td>0.005664</td>\n",
       "      <td>-0.008422</td>\n",
       "      <td>-0.002504</td>\n",
       "      <td>-0.001261</td>\n",
       "      <td>0.037369</td>\n",
       "      <td>-0.013628</td>\n",
       "      <td>0.005443</td>\n",
       "      <td>0.074217</td>\n",
       "      <td>-0.061558</td>\n",
       "      <td>-0.035588</td>\n",
       "      <td>-0.075663</td>\n",
       "      <td>1.000000</td>\n",
       "      <td>0.053843</td>\n",
       "      <td>-0.087702</td>\n",
       "      <td>0.032182</td>\n",
       "      <td>-0.065462</td>\n",
       "    </tr>\n",
       "    <tr>\n",
       "      <th>pdays after last contract</th>\n",
       "      <td>-0.017192</td>\n",
       "      <td>-0.032436</td>\n",
       "      <td>-0.041893</td>\n",
       "      <td>-0.049161</td>\n",
       "      <td>0.081302</td>\n",
       "      <td>-0.013687</td>\n",
       "      <td>0.003204</td>\n",
       "      <td>0.116379</td>\n",
       "      <td>-0.047644</td>\n",
       "      <td>-0.005695</td>\n",
       "      <td>-0.046396</td>\n",
       "      <td>0.053843</td>\n",
       "      <td>1.000000</td>\n",
       "      <td>-0.534429</td>\n",
       "      <td>-0.475727</td>\n",
       "      <td>-0.325019</td>\n",
       "    </tr>\n",
       "    <tr>\n",
       "      <th>No of contacts before campaign</th>\n",
       "      <td>0.001731</td>\n",
       "      <td>0.020426</td>\n",
       "      <td>0.040162</td>\n",
       "      <td>0.035693</td>\n",
       "      <td>-0.111021</td>\n",
       "      <td>0.030056</td>\n",
       "      <td>-0.000539</td>\n",
       "      <td>-0.240640</td>\n",
       "      <td>0.113643</td>\n",
       "      <td>-0.007010</td>\n",
       "      <td>0.015882</td>\n",
       "      <td>-0.087702</td>\n",
       "      <td>-0.534429</td>\n",
       "      <td>1.000000</td>\n",
       "      <td>-0.446331</td>\n",
       "      <td>0.211235</td>\n",
       "    </tr>\n",
       "    <tr>\n",
       "      <th>Outcome of previous campaign</th>\n",
       "      <td>0.017898</td>\n",
       "      <td>0.011388</td>\n",
       "      <td>0.003132</td>\n",
       "      <td>0.017092</td>\n",
       "      <td>0.026528</td>\n",
       "      <td>-0.014968</td>\n",
       "      <td>-0.004173</td>\n",
       "      <td>0.121541</td>\n",
       "      <td>-0.065620</td>\n",
       "      <td>0.014240</td>\n",
       "      <td>0.031382</td>\n",
       "      <td>0.032182</td>\n",
       "      <td>-0.475727</td>\n",
       "      <td>-0.446331</td>\n",
       "      <td>1.000000</td>\n",
       "      <td>0.127784</td>\n",
       "    </tr>\n",
       "    <tr>\n",
       "      <th>Client subscribed or not</th>\n",
       "      <td>0.010226</td>\n",
       "      <td>0.026278</td>\n",
       "      <td>0.050084</td>\n",
       "      <td>0.059263</td>\n",
       "      <td>-0.099142</td>\n",
       "      <td>0.009821</td>\n",
       "      <td>-0.000452</td>\n",
       "      <td>-0.143238</td>\n",
       "      <td>-0.007508</td>\n",
       "      <td>0.011926</td>\n",
       "      <td>0.400752</td>\n",
       "      <td>-0.065462</td>\n",
       "      <td>-0.325019</td>\n",
       "      <td>0.211235</td>\n",
       "      <td>0.127784</td>\n",
       "      <td>1.000000</td>\n",
       "    </tr>\n",
       "  </tbody>\n",
       "</table>\n",
       "</div>"
      ],
      "text/plain": [
       "                                                   age       job   marital  \\\n",
       "age                                           1.000000 -0.009962 -0.407588   \n",
       "job                                          -0.009962  1.000000  0.030739   \n",
       "marital                                      -0.407588  0.030739  1.000000   \n",
       "education                                    -0.112988  0.132330  0.109775   \n",
       "Credit default                                0.178744 -0.028649 -0.082625   \n",
       "housing loan                                 -0.004541  0.008478  0.017763   \n",
       "loan                                         -0.004022 -0.011808  0.006844   \n",
       "contact                                       0.018067 -0.024775 -0.054736   \n",
       "month                                        -0.027610 -0.027014 -0.004972   \n",
       "day_of_week                                  -0.021020  0.000754  0.002667   \n",
       "last contact duration                        -0.003665 -0.007647  0.012080   \n",
       "no of contacts performed during the campaign  0.005664 -0.008422 -0.002504   \n",
       "pdays after last contract                    -0.017192 -0.032436 -0.041893   \n",
       "No of contacts before campaign                0.001731  0.020426  0.040162   \n",
       "Outcome of previous campaign                  0.017898  0.011388  0.003132   \n",
       "Client subscribed or not                      0.010226  0.026278  0.050084   \n",
       "\n",
       "                                              education  Credit default  \\\n",
       "age                                           -0.112988        0.178744   \n",
       "job                                            0.132330       -0.028649   \n",
       "marital                                        0.109775       -0.082625   \n",
       "education                                      1.000000       -0.187621   \n",
       "Credit default                                -0.187621        1.000000   \n",
       "housing loan                                   0.023730       -0.019189   \n",
       "loan                                           0.006977       -0.004056   \n",
       "contact                                       -0.104060        0.136745   \n",
       "month                                         -0.083212       -0.019822   \n",
       "day_of_week                                   -0.018160       -0.015232   \n",
       "last contact duration                         -0.017342       -0.010710   \n",
       "no of contacts performed during the campaign  -0.001261        0.037369   \n",
       "pdays after last contract                     -0.049161        0.081302   \n",
       "No of contacts before campaign                 0.035693       -0.111021   \n",
       "Outcome of previous campaign                   0.017092        0.026528   \n",
       "Client subscribed or not                       0.059263       -0.099142   \n",
       "\n",
       "                                              housing loan      loan  \\\n",
       "age                                              -0.004541 -0.004022   \n",
       "job                                               0.008478 -0.011808   \n",
       "marital                                           0.017763  0.006844   \n",
       "education                                         0.023730  0.006977   \n",
       "Credit default                                   -0.019189 -0.004056   \n",
       "housing loan                                      1.000000  0.045010   \n",
       "loan                                              0.045010  1.000000   \n",
       "contact                                          -0.082982 -0.009331   \n",
       "month                                            -0.018916 -0.005534   \n",
       "day_of_week                                       0.004569 -0.013839   \n",
       "last contact duration                            -0.009648  0.003301   \n",
       "no of contacts performed during the campaign     -0.013628  0.005443   \n",
       "pdays after last contract                        -0.013687  0.003204   \n",
       "No of contacts before campaign                    0.030056 -0.000539   \n",
       "Outcome of previous campaign                     -0.014968 -0.004173   \n",
       "Client subscribed or not                          0.009821 -0.000452   \n",
       "\n",
       "                                               contact     month  day_of_week  \\\n",
       "age                                           0.018067 -0.027610    -0.021020   \n",
       "job                                          -0.024775 -0.027014     0.000754   \n",
       "marital                                      -0.054736 -0.004972     0.002667   \n",
       "education                                    -0.104060 -0.083212    -0.018160   \n",
       "Credit default                                0.136745 -0.019822    -0.015232   \n",
       "housing loan                                 -0.082982 -0.018916     0.004569   \n",
       "loan                                         -0.009331 -0.005534    -0.013839   \n",
       "contact                                       1.000000  0.275416    -0.007182   \n",
       "month                                         0.275416  1.000000     0.023675   \n",
       "day_of_week                                  -0.007182  0.023675     1.000000   \n",
       "last contact duration                        -0.026148  0.001216     0.022589   \n",
       "no of contacts performed during the campaign  0.074217 -0.061558    -0.035588   \n",
       "pdays after last contract                     0.116379 -0.047644    -0.005695   \n",
       "No of contacts before campaign               -0.240640  0.113643    -0.007010   \n",
       "Outcome of previous campaign                  0.121541 -0.065620     0.014240   \n",
       "Client subscribed or not                     -0.143238 -0.007508     0.011926   \n",
       "\n",
       "                                              last contact duration  \\\n",
       "age                                                       -0.003665   \n",
       "job                                                       -0.007647   \n",
       "marital                                                    0.012080   \n",
       "education                                                 -0.017342   \n",
       "Credit default                                            -0.010710   \n",
       "housing loan                                              -0.009648   \n",
       "loan                                                       0.003301   \n",
       "contact                                                   -0.026148   \n",
       "month                                                      0.001216   \n",
       "day_of_week                                                0.022589   \n",
       "last contact duration                                      1.000000   \n",
       "no of contacts performed during the campaign              -0.075663   \n",
       "pdays after last contract                                 -0.046396   \n",
       "No of contacts before campaign                             0.015882   \n",
       "Outcome of previous campaign                               0.031382   \n",
       "Client subscribed or not                                   0.400752   \n",
       "\n",
       "                                              no of contacts performed during the campaign  \\\n",
       "age                                                                               0.005664   \n",
       "job                                                                              -0.008422   \n",
       "marital                                                                          -0.002504   \n",
       "education                                                                        -0.001261   \n",
       "Credit default                                                                    0.037369   \n",
       "housing loan                                                                     -0.013628   \n",
       "loan                                                                              0.005443   \n",
       "contact                                                                           0.074217   \n",
       "month                                                                            -0.061558   \n",
       "day_of_week                                                                      -0.035588   \n",
       "last contact duration                                                            -0.075663   \n",
       "no of contacts performed during the campaign                                      1.000000   \n",
       "pdays after last contract                                                         0.053843   \n",
       "No of contacts before campaign                                                   -0.087702   \n",
       "Outcome of previous campaign                                                      0.032182   \n",
       "Client subscribed or not                                                         -0.065462   \n",
       "\n",
       "                                              pdays after last contract  \\\n",
       "age                                                           -0.017192   \n",
       "job                                                           -0.032436   \n",
       "marital                                                       -0.041893   \n",
       "education                                                     -0.049161   \n",
       "Credit default                                                 0.081302   \n",
       "housing loan                                                  -0.013687   \n",
       "loan                                                           0.003204   \n",
       "contact                                                        0.116379   \n",
       "month                                                         -0.047644   \n",
       "day_of_week                                                   -0.005695   \n",
       "last contact duration                                         -0.046396   \n",
       "no of contacts performed during the campaign                   0.053843   \n",
       "pdays after last contract                                      1.000000   \n",
       "No of contacts before campaign                                -0.534429   \n",
       "Outcome of previous campaign                                  -0.475727   \n",
       "Client subscribed or not                                      -0.325019   \n",
       "\n",
       "                                              No of contacts before campaign  \\\n",
       "age                                                                 0.001731   \n",
       "job                                                                 0.020426   \n",
       "marital                                                             0.040162   \n",
       "education                                                           0.035693   \n",
       "Credit default                                                     -0.111021   \n",
       "housing loan                                                        0.030056   \n",
       "loan                                                               -0.000539   \n",
       "contact                                                            -0.240640   \n",
       "month                                                               0.113643   \n",
       "day_of_week                                                        -0.007010   \n",
       "last contact duration                                               0.015882   \n",
       "no of contacts performed during the campaign                       -0.087702   \n",
       "pdays after last contract                                          -0.534429   \n",
       "No of contacts before campaign                                      1.000000   \n",
       "Outcome of previous campaign                                       -0.446331   \n",
       "Client subscribed or not                                            0.211235   \n",
       "\n",
       "                                              Outcome of previous campaign  \\\n",
       "age                                                               0.017898   \n",
       "job                                                               0.011388   \n",
       "marital                                                           0.003132   \n",
       "education                                                         0.017092   \n",
       "Credit default                                                    0.026528   \n",
       "housing loan                                                     -0.014968   \n",
       "loan                                                             -0.004173   \n",
       "contact                                                           0.121541   \n",
       "month                                                            -0.065620   \n",
       "day_of_week                                                       0.014240   \n",
       "last contact duration                                             0.031382   \n",
       "no of contacts performed during the campaign                      0.032182   \n",
       "pdays after last contract                                        -0.475727   \n",
       "No of contacts before campaign                                   -0.446331   \n",
       "Outcome of previous campaign                                      1.000000   \n",
       "Client subscribed or not                                          0.127784   \n",
       "\n",
       "                                              Client subscribed or not  \n",
       "age                                                           0.010226  \n",
       "job                                                           0.026278  \n",
       "marital                                                       0.050084  \n",
       "education                                                     0.059263  \n",
       "Credit default                                               -0.099142  \n",
       "housing loan                                                  0.009821  \n",
       "loan                                                         -0.000452  \n",
       "contact                                                      -0.143238  \n",
       "month                                                        -0.007508  \n",
       "day_of_week                                                   0.011926  \n",
       "last contact duration                                         0.400752  \n",
       "no of contacts performed during the campaign                 -0.065462  \n",
       "pdays after last contract                                    -0.325019  \n",
       "No of contacts before campaign                                0.211235  \n",
       "Outcome of previous campaign                                  0.127784  \n",
       "Client subscribed or not                                      1.000000  "
      ]
     },
     "execution_count": 64,
     "metadata": {},
     "output_type": "execute_result"
    }
   ],
   "source": [
    "cor"
   ]
  },
  {
   "cell_type": "markdown",
   "metadata": {},
   "source": [
    "age,job,education,poutcome are positively coorelated, hence as age increases posibility of choosing the term policy increases\n",
    "if a person is highly educated possibility of choosing the term policy increases.\n",
    "Likewise if a person is credit defaulter or have housing loan possibility of choosing the term policy decreases."
   ]
  },
  {
   "cell_type": "markdown",
   "metadata": {},
   "source": [
    "None of tha variables have multicollinearity that can be seen from the table"
   ]
  },
  {
   "cell_type": "markdown",
   "metadata": {},
   "source": [
    "Variance inflation factor is an another process to check multicollinearity"
   ]
  },
  {
   "cell_type": "markdown",
   "metadata": {},
   "source": [
    "# CREATING THE MODEL"
   ]
  },
  {
   "cell_type": "code",
   "execution_count": null,
   "metadata": {},
   "outputs": [],
   "source": [
    "#SOME TERMS WILL BE USED DURING PREDICTION\n",
    "#accuracy is the no of correct predictions/total no of predictions\n",
    "#confusion matrix shows type 1 and type 2 error\n",
    "#The F1 score is a weighted harmonic mean of precision and recall such that the best score is 1.0 and the worst is 0.0.\n",
    "#F1 Score = 2*(Recall * Precision) / (Recall + Precision), shows what % of positive predictions are correct\n",
    "#precision says hat % of predictions are correct\n",
    "#Precision = TP/(TP + FP), it is accuracy of positive predictions\n",
    "#Recall is the fraction of positive that are correctly identified\n",
    "#Recall = TP/(TP+FN)\n",
    "#FPR=FP/FP+TN\n",
    "#TPR=TP/TP+FN, FN is False negative and TP is true Positive\n",
    "#Standard scalling is done to make the datapoints generalised so the distance between them is lower"
   ]
  },
  {
   "cell_type": "code",
   "execution_count": 67,
   "metadata": {},
   "outputs": [],
   "source": [
    "x = bank.drop('Client subscribed or not', axis=1).copy()"
   ]
  },
  {
   "cell_type": "code",
   "execution_count": 68,
   "metadata": {},
   "outputs": [
    {
     "data": {
      "text/html": [
       "<div>\n",
       "<style scoped>\n",
       "    .dataframe tbody tr th:only-of-type {\n",
       "        vertical-align: middle;\n",
       "    }\n",
       "\n",
       "    .dataframe tbody tr th {\n",
       "        vertical-align: top;\n",
       "    }\n",
       "\n",
       "    .dataframe thead th {\n",
       "        text-align: right;\n",
       "    }\n",
       "</style>\n",
       "<table border=\"1\" class=\"dataframe\">\n",
       "  <thead>\n",
       "    <tr style=\"text-align: right;\">\n",
       "      <th></th>\n",
       "      <th>age</th>\n",
       "      <th>job</th>\n",
       "      <th>marital</th>\n",
       "      <th>education</th>\n",
       "      <th>Credit default</th>\n",
       "      <th>housing loan</th>\n",
       "      <th>loan</th>\n",
       "      <th>contact</th>\n",
       "      <th>month</th>\n",
       "      <th>day_of_week</th>\n",
       "      <th>last contact duration</th>\n",
       "      <th>no of contacts performed during the campaign</th>\n",
       "      <th>pdays after last contract</th>\n",
       "      <th>No of contacts before campaign</th>\n",
       "      <th>Outcome of previous campaign</th>\n",
       "    </tr>\n",
       "  </thead>\n",
       "  <tbody>\n",
       "    <tr>\n",
       "      <th>0</th>\n",
       "      <td>3.659306</td>\n",
       "      <td>1</td>\n",
       "      <td>1</td>\n",
       "      <td>2</td>\n",
       "      <td>1</td>\n",
       "      <td>0</td>\n",
       "      <td>0</td>\n",
       "      <td>0</td>\n",
       "      <td>7</td>\n",
       "      <td>4</td>\n",
       "      <td>227</td>\n",
       "      <td>4</td>\n",
       "      <td>9.996666</td>\n",
       "      <td>0.0</td>\n",
       "      <td>1</td>\n",
       "    </tr>\n",
       "    <tr>\n",
       "      <th>1</th>\n",
       "      <td>3.332222</td>\n",
       "      <td>2</td>\n",
       "      <td>1</td>\n",
       "      <td>6</td>\n",
       "      <td>0</td>\n",
       "      <td>0</td>\n",
       "      <td>0</td>\n",
       "      <td>1</td>\n",
       "      <td>7</td>\n",
       "      <td>4</td>\n",
       "      <td>202</td>\n",
       "      <td>2</td>\n",
       "      <td>9.996666</td>\n",
       "      <td>1.0</td>\n",
       "      <td>0</td>\n",
       "    </tr>\n",
       "    <tr>\n",
       "      <th>2</th>\n",
       "      <td>4.272659</td>\n",
       "      <td>5</td>\n",
       "      <td>1</td>\n",
       "      <td>0</td>\n",
       "      <td>0</td>\n",
       "      <td>0</td>\n",
       "      <td>0</td>\n",
       "      <td>0</td>\n",
       "      <td>3</td>\n",
       "      <td>1</td>\n",
       "      <td>1148</td>\n",
       "      <td>1</td>\n",
       "      <td>9.996666</td>\n",
       "      <td>0.0</td>\n",
       "      <td>1</td>\n",
       "    </tr>\n",
       "    <tr>\n",
       "      <th>3</th>\n",
       "      <td>3.301927</td>\n",
       "      <td>0</td>\n",
       "      <td>1</td>\n",
       "      <td>6</td>\n",
       "      <td>0</td>\n",
       "      <td>2</td>\n",
       "      <td>0</td>\n",
       "      <td>1</td>\n",
       "      <td>6</td>\n",
       "      <td>1</td>\n",
       "      <td>120</td>\n",
       "      <td>2</td>\n",
       "      <td>9.996666</td>\n",
       "      <td>0.0</td>\n",
       "      <td>1</td>\n",
       "    </tr>\n",
       "    <tr>\n",
       "      <th>4</th>\n",
       "      <td>3.892996</td>\n",
       "      <td>5</td>\n",
       "      <td>0</td>\n",
       "      <td>6</td>\n",
       "      <td>0</td>\n",
       "      <td>0</td>\n",
       "      <td>0</td>\n",
       "      <td>0</td>\n",
       "      <td>4</td>\n",
       "      <td>3</td>\n",
       "      <td>368</td>\n",
       "      <td>2</td>\n",
       "      <td>9.996666</td>\n",
       "      <td>0.0</td>\n",
       "      <td>1</td>\n",
       "    </tr>\n",
       "    <tr>\n",
       "      <th>...</th>\n",
       "      <td>...</td>\n",
       "      <td>...</td>\n",
       "      <td>...</td>\n",
       "      <td>...</td>\n",
       "      <td>...</td>\n",
       "      <td>...</td>\n",
       "      <td>...</td>\n",
       "      <td>...</td>\n",
       "      <td>...</td>\n",
       "      <td>...</td>\n",
       "      <td>...</td>\n",
       "      <td>...</td>\n",
       "      <td>...</td>\n",
       "      <td>...</td>\n",
       "      <td>...</td>\n",
       "    </tr>\n",
       "    <tr>\n",
       "      <th>32945</th>\n",
       "      <td>3.036589</td>\n",
       "      <td>7</td>\n",
       "      <td>2</td>\n",
       "      <td>3</td>\n",
       "      <td>0</td>\n",
       "      <td>2</td>\n",
       "      <td>0</td>\n",
       "      <td>0</td>\n",
       "      <td>3</td>\n",
       "      <td>3</td>\n",
       "      <td>192</td>\n",
       "      <td>1</td>\n",
       "      <td>9.996666</td>\n",
       "      <td>0.0</td>\n",
       "      <td>1</td>\n",
       "    </tr>\n",
       "    <tr>\n",
       "      <th>32946</th>\n",
       "      <td>3.732511</td>\n",
       "      <td>9</td>\n",
       "      <td>1</td>\n",
       "      <td>5</td>\n",
       "      <td>0</td>\n",
       "      <td>2</td>\n",
       "      <td>0</td>\n",
       "      <td>0</td>\n",
       "      <td>7</td>\n",
       "      <td>0</td>\n",
       "      <td>64</td>\n",
       "      <td>1</td>\n",
       "      <td>9.996666</td>\n",
       "      <td>1.0</td>\n",
       "      <td>0</td>\n",
       "    </tr>\n",
       "    <tr>\n",
       "      <th>32947</th>\n",
       "      <td>3.779763</td>\n",
       "      <td>0</td>\n",
       "      <td>1</td>\n",
       "      <td>2</td>\n",
       "      <td>0</td>\n",
       "      <td>0</td>\n",
       "      <td>2</td>\n",
       "      <td>0</td>\n",
       "      <td>3</td>\n",
       "      <td>1</td>\n",
       "      <td>131</td>\n",
       "      <td>4</td>\n",
       "      <td>9.996666</td>\n",
       "      <td>0.0</td>\n",
       "      <td>1</td>\n",
       "    </tr>\n",
       "    <tr>\n",
       "      <th>32948</th>\n",
       "      <td>3.072317</td>\n",
       "      <td>0</td>\n",
       "      <td>1</td>\n",
       "      <td>6</td>\n",
       "      <td>0</td>\n",
       "      <td>0</td>\n",
       "      <td>0</td>\n",
       "      <td>1</td>\n",
       "      <td>6</td>\n",
       "      <td>0</td>\n",
       "      <td>165</td>\n",
       "      <td>1</td>\n",
       "      <td>9.996666</td>\n",
       "      <td>0.0</td>\n",
       "      <td>1</td>\n",
       "    </tr>\n",
       "    <tr>\n",
       "      <th>32949</th>\n",
       "      <td>3.271066</td>\n",
       "      <td>0</td>\n",
       "      <td>1</td>\n",
       "      <td>6</td>\n",
       "      <td>0</td>\n",
       "      <td>0</td>\n",
       "      <td>2</td>\n",
       "      <td>1</td>\n",
       "      <td>4</td>\n",
       "      <td>3</td>\n",
       "      <td>544</td>\n",
       "      <td>3</td>\n",
       "      <td>9.996666</td>\n",
       "      <td>0.0</td>\n",
       "      <td>1</td>\n",
       "    </tr>\n",
       "  </tbody>\n",
       "</table>\n",
       "<p>32950 rows × 15 columns</p>\n",
       "</div>"
      ],
      "text/plain": [
       "            age  job  marital  education  Credit default  housing loan  loan  \\\n",
       "0      3.659306    1        1          2               1             0     0   \n",
       "1      3.332222    2        1          6               0             0     0   \n",
       "2      4.272659    5        1          0               0             0     0   \n",
       "3      3.301927    0        1          6               0             2     0   \n",
       "4      3.892996    5        0          6               0             0     0   \n",
       "...         ...  ...      ...        ...             ...           ...   ...   \n",
       "32945  3.036589    7        2          3               0             2     0   \n",
       "32946  3.732511    9        1          5               0             2     0   \n",
       "32947  3.779763    0        1          2               0             0     2   \n",
       "32948  3.072317    0        1          6               0             0     0   \n",
       "32949  3.271066    0        1          6               0             0     2   \n",
       "\n",
       "       contact  month  day_of_week  last contact duration  \\\n",
       "0            0      7            4                    227   \n",
       "1            1      7            4                    202   \n",
       "2            0      3            1                   1148   \n",
       "3            1      6            1                    120   \n",
       "4            0      4            3                    368   \n",
       "...        ...    ...          ...                    ...   \n",
       "32945        0      3            3                    192   \n",
       "32946        0      7            0                     64   \n",
       "32947        0      3            1                    131   \n",
       "32948        1      6            0                    165   \n",
       "32949        1      4            3                    544   \n",
       "\n",
       "       no of contacts performed during the campaign  \\\n",
       "0                                                 4   \n",
       "1                                                 2   \n",
       "2                                                 1   \n",
       "3                                                 2   \n",
       "4                                                 2   \n",
       "...                                             ...   \n",
       "32945                                             1   \n",
       "32946                                             1   \n",
       "32947                                             4   \n",
       "32948                                             1   \n",
       "32949                                             3   \n",
       "\n",
       "       pdays after last contract  No of contacts before campaign  \\\n",
       "0                       9.996666                             0.0   \n",
       "1                       9.996666                             1.0   \n",
       "2                       9.996666                             0.0   \n",
       "3                       9.996666                             0.0   \n",
       "4                       9.996666                             0.0   \n",
       "...                          ...                             ...   \n",
       "32945                   9.996666                             0.0   \n",
       "32946                   9.996666                             1.0   \n",
       "32947                   9.996666                             0.0   \n",
       "32948                   9.996666                             0.0   \n",
       "32949                   9.996666                             0.0   \n",
       "\n",
       "       Outcome of previous campaign  \n",
       "0                                 1  \n",
       "1                                 0  \n",
       "2                                 1  \n",
       "3                                 1  \n",
       "4                                 1  \n",
       "...                             ...  \n",
       "32945                             1  \n",
       "32946                             0  \n",
       "32947                             1  \n",
       "32948                             1  \n",
       "32949                             1  \n",
       "\n",
       "[32950 rows x 15 columns]"
      ]
     },
     "execution_count": 68,
     "metadata": {},
     "output_type": "execute_result"
    }
   ],
   "source": [
    "x"
   ]
  },
  {
   "cell_type": "code",
   "execution_count": 69,
   "metadata": {},
   "outputs": [
    {
     "data": {
      "text/plain": [
       "0        0\n",
       "1        0\n",
       "2        1\n",
       "3        0\n",
       "4        0\n",
       "        ..\n",
       "32945    0\n",
       "32946    0\n",
       "32947    0\n",
       "32948    0\n",
       "32949    0\n",
       "Name: Client subscribed or not, Length: 32950, dtype: int32"
      ]
     },
     "execution_count": 69,
     "metadata": {},
     "output_type": "execute_result"
    }
   ],
   "source": [
    "y = bank['Client subscribed or not'].copy()\n",
    "y"
   ]
  },
  {
   "cell_type": "code",
   "execution_count": 70,
   "metadata": {},
   "outputs": [],
   "source": [
    "from statsmodels.stats.outliers_influence import variance_inflation_factor\n"
   ]
  },
  {
   "cell_type": "code",
   "execution_count": 71,
   "metadata": {},
   "outputs": [],
   "source": [
    "vif_data = pd.DataFrame()\n",
    "vif_data[\"feature\"] = x.columns"
   ]
  },
  {
   "cell_type": "code",
   "execution_count": 73,
   "metadata": {},
   "outputs": [],
   "source": [
    "vif_data[\"VIF\"] = [variance_inflation_factor(x.values, i)\n",
    "                          for i in range(len(x.columns))]"
   ]
  },
  {
   "cell_type": "code",
   "execution_count": 74,
   "metadata": {},
   "outputs": [],
   "source": [
    "from sklearn.naive_bayes import MultinomialNB\n",
    "from sklearn.model_selection import train_test_split\n",
    "from sklearn.metrics import accuracy_score,confusion_matrix,classification_report\n"
   ]
  },
  {
   "cell_type": "code",
   "execution_count": 75,
   "metadata": {},
   "outputs": [],
   "source": [
    "x_train,x_test,y_train,y_test=train_test_split(x,y,test_size=0.30,random_state=42)"
   ]
  },
  {
   "cell_type": "code",
   "execution_count": 76,
   "metadata": {},
   "outputs": [
    {
     "data": {
      "text/plain": [
       "(23065, 15)"
      ]
     },
     "execution_count": 76,
     "metadata": {},
     "output_type": "execute_result"
    }
   ],
   "source": [
    "x_train.shape"
   ]
  },
  {
   "cell_type": "code",
   "execution_count": 77,
   "metadata": {},
   "outputs": [
    {
     "data": {
      "text/plain": [
       "(23065,)"
      ]
     },
     "execution_count": 77,
     "metadata": {},
     "output_type": "execute_result"
    }
   ],
   "source": [
    "y_train.shape"
   ]
  },
  {
   "cell_type": "code",
   "execution_count": 78,
   "metadata": {},
   "outputs": [
    {
     "data": {
      "text/plain": [
       "(9885, 15)"
      ]
     },
     "execution_count": 78,
     "metadata": {},
     "output_type": "execute_result"
    }
   ],
   "source": [
    "x_test.shape"
   ]
  },
  {
   "cell_type": "code",
   "execution_count": 79,
   "metadata": {},
   "outputs": [
    {
     "data": {
      "text/plain": [
       "(9885,)"
      ]
     },
     "execution_count": 79,
     "metadata": {},
     "output_type": "execute_result"
    }
   ],
   "source": [
    "y_test.shape"
   ]
  },
  {
   "cell_type": "code",
   "execution_count": 99,
   "metadata": {},
   "outputs": [],
   "source": [
    "from sklearn.preprocessing import StandardScaler"
   ]
  },
  {
   "cell_type": "code",
   "execution_count": 100,
   "metadata": {},
   "outputs": [
    {
     "data": {
      "text/plain": [
       "array([[ 0.91172816, -0.75777938, -0.28487114, ...,  0.19635893,\n",
       "        -0.39547525,  0.19367048],\n",
       "       [-0.21950442, -0.47952864, -0.28487114, ...,  0.19635893,\n",
       "         2.30854453, -2.55221697],\n",
       "       [ 3.03303388,  0.3552236 , -0.28487114, ...,  0.19635893,\n",
       "        -0.39547525,  0.19367048],\n",
       "       ...,\n",
       "       [ 1.32833502, -1.03603013, -0.28487114, ...,  0.19635893,\n",
       "        -0.39547525,  0.19367048],\n",
       "       [-1.11839632, -1.03603013, -0.28487114, ...,  0.19635893,\n",
       "        -0.39547525,  0.19367048],\n",
       "       [-0.4310133 , -1.03603013, -0.28487114, ...,  0.19635893,\n",
       "        -0.39547525,  0.19367048]])"
      ]
     },
     "execution_count": 100,
     "metadata": {},
     "output_type": "execute_result"
    }
   ],
   "source": [
    "st=StandardScaler()\n",
    "x=st.fit_transform(x)\n",
    "x"
   ]
  },
  {
   "cell_type": "code",
   "execution_count": 101,
   "metadata": {},
   "outputs": [
    {
     "data": {
      "text/html": [
       "<div>\n",
       "<style scoped>\n",
       "    .dataframe tbody tr th:only-of-type {\n",
       "        vertical-align: middle;\n",
       "    }\n",
       "\n",
       "    .dataframe tbody tr th {\n",
       "        vertical-align: top;\n",
       "    }\n",
       "\n",
       "    .dataframe thead th {\n",
       "        text-align: right;\n",
       "    }\n",
       "</style>\n",
       "<table border=\"1\" class=\"dataframe\">\n",
       "  <thead>\n",
       "    <tr style=\"text-align: right;\">\n",
       "      <th></th>\n",
       "      <th>0</th>\n",
       "      <th>1</th>\n",
       "      <th>2</th>\n",
       "      <th>3</th>\n",
       "      <th>4</th>\n",
       "      <th>5</th>\n",
       "      <th>6</th>\n",
       "      <th>7</th>\n",
       "      <th>8</th>\n",
       "      <th>9</th>\n",
       "      <th>10</th>\n",
       "      <th>11</th>\n",
       "      <th>12</th>\n",
       "      <th>13</th>\n",
       "      <th>14</th>\n",
       "    </tr>\n",
       "  </thead>\n",
       "  <tbody>\n",
       "    <tr>\n",
       "      <th>0</th>\n",
       "      <td>0.911728</td>\n",
       "      <td>-0.757779</td>\n",
       "      <td>-0.284871</td>\n",
       "      <td>-0.818379</td>\n",
       "      <td>1.933816</td>\n",
       "      <td>-1.08747</td>\n",
       "      <td>-0.453839</td>\n",
       "      <td>-0.758915</td>\n",
       "      <td>1.192670</td>\n",
       "      <td>1.427938</td>\n",
       "      <td>-0.120196</td>\n",
       "      <td>0.522981</td>\n",
       "      <td>0.196359</td>\n",
       "      <td>-0.395475</td>\n",
       "      <td>0.193670</td>\n",
       "    </tr>\n",
       "    <tr>\n",
       "      <th>1</th>\n",
       "      <td>-0.219504</td>\n",
       "      <td>-0.479529</td>\n",
       "      <td>-0.284871</td>\n",
       "      <td>1.053452</td>\n",
       "      <td>-0.516547</td>\n",
       "      <td>-1.08747</td>\n",
       "      <td>-0.453839</td>\n",
       "      <td>1.317671</td>\n",
       "      <td>1.192670</td>\n",
       "      <td>1.427938</td>\n",
       "      <td>-0.216732</td>\n",
       "      <td>-0.203688</td>\n",
       "      <td>0.196359</td>\n",
       "      <td>2.308545</td>\n",
       "      <td>-2.552217</td>\n",
       "    </tr>\n",
       "    <tr>\n",
       "      <th>2</th>\n",
       "      <td>3.033034</td>\n",
       "      <td>0.355224</td>\n",
       "      <td>-0.284871</td>\n",
       "      <td>-1.754295</td>\n",
       "      <td>-0.516547</td>\n",
       "      <td>-1.08747</td>\n",
       "      <td>-0.453839</td>\n",
       "      <td>-0.758915</td>\n",
       "      <td>-0.531722</td>\n",
       "      <td>-0.714554</td>\n",
       "      <td>3.436173</td>\n",
       "      <td>-0.567023</td>\n",
       "      <td>0.196359</td>\n",
       "      <td>-0.395475</td>\n",
       "      <td>0.193670</td>\n",
       "    </tr>\n",
       "    <tr>\n",
       "      <th>3</th>\n",
       "      <td>-0.324280</td>\n",
       "      <td>-1.036030</td>\n",
       "      <td>-0.284871</td>\n",
       "      <td>1.053452</td>\n",
       "      <td>-0.516547</td>\n",
       "      <td>0.94245</td>\n",
       "      <td>-0.453839</td>\n",
       "      <td>1.317671</td>\n",
       "      <td>0.761572</td>\n",
       "      <td>-0.714554</td>\n",
       "      <td>-0.533368</td>\n",
       "      <td>-0.203688</td>\n",
       "      <td>0.196359</td>\n",
       "      <td>-0.395475</td>\n",
       "      <td>0.193670</td>\n",
       "    </tr>\n",
       "    <tr>\n",
       "      <th>4</th>\n",
       "      <td>1.719957</td>\n",
       "      <td>0.355224</td>\n",
       "      <td>-1.928167</td>\n",
       "      <td>1.053452</td>\n",
       "      <td>-0.516547</td>\n",
       "      <td>-1.08747</td>\n",
       "      <td>-0.453839</td>\n",
       "      <td>-0.758915</td>\n",
       "      <td>-0.100624</td>\n",
       "      <td>0.713774</td>\n",
       "      <td>0.424264</td>\n",
       "      <td>-0.203688</td>\n",
       "      <td>0.196359</td>\n",
       "      <td>-0.395475</td>\n",
       "      <td>0.193670</td>\n",
       "    </tr>\n",
       "    <tr>\n",
       "      <th>...</th>\n",
       "      <td>...</td>\n",
       "      <td>...</td>\n",
       "      <td>...</td>\n",
       "      <td>...</td>\n",
       "      <td>...</td>\n",
       "      <td>...</td>\n",
       "      <td>...</td>\n",
       "      <td>...</td>\n",
       "      <td>...</td>\n",
       "      <td>...</td>\n",
       "      <td>...</td>\n",
       "      <td>...</td>\n",
       "      <td>...</td>\n",
       "      <td>...</td>\n",
       "      <td>...</td>\n",
       "    </tr>\n",
       "    <tr>\n",
       "      <th>32945</th>\n",
       "      <td>-1.241963</td>\n",
       "      <td>0.911725</td>\n",
       "      <td>1.358424</td>\n",
       "      <td>-0.350421</td>\n",
       "      <td>-0.516547</td>\n",
       "      <td>0.94245</td>\n",
       "      <td>-0.453839</td>\n",
       "      <td>-0.758915</td>\n",
       "      <td>-0.531722</td>\n",
       "      <td>0.713774</td>\n",
       "      <td>-0.255346</td>\n",
       "      <td>-0.567023</td>\n",
       "      <td>0.196359</td>\n",
       "      <td>-0.395475</td>\n",
       "      <td>0.193670</td>\n",
       "    </tr>\n",
       "    <tr>\n",
       "      <th>32946</th>\n",
       "      <td>1.164912</td>\n",
       "      <td>1.468227</td>\n",
       "      <td>-0.284871</td>\n",
       "      <td>0.585494</td>\n",
       "      <td>-0.516547</td>\n",
       "      <td>0.94245</td>\n",
       "      <td>-0.453839</td>\n",
       "      <td>-0.758915</td>\n",
       "      <td>1.192670</td>\n",
       "      <td>-1.428718</td>\n",
       "      <td>-0.749608</td>\n",
       "      <td>-0.567023</td>\n",
       "      <td>0.196359</td>\n",
       "      <td>2.308545</td>\n",
       "      <td>-2.552217</td>\n",
       "    </tr>\n",
       "    <tr>\n",
       "      <th>32947</th>\n",
       "      <td>1.328335</td>\n",
       "      <td>-1.036030</td>\n",
       "      <td>-0.284871</td>\n",
       "      <td>-0.818379</td>\n",
       "      <td>-0.516547</td>\n",
       "      <td>-1.08747</td>\n",
       "      <td>2.304690</td>\n",
       "      <td>-0.758915</td>\n",
       "      <td>-0.531722</td>\n",
       "      <td>-0.714554</td>\n",
       "      <td>-0.490893</td>\n",
       "      <td>0.522981</td>\n",
       "      <td>0.196359</td>\n",
       "      <td>-0.395475</td>\n",
       "      <td>0.193670</td>\n",
       "    </tr>\n",
       "    <tr>\n",
       "      <th>32948</th>\n",
       "      <td>-1.118396</td>\n",
       "      <td>-1.036030</td>\n",
       "      <td>-0.284871</td>\n",
       "      <td>1.053452</td>\n",
       "      <td>-0.516547</td>\n",
       "      <td>-1.08747</td>\n",
       "      <td>-0.453839</td>\n",
       "      <td>1.317671</td>\n",
       "      <td>0.761572</td>\n",
       "      <td>-1.428718</td>\n",
       "      <td>-0.359604</td>\n",
       "      <td>-0.567023</td>\n",
       "      <td>0.196359</td>\n",
       "      <td>-0.395475</td>\n",
       "      <td>0.193670</td>\n",
       "    </tr>\n",
       "    <tr>\n",
       "      <th>32949</th>\n",
       "      <td>-0.431013</td>\n",
       "      <td>-1.036030</td>\n",
       "      <td>-0.284871</td>\n",
       "      <td>1.053452</td>\n",
       "      <td>-0.516547</td>\n",
       "      <td>-1.08747</td>\n",
       "      <td>2.304690</td>\n",
       "      <td>1.317671</td>\n",
       "      <td>-0.100624</td>\n",
       "      <td>0.713774</td>\n",
       "      <td>1.103874</td>\n",
       "      <td>0.159647</td>\n",
       "      <td>0.196359</td>\n",
       "      <td>-0.395475</td>\n",
       "      <td>0.193670</td>\n",
       "    </tr>\n",
       "  </tbody>\n",
       "</table>\n",
       "<p>32950 rows × 15 columns</p>\n",
       "</div>"
      ],
      "text/plain": [
       "             0         1         2         3         4        5         6   \\\n",
       "0      0.911728 -0.757779 -0.284871 -0.818379  1.933816 -1.08747 -0.453839   \n",
       "1     -0.219504 -0.479529 -0.284871  1.053452 -0.516547 -1.08747 -0.453839   \n",
       "2      3.033034  0.355224 -0.284871 -1.754295 -0.516547 -1.08747 -0.453839   \n",
       "3     -0.324280 -1.036030 -0.284871  1.053452 -0.516547  0.94245 -0.453839   \n",
       "4      1.719957  0.355224 -1.928167  1.053452 -0.516547 -1.08747 -0.453839   \n",
       "...         ...       ...       ...       ...       ...      ...       ...   \n",
       "32945 -1.241963  0.911725  1.358424 -0.350421 -0.516547  0.94245 -0.453839   \n",
       "32946  1.164912  1.468227 -0.284871  0.585494 -0.516547  0.94245 -0.453839   \n",
       "32947  1.328335 -1.036030 -0.284871 -0.818379 -0.516547 -1.08747  2.304690   \n",
       "32948 -1.118396 -1.036030 -0.284871  1.053452 -0.516547 -1.08747 -0.453839   \n",
       "32949 -0.431013 -1.036030 -0.284871  1.053452 -0.516547 -1.08747  2.304690   \n",
       "\n",
       "             7         8         9         10        11        12        13  \\\n",
       "0     -0.758915  1.192670  1.427938 -0.120196  0.522981  0.196359 -0.395475   \n",
       "1      1.317671  1.192670  1.427938 -0.216732 -0.203688  0.196359  2.308545   \n",
       "2     -0.758915 -0.531722 -0.714554  3.436173 -0.567023  0.196359 -0.395475   \n",
       "3      1.317671  0.761572 -0.714554 -0.533368 -0.203688  0.196359 -0.395475   \n",
       "4     -0.758915 -0.100624  0.713774  0.424264 -0.203688  0.196359 -0.395475   \n",
       "...         ...       ...       ...       ...       ...       ...       ...   \n",
       "32945 -0.758915 -0.531722  0.713774 -0.255346 -0.567023  0.196359 -0.395475   \n",
       "32946 -0.758915  1.192670 -1.428718 -0.749608 -0.567023  0.196359  2.308545   \n",
       "32947 -0.758915 -0.531722 -0.714554 -0.490893  0.522981  0.196359 -0.395475   \n",
       "32948  1.317671  0.761572 -1.428718 -0.359604 -0.567023  0.196359 -0.395475   \n",
       "32949  1.317671 -0.100624  0.713774  1.103874  0.159647  0.196359 -0.395475   \n",
       "\n",
       "             14  \n",
       "0      0.193670  \n",
       "1     -2.552217  \n",
       "2      0.193670  \n",
       "3      0.193670  \n",
       "4      0.193670  \n",
       "...         ...  \n",
       "32945  0.193670  \n",
       "32946 -2.552217  \n",
       "32947  0.193670  \n",
       "32948  0.193670  \n",
       "32949  0.193670  \n",
       "\n",
       "[32950 rows x 15 columns]"
      ]
     },
     "execution_count": 101,
     "metadata": {},
     "output_type": "execute_result"
    }
   ],
   "source": [
    "X=pd.DataFrame(data=x)\n",
    "X"
   ]
  },
  {
   "cell_type": "code",
   "execution_count": 102,
   "metadata": {},
   "outputs": [],
   "source": [
    "mnb=MultinomialNB()"
   ]
  },
  {
   "cell_type": "code",
   "execution_count": 103,
   "metadata": {},
   "outputs": [
    {
     "data": {
      "text/plain": [
       "MultinomialNB()"
      ]
     },
     "execution_count": 103,
     "metadata": {},
     "output_type": "execute_result"
    }
   ],
   "source": [
    "mnb"
   ]
  },
  {
   "cell_type": "code",
   "execution_count": 104,
   "metadata": {},
   "outputs": [
    {
     "data": {
      "text/plain": [
       "MultinomialNB()"
      ]
     },
     "execution_count": 104,
     "metadata": {},
     "output_type": "execute_result"
    }
   ],
   "source": [
    "mnb.fit(x_train,y_train)"
   ]
  },
  {
   "cell_type": "code",
   "execution_count": 105,
   "metadata": {},
   "outputs": [],
   "source": [
    "pred=mnb.predict(x_test)"
   ]
  },
  {
   "cell_type": "code",
   "execution_count": 106,
   "metadata": {},
   "outputs": [
    {
     "data": {
      "text/plain": [
       "array([0, 0, 0, ..., 0, 0, 0])"
      ]
     },
     "execution_count": 106,
     "metadata": {},
     "output_type": "execute_result"
    }
   ],
   "source": [
    "pred"
   ]
  },
  {
   "cell_type": "code",
   "execution_count": 119,
   "metadata": {},
   "outputs": [
    {
     "data": {
      "text/plain": [
       "array([[-5.13590937, -4.97957817, -6.13864285, -4.96095348, -8.68033895,\n",
       "        -6.26271917, -7.46055554, -8.12129248, -4.93219507, -5.64076137,\n",
       "        -0.0574966 , -5.66137271, -4.2455561 , -7.39236231, -6.30812374]])"
      ]
     },
     "execution_count": 119,
     "metadata": {},
     "output_type": "execute_result"
    }
   ],
   "source": [
    "mnb.coef_"
   ]
  },
  {
   "cell_type": "code",
   "execution_count": 120,
   "metadata": {},
   "outputs": [
    {
     "data": {
      "text/plain": [
       "array([-2.20222296])"
      ]
     },
     "execution_count": 120,
     "metadata": {},
     "output_type": "execute_result"
    }
   ],
   "source": [
    "mnb.intercept_"
   ]
  },
  {
   "cell_type": "code",
   "execution_count": 121,
   "metadata": {},
   "outputs": [
    {
     "data": {
      "text/plain": [
       "0.8214610882289183"
      ]
     },
     "execution_count": 121,
     "metadata": {},
     "output_type": "execute_result"
    }
   ],
   "source": [
    "mnb.score(x_train,y_train)"
   ]
  },
  {
   "cell_type": "code",
   "execution_count": 107,
   "metadata": {},
   "outputs": [
    {
     "data": {
      "text/plain": [
       "0.8111279716742539"
      ]
     },
     "execution_count": 107,
     "metadata": {},
     "output_type": "execute_result"
    }
   ],
   "source": [
    "accuracy_score(y_test,pred)"
   ]
  },
  {
   "cell_type": "code",
   "execution_count": 108,
   "metadata": {},
   "outputs": [
    {
     "data": {
      "text/plain": [
       "array([[7278, 1445],\n",
       "       [ 422,  740]], dtype=int64)"
      ]
     },
     "execution_count": 108,
     "metadata": {},
     "output_type": "execute_result"
    }
   ],
   "source": [
    "confusion_matrix(y_test,pred)"
   ]
  },
  {
   "cell_type": "code",
   "execution_count": 109,
   "metadata": {},
   "outputs": [
    {
     "name": "stdout",
     "output_type": "stream",
     "text": [
      "              precision    recall  f1-score   support\n",
      "\n",
      "           0       0.95      0.83      0.89      8723\n",
      "           1       0.34      0.64      0.44      1162\n",
      "\n",
      "    accuracy                           0.81      9885\n",
      "   macro avg       0.64      0.74      0.66      9885\n",
      "weighted avg       0.87      0.81      0.83      9885\n",
      "\n"
     ]
    }
   ],
   "source": [
    "print(classification_report(y_test,pred))"
   ]
  },
  {
   "cell_type": "code",
   "execution_count": 110,
   "metadata": {},
   "outputs": [],
   "source": [
    "from sklearn.metrics import roc_curve\n",
    "import matplotlib.pyplot as plt\n",
    "from sklearn.metrics import roc_auc_score"
   ]
  },
  {
   "cell_type": "code",
   "execution_count": 111,
   "metadata": {},
   "outputs": [],
   "source": [
    "y_pred_prob=mnb.predict_proba(x_test)[:,1]"
   ]
  },
  {
   "cell_type": "code",
   "execution_count": 112,
   "metadata": {},
   "outputs": [
    {
     "data": {
      "text/plain": [
       "array([1.90887905e-13, 6.23467259e-11, 1.20415139e-01, ...,\n",
       "       1.28116074e-06, 1.18282005e-11, 1.24792252e-02])"
      ]
     },
     "execution_count": 112,
     "metadata": {},
     "output_type": "execute_result"
    }
   ],
   "source": [
    "y_pred_prob"
   ]
  },
  {
   "cell_type": "code",
   "execution_count": 113,
   "metadata": {},
   "outputs": [],
   "source": [
    "fpr,tpr,thersholds=roc_curve(y_test,y_pred_prob)"
   ]
  },
  {
   "cell_type": "code",
   "execution_count": 114,
   "metadata": {},
   "outputs": [
    {
     "data": {
      "text/plain": [
       "array([0.        , 0.02820131, 0.02957698, ..., 0.91539608, 0.91539608,\n",
       "       1.        ])"
      ]
     },
     "execution_count": 114,
     "metadata": {},
     "output_type": "execute_result"
    }
   ],
   "source": [
    "fpr"
   ]
  },
  {
   "cell_type": "code",
   "execution_count": 115,
   "metadata": {},
   "outputs": [
    {
     "data": {
      "text/plain": [
       "array([2.00000000e+00, 1.00000000e+00, 1.00000000e+00, ...,\n",
       "       1.00225819e-13, 1.00188674e-13, 6.03890970e-33])"
      ]
     },
     "execution_count": 115,
     "metadata": {},
     "output_type": "execute_result"
    }
   ],
   "source": [
    "thersholds"
   ]
  },
  {
   "cell_type": "code",
   "execution_count": 163,
   "metadata": {},
   "outputs": [
    {
     "data": {
      "image/png": "[encoded data removed]",
      "text/plain": [
       "<Figure size 432x288 with 1 Axes>"
      ]
     },
     "metadata": {
      "needs_background": "light"
     },
     "output_type": "display_data"
    }
   ],
   "source": [
    "plt.plot([0,1],[0,1],\"k--\")\n",
    "plt.plot(fpr,tpr,label=\"Probit Model\")\n",
    "plt.xlabel(\"False Positive Rate\")\n",
    "plt.ylabel(\"True Positive Rate\")\n",
    "plt.title(\"Probit Model\")\n",
    "plt.show()"
   ]
  },
  {
   "cell_type": "code",
   "execution_count": 117,
   "metadata": {},
   "outputs": [],
   "source": [
    "auc_score=roc_auc_score(y_test,mnb.predict(x_test))"
   ]
  },
  {
   "cell_type": "code",
   "execution_count": 118,
   "metadata": {},
   "outputs": [
    {
     "data": {
      "text/plain": [
       "0.7355895141792831"
      ]
     },
     "execution_count": 118,
     "metadata": {},
     "output_type": "execute_result"
    }
   ],
   "source": [
    "auc_score"
   ]
  },
  {
   "cell_type": "code",
   "execution_count": null,
   "metadata": {},
   "outputs": [],
   "source": []
  },
  {
   "cell_type": "code",
   "execution_count": 122,
   "metadata": {},
   "outputs": [],
   "source": [
    "from sklearn.naive_bayes import GaussianNB"
   ]
  },
  {
   "cell_type": "code",
   "execution_count": 123,
   "metadata": {},
   "outputs": [
    {
     "data": {
      "text/plain": [
       "array([0, 0, 0, ..., 0, 0, 0])"
      ]
     },
     "execution_count": 123,
     "metadata": {},
     "output_type": "execute_result"
    }
   ],
   "source": [
    "gnb=GaussianNB()\n",
    "gnb.fit(x_train,y_train)\n",
    "predgnb=gnb.predict(x_test)\n",
    "predgnb"
   ]
  },
  {
   "cell_type": "code",
   "execution_count": 124,
   "metadata": {},
   "outputs": [
    {
     "data": {
      "text/plain": [
       "array([[7786,  937],\n",
       "       [ 601,  561]], dtype=int64)"
      ]
     },
     "execution_count": 124,
     "metadata": {},
     "output_type": "execute_result"
    }
   ],
   "source": [
    "confusion_matrix(y_test,predgnb)"
   ]
  },
  {
   "cell_type": "code",
   "execution_count": 125,
   "metadata": {},
   "outputs": [
    {
     "data": {
      "text/plain": [
       "0.8444107233181588"
      ]
     },
     "execution_count": 125,
     "metadata": {},
     "output_type": "execute_result"
    }
   ],
   "source": [
    "accuracy_score(y_test,predgnb)"
   ]
  },
  {
   "cell_type": "code",
   "execution_count": 126,
   "metadata": {},
   "outputs": [
    {
     "name": "stdout",
     "output_type": "stream",
     "text": [
      "              precision    recall  f1-score   support\n",
      "\n",
      "           0       0.93      0.89      0.91      8723\n",
      "           1       0.37      0.48      0.42      1162\n",
      "\n",
      "    accuracy                           0.84      9885\n",
      "   macro avg       0.65      0.69      0.67      9885\n",
      "weighted avg       0.86      0.84      0.85      9885\n",
      "\n"
     ]
    }
   ],
   "source": [
    "print(classification_report(y_test,predgnb))"
   ]
  },
  {
   "cell_type": "code",
   "execution_count": 165,
   "metadata": {},
   "outputs": [],
   "source": [
    "y_pred_prob=gnb.predict_proba(x_test)[:,1]"
   ]
  },
  {
   "cell_type": "code",
   "execution_count": 166,
   "metadata": {},
   "outputs": [],
   "source": [
    "fpr,tpr,thersholds=roc_curve(y_test,y_pred_prob)"
   ]
  },
  {
   "cell_type": "code",
   "execution_count": 167,
   "metadata": {},
   "outputs": [
    {
     "data": {
      "image/png": "[encoded data removed]",
      "text/plain": [
       "<Figure size 432x288 with 1 Axes>"
      ]
     },
     "metadata": {
      "needs_background": "light"
     },
     "output_type": "display_data"
    }
   ],
   "source": [
    "plt.plot([0,1],[0,1],\"k--\")\n",
    "plt.plot(fpr,tpr,label=\"Gaussion\")\n",
    "plt.xlabel(\"False Positive Rate\")\n",
    "plt.ylabel(\"True Positive Rate\")\n",
    "plt.title(\"Gaussion\")\n",
    "plt.show()"
   ]
  },
  {
   "cell_type": "code",
   "execution_count": 170,
   "metadata": {},
   "outputs": [],
   "source": [
    "auc_score=roc_auc_score(y_test,gnb.predict(x_test))"
   ]
  },
  {
   "cell_type": "code",
   "execution_count": 171,
   "metadata": {},
   "outputs": [
    {
     "data": {
      "text/plain": [
       "0.6876855615251823"
      ]
     },
     "execution_count": 171,
     "metadata": {},
     "output_type": "execute_result"
    }
   ],
   "source": [
    "auc_score"
   ]
  },
  {
   "cell_type": "code",
   "execution_count": 208,
   "metadata": {},
   "outputs": [],
   "source": [
    "from sklearn.neighbors import KNeighborsClassifier\n"
   ]
  },
  {
   "cell_type": "code",
   "execution_count": 209,
   "metadata": {},
   "outputs": [
    {
     "data": {
      "text/plain": [
       "KNeighborsClassifier()"
      ]
     },
     "execution_count": 209,
     "metadata": {},
     "output_type": "execute_result"
    }
   ],
   "source": [
    "knn=KNeighborsClassifier()\n",
    "knn.fit(x_train,y_train)"
   ]
  },
  {
   "cell_type": "code",
   "execution_count": 210,
   "metadata": {},
   "outputs": [
    {
     "data": {
      "text/plain": [
       "array([0, 0, 0, ..., 0, 0, 0])"
      ]
     },
     "execution_count": 210,
     "metadata": {},
     "output_type": "execute_result"
    }
   ],
   "source": [
    "predknn=knn.predict(x_test)\n",
    "predknn"
   ]
  },
  {
   "cell_type": "code",
   "execution_count": 211,
   "metadata": {},
   "outputs": [
    {
     "data": {
      "text/plain": [
       "0.8944865958523015"
      ]
     },
     "execution_count": 211,
     "metadata": {},
     "output_type": "execute_result"
    }
   ],
   "source": [
    "accuracy_score(y_test,predknn)"
   ]
  },
  {
   "cell_type": "code",
   "execution_count": 137,
   "metadata": {},
   "outputs": [
    {
     "data": {
      "text/plain": [
       "array([[8407,  316],\n",
       "       [ 727,  435]], dtype=int64)"
      ]
     },
     "execution_count": 137,
     "metadata": {},
     "output_type": "execute_result"
    }
   ],
   "source": [
    "confusion_matrix(y_test,predknn)"
   ]
  },
  {
   "cell_type": "code",
   "execution_count": 138,
   "metadata": {},
   "outputs": [
    {
     "name": "stdout",
     "output_type": "stream",
     "text": [
      "              precision    recall  f1-score   support\n",
      "\n",
      "           0       0.92      0.96      0.94      8723\n",
      "           1       0.58      0.37      0.45      1162\n",
      "\n",
      "    accuracy                           0.89      9885\n",
      "   macro avg       0.75      0.67      0.70      9885\n",
      "weighted avg       0.88      0.89      0.88      9885\n",
      "\n"
     ]
    }
   ],
   "source": [
    "print(classification_report(y_test,predknn))"
   ]
  },
  {
   "cell_type": "code",
   "execution_count": 172,
   "metadata": {},
   "outputs": [],
   "source": [
    "y_pred_prob=knn.predict_proba(x_test)[:,1]"
   ]
  },
  {
   "cell_type": "code",
   "execution_count": 173,
   "metadata": {},
   "outputs": [],
   "source": [
    "fpr,tpr,thersholds=roc_curve(y_test,y_pred_prob)"
   ]
  },
  {
   "cell_type": "code",
   "execution_count": 174,
   "metadata": {},
   "outputs": [
    {
     "data": {
      "image/png": "[encoded data removed]",
      "text/plain": [
       "<Figure size 432x288 with 1 Axes>"
      ]
     },
     "metadata": {
      "needs_background": "light"
     },
     "output_type": "display_data"
    }
   ],
   "source": [
    "plt.plot([0,1],[0,1],\"k--\")\n",
    "plt.plot(fpr,tpr,label=\"KNN\")\n",
    "plt.xlabel(\"False Positive Rate\")\n",
    "plt.ylabel(\"True Positive Rate\")\n",
    "plt.title(\"KNN\")\n",
    "plt.show()"
   ]
  },
  {
   "cell_type": "code",
   "execution_count": 175,
   "metadata": {},
   "outputs": [],
   "source": [
    "auc_score=roc_auc_score(y_test,knn.predict(x_test))"
   ]
  },
  {
   "cell_type": "code",
   "execution_count": 176,
   "metadata": {},
   "outputs": [
    {
     "data": {
      "text/plain": [
       "0.6690642460442974"
      ]
     },
     "execution_count": 176,
     "metadata": {},
     "output_type": "execute_result"
    }
   ],
   "source": [
    "auc_score"
   ]
  },
  {
   "cell_type": "code",
   "execution_count": 177,
   "metadata": {},
   "outputs": [],
   "source": [
    "from sklearn.tree import DecisionTreeClassifier"
   ]
  },
  {
   "cell_type": "code",
   "execution_count": 178,
   "metadata": {},
   "outputs": [],
   "source": [
    "dtc=DecisionTreeClassifier(criterion=\"gini\")"
   ]
  },
  {
   "cell_type": "code",
   "execution_count": 179,
   "metadata": {},
   "outputs": [
    {
     "data": {
      "text/plain": [
       "DecisionTreeClassifier()"
      ]
     },
     "execution_count": 179,
     "metadata": {},
     "output_type": "execute_result"
    }
   ],
   "source": [
    "dtc.fit(x_train,y_train)"
   ]
  },
  {
   "cell_type": "code",
   "execution_count": 180,
   "metadata": {},
   "outputs": [],
   "source": [
    " preddtc=dtc.predict(x_test)"
   ]
  },
  {
   "cell_type": "code",
   "execution_count": 181,
   "metadata": {},
   "outputs": [
    {
     "data": {
      "text/plain": [
       "0.8729387961557916"
      ]
     },
     "execution_count": 181,
     "metadata": {},
     "output_type": "execute_result"
    }
   ],
   "source": [
    "accuracy_score(y_test,preddtc)"
   ]
  },
  {
   "cell_type": "code",
   "execution_count": 182,
   "metadata": {},
   "outputs": [
    {
     "name": "stdout",
     "output_type": "stream",
     "text": [
      "[[8052  671]\n",
      " [ 585  577]]\n"
     ]
    }
   ],
   "source": [
    "print(confusion_matrix(y_test,preddtc))"
   ]
  },
  {
   "cell_type": "code",
   "execution_count": 183,
   "metadata": {},
   "outputs": [
    {
     "name": "stdout",
     "output_type": "stream",
     "text": [
      "              precision    recall  f1-score   support\n",
      "\n",
      "           0       0.93      0.92      0.93      8723\n",
      "           1       0.46      0.50      0.48      1162\n",
      "\n",
      "    accuracy                           0.87      9885\n",
      "   macro avg       0.70      0.71      0.70      9885\n",
      "weighted avg       0.88      0.87      0.87      9885\n",
      "\n"
     ]
    }
   ],
   "source": [
    "print(classification_report(y_test,preddtc))"
   ]
  },
  {
   "cell_type": "code",
   "execution_count": 184,
   "metadata": {},
   "outputs": [],
   "source": [
    "y_pred_prob=dtc.predict_proba(x_test)[:,1]"
   ]
  },
  {
   "cell_type": "code",
   "execution_count": 185,
   "metadata": {},
   "outputs": [],
   "source": [
    "fpr,tpr,thersholds=roc_curve(y_test,y_pred_prob)"
   ]
  },
  {
   "cell_type": "code",
   "execution_count": 186,
   "metadata": {},
   "outputs": [
    {
     "data": {
      "image/png": "[encoded data removed]",
      "text/plain": [
       "<Figure size 432x288 with 1 Axes>"
      ]
     },
     "metadata": {
      "needs_background": "light"
     },
     "output_type": "display_data"
    }
   ],
   "source": [
    "plt.plot([0,1],[0,1],\"k--\")\n",
    "plt.plot(fpr,tpr,label=\"DTC\")\n",
    "plt.xlabel(\"False Positive Rate\")\n",
    "plt.ylabel(\"True Positive Rate\")\n",
    "plt.title(\"DTC\")\n",
    "plt.show()"
   ]
  },
  {
   "cell_type": "code",
   "execution_count": 187,
   "metadata": {},
   "outputs": [],
   "source": [
    "auc_score=roc_auc_score(y_test,dtc.predict(x_test))"
   ]
  },
  {
   "cell_type": "code",
   "execution_count": 188,
   "metadata": {},
   "outputs": [
    {
     "data": {
      "text/plain": [
       "0.7098172911425924"
      ]
     },
     "execution_count": 188,
     "metadata": {},
     "output_type": "execute_result"
    }
   ],
   "source": [
    "auc_score"
   ]
  },
  {
   "cell_type": "code",
   "execution_count": 200,
   "metadata": {},
   "outputs": [],
   "source": [
    "from sklearn.svm import SVC"
   ]
  },
  {
   "cell_type": "code",
   "execution_count": 201,
   "metadata": {},
   "outputs": [
    {
     "data": {
      "text/plain": [
       "SVC()"
      ]
     },
     "execution_count": 201,
     "metadata": {},
     "output_type": "execute_result"
    }
   ],
   "source": [
    "sv=SVC(kernel=\"rbf\")\n",
    "sv.fit(x_train,y_train)"
   ]
  },
  {
   "cell_type": "code",
   "execution_count": 202,
   "metadata": {},
   "outputs": [],
   "source": [
    "predictsvc=sv.predict(x_test)"
   ]
  },
  {
   "cell_type": "code",
   "execution_count": 203,
   "metadata": {},
   "outputs": [
    {
     "data": {
      "text/plain": [
       "0.8900354071825999"
      ]
     },
     "execution_count": 203,
     "metadata": {},
     "output_type": "execute_result"
    }
   ],
   "source": [
    "accuracy_score(y_test,predictsvc)"
   ]
  },
  {
   "cell_type": "code",
   "execution_count": 204,
   "metadata": {},
   "outputs": [
    {
     "name": "stdout",
     "output_type": "stream",
     "text": [
      "[[8576  147]\n",
      " [ 940  222]]\n"
     ]
    }
   ],
   "source": [
    "print(confusion_matrix(y_test,predictsvc))"
   ]
  },
  {
   "cell_type": "code",
   "execution_count": 205,
   "metadata": {},
   "outputs": [
    {
     "name": "stdout",
     "output_type": "stream",
     "text": [
      "              precision    recall  f1-score   support\n",
      "\n",
      "           0       0.90      0.98      0.94      8723\n",
      "           1       0.60      0.19      0.29      1162\n",
      "\n",
      "    accuracy                           0.89      9885\n",
      "   macro avg       0.75      0.59      0.62      9885\n",
      "weighted avg       0.87      0.89      0.86      9885\n",
      "\n"
     ]
    }
   ],
   "source": [
    "print(classification_report(y_test,predictsvc))"
   ]
  },
  {
   "cell_type": "markdown",
   "metadata": {},
   "source": [
    "SO both SVM and Knn is the best fit, business should use these models to check if a person will be interested in choosing\n",
    "the term policy before approaching him or her"
   ]
  },
  {
   "cell_type": "code",
   "execution_count": null,
   "metadata": {},
   "outputs": [],
   "source": []
  },
  {
   "cell_type": "code",
   "execution_count": null,
   "metadata": {},
   "outputs": [],
   "source": []
  }
 ],
 "metadata": {
  "kernelspec": {
   "display_name": "Python 3",
   "language": "python",
   "name": "python3"
  },
  "language_info": {
   "codemirror_mode": {
    "name": "ipython",
    "version": 3
   },
   "file_extension": ".py",
   "mimetype": "text/x-python",
   "name": "python",
   "nbconvert_exporter": "python",
   "pygments_lexer": "ipython3",
   "version": "3.8.5"
  }
 },
 "nbformat": 4,
 "nbformat_minor": 4
}
