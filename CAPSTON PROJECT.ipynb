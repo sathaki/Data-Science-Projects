{
 "cells": [
  {
   "cell_type": "code",
   "execution_count": 1,
   "metadata": {},
   "outputs": [],
   "source": [
    "#Installing necessary libraries and upgrading versions - \n",
    "#pip install requests\n",
    "#pip install --upgrade pip"
   ]
  },
  {
   "cell_type": "code",
   "execution_count": 2,
   "metadata": {},
   "outputs": [
    {
     "name": "stderr",
     "output_type": "stream",
     "text": [
      "C:\\Users\\SATHAKI PROSAD\\anaconda3\\lib\\site-packages\\requests\\__init__.py:89: RequestsDependencyWarning: urllib3 (1.26.14) or chardet (3.0.4) doesn't match a supported version!\n",
      "  warnings.warn(\"urllib3 ({}) or chardet ({}) doesn't match a supported \"\n"
     ]
    }
   ],
   "source": [
    "import numpy as np\n",
    "import pandas as pd\n",
    "import requests\n",
    "from bs4 import BeautifulSoup"
   ]
  },
  {
   "cell_type": "code",
   "execution_count": null,
   "metadata": {},
   "outputs": [],
   "source": [
    "#Getting the content from HTML-page and starting to parse the HTML-page:\n",
    "url = \"https://www.imdb.com/search/title/?genres=action&sort=user_rating,desc&ti\n",
    "response = requests.get(url)\n",
    "# print(response)\n",
    "soup = BeautifulSoup(response.content, 'html.parser')\n",
    "# print(soup)"
   ]
  },
  {
   "cell_type": "code",
   "execution_count": null,
   "metadata": {},
   "outputs": [],
   "source": [
    "#Creating an empty list, so that we can append the values -\n",
    "# CSv - 1:\n",
    "Sno = []\n",
    "movie_name = []\n",
    "director_name = []\n",
    "duration = []\n",
    "year = []\n",
    "rating = []\n",
    "metascore = []\n",
    "#CSV - 2:\n",
    "Stars = []\n",
    "votes = []\n",
    "genre = []\n",
    "gross = []\n",
    "popularity = []\n",
    "certifcation = []"
   ]
  },
  {
   "cell_type": "code",
   "execution_count": null,
   "metadata": {},
   "outputs": [],
   "source": [
    "#Storing the meaningfull required data in the variable\n",
    "movie_data = soup.findAll('div', attrs= {'class': \"lister-item mode-advanced\"})\n",
    "# <div class=>\n",
    "# movie_name"
   ]
  },
  {
   "cell_type": "code",
   "execution_count": null,
   "metadata": {},
   "outputs": [],
   "source": [
    "#Calling molvie-name one-by-one using for loop and storing it in movie-name list\n",
    "#For data-set -1 ->\n",
    "for store in movie_data:\n",
    " name = store.h3.a.text\n",
    " movie_name.append(name) \n",
    " \n",
    " serial = store.h3.find('span', class_ = \"lister-item-index unbold text-prima\n",
    " #print(serial)\n",
    " Sno.append(serial)\n",
    " runtime = store.p.find('span', class_ = 'runtime').text.replace(' min', '')\n",
    " duration.append(runtime) \n",
    " \n",
    " #Scraping Director name -\n",
    " cast = store.find(\"p\", class_ = '')\n",
    " cast = cast.text.replace('\\n', '').split('|')\n",
    " cast = [x.strip() for x in cast]\n",
    " cast = [cast[i].replace(j, \"\") for i,j in enumerate([\"Director:\", \"Stars:\"])\n",
    " director_name.append(cast[0])\n",
    " \n",
    " year_of_release = store.h3.find('span', class_ = \"lister-item-year text-mute\n",
    " #print(year_of_release)\n",
    " year.append(year_of_release)\n",
    " \n",
    " rate = store.find('div', class_ = 'inline-block ratings-imdb-rating').text.r\n",
    " rating.append(rate)\n",
    " \n",
    " meta = store.find('span', class_ = 'metascore').text.replace(' ', '') if st\n",
    " metascore.append(meta)\n",
    " \n",
    "#For data-set -2 ->\n",
    " #Cast Details -- Stars\n",
    " cast = store.find(\"p\", class_ = '')\n",
    " cast = cast.text.replace('\\n', '').split('|')\n",
    " cast = [x.strip() for x in cast]\n",
    " cast = [cast[i].replace(j, \"\") for i,j in enumerate([\"Director:\", \"Stars:\"])\n",
    " Stars.append([x.strip() for x in cast[1].split(\",\")]) \n",
    " \n",
    " #Since, gross and votes have same attributes, that's why we had created a co\n",
    " value = store.find_all('span', attrs = {'name': 'nv'}) \n",
    " vote = value[0].text\n",
    " votes.append(vote)\n",
    " \n",
    " genre_list = store.p.find('span', class_ = \"genre\")\n",
    " #print(\"I am genre_list\", genre_list)\n",
    " genre.append(genre_list)\n",
    " grosses = value[1].text if len(value) >1 else '*****'\n",
    " gross.append(grosses)\n",
    " \n",
    " #Popularity --\n",
    " rate = store.find('div', class_ = 'inline-block ratings-imdb-rating').text.r\n",
    " popularity.append(rate)\n",
    " \n",
    " #Description of the Movies -- Not explained in the Video, But you will figur\n",
    " #describe = store.find_all('p', class_ = 'text-muted')\n",
    " #description_ = describe[1].text.replace('\\n', '') if len(describe) >1 else \n",
    " #description.append(description_)\n",
    "#Certifcation --\n",
    " certificate_list = store.p.find('span', class_ = \"certificate\")\n",
    " #print(\"I am certificate_list\", certificate_list)\n",
    " certifcation.append(certificate_list)"
   ]
  },
  {
   "cell_type": "code",
   "execution_count": null,
   "metadata": {},
   "outputs": [],
   "source": [
    "#Count the number of movies -\n",
    "# np.count_nonzero(movie_name)\n",
    "# sorted(year)\n",
    "# sorted(Sno)\n",
    "# sorted(rating)"
   ]
  },
  {
   "cell_type": "code",
   "execution_count": null,
   "metadata": {},
   "outputs": [],
   "source": [
    "#Creating a dataframe-1 using pandas library -\n",
    "movie_df_1 = pd.DataFrame({'Serial Number': Sno, 'Name of movie': movie_name, \"D\n",
    "movie_df_"
   ]
  },
  {
   "cell_type": "code",
   "execution_count": 1,
   "metadata": {},
   "outputs": [],
   "source": [
    "import pandas as pd\n",
    "import numpy as np\n",
    "\n",
    "import sklearn\n",
    "import seaborn as sns\n",
    "import matplotlib.pyplot as plt"
   ]
  },
  {
   "cell_type": "code",
   "execution_count": 31,
   "metadata": {},
   "outputs": [
    {
     "name": "stdout",
     "output_type": "stream",
     "text": [
      "C:\\Users\\SATHAKI PROSAD\\Desktop\n"
     ]
    }
   ],
   "source": [
    "cd C:\\Users\\SATHAKI PROSAD\\Desktop"
   ]
  },
  {
   "cell_type": "code",
   "execution_count": 32,
   "metadata": {},
   "outputs": [],
   "source": [
    "mov = pd.read_csv('movie_data.csv')"
   ]
  },
  {
   "cell_type": "code",
   "execution_count": 33,
   "metadata": {},
   "outputs": [
    {
     "data": {
      "text/html": [
       "<div>\n",
       "<style scoped>\n",
       "    .dataframe tbody tr th:only-of-type {\n",
       "        vertical-align: middle;\n",
       "    }\n",
       "\n",
       "    .dataframe tbody tr th {\n",
       "        vertical-align: top;\n",
       "    }\n",
       "\n",
       "    .dataframe thead th {\n",
       "        text-align: right;\n",
       "    }\n",
       "</style>\n",
       "<table border=\"1\" class=\"dataframe\">\n",
       "  <thead>\n",
       "    <tr style=\"text-align: right;\">\n",
       "      <th></th>\n",
       "      <th>Sno</th>\n",
       "      <th>Movie_name</th>\n",
       "      <th>Director1</th>\n",
       "      <th>Director2</th>\n",
       "      <th>Director3</th>\n",
       "      <th>Director4</th>\n",
       "      <th>Director5</th>\n",
       "      <th>Director6</th>\n",
       "      <th>Duration</th>\n",
       "      <th>Year</th>\n",
       "      <th>...</th>\n",
       "      <th>Star1</th>\n",
       "      <th>Star2</th>\n",
       "      <th>Star3</th>\n",
       "      <th>Star4</th>\n",
       "      <th>Votes</th>\n",
       "      <th>Genre1</th>\n",
       "      <th>Genre2</th>\n",
       "      <th>Genre3</th>\n",
       "      <th>Gross_collection</th>\n",
       "      <th>Certification</th>\n",
       "    </tr>\n",
       "  </thead>\n",
       "  <tbody>\n",
       "    <tr>\n",
       "      <th>0</th>\n",
       "      <td>1</td>\n",
       "      <td>The Dark Knight</td>\n",
       "      <td>Christopher Nolan</td>\n",
       "      <td>NaN</td>\n",
       "      <td>NaN</td>\n",
       "      <td>NaN</td>\n",
       "      <td>NaN</td>\n",
       "      <td>NaN</td>\n",
       "      <td>152</td>\n",
       "      <td>2008</td>\n",
       "      <td>...</td>\n",
       "      <td>Christian Bale</td>\n",
       "      <td>Heath Ledger</td>\n",
       "      <td>Aaron Eckhart</td>\n",
       "      <td>Michael Caine</td>\n",
       "      <td>2755530</td>\n",
       "      <td>Action</td>\n",
       "      <td>Crime</td>\n",
       "      <td>Drama</td>\n",
       "      <td>9.0</td>\n",
       "      <td>UA</td>\n",
       "    </tr>\n",
       "    <tr>\n",
       "      <th>1</th>\n",
       "      <td>2</td>\n",
       "      <td>The Lord of the Rings: The Return of the King</td>\n",
       "      <td>Peter Jackson</td>\n",
       "      <td>NaN</td>\n",
       "      <td>NaN</td>\n",
       "      <td>NaN</td>\n",
       "      <td>NaN</td>\n",
       "      <td>NaN</td>\n",
       "      <td>201</td>\n",
       "      <td>2003</td>\n",
       "      <td>...</td>\n",
       "      <td>Elijah Wood</td>\n",
       "      <td>Viggo Mortensen</td>\n",
       "      <td>Ian McKellen</td>\n",
       "      <td>Orlando Bloom</td>\n",
       "      <td>1904771</td>\n",
       "      <td>Action</td>\n",
       "      <td>Adventure</td>\n",
       "      <td>Drama</td>\n",
       "      <td>9.0</td>\n",
       "      <td>U</td>\n",
       "    </tr>\n",
       "    <tr>\n",
       "      <th>2</th>\n",
       "      <td>3</td>\n",
       "      <td>Spider-Man: Across the Spider-Verse</td>\n",
       "      <td>Joaquim Dos Santos</td>\n",
       "      <td>Kemp Powers</td>\n",
       "      <td>Justin K. Thompson</td>\n",
       "      <td>NaN</td>\n",
       "      <td>NaN</td>\n",
       "      <td>NaN</td>\n",
       "      <td>140</td>\n",
       "      <td>2023</td>\n",
       "      <td>...</td>\n",
       "      <td>Shameik Moore</td>\n",
       "      <td>Hailee Steinfeld</td>\n",
       "      <td>Brian Tyree Henry</td>\n",
       "      <td>Luna Lauren Velez</td>\n",
       "      <td>199159</td>\n",
       "      <td>Animation</td>\n",
       "      <td>Action</td>\n",
       "      <td>Adventure</td>\n",
       "      <td>8.9</td>\n",
       "      <td>U</td>\n",
       "    </tr>\n",
       "    <tr>\n",
       "      <th>3</th>\n",
       "      <td>4</td>\n",
       "      <td>Inception</td>\n",
       "      <td>Christopher Nolan</td>\n",
       "      <td>NaN</td>\n",
       "      <td>NaN</td>\n",
       "      <td>NaN</td>\n",
       "      <td>NaN</td>\n",
       "      <td>NaN</td>\n",
       "      <td>148</td>\n",
       "      <td>2010</td>\n",
       "      <td>...</td>\n",
       "      <td>Leonardo DiCaprio</td>\n",
       "      <td>Joseph Gordon-Levitt</td>\n",
       "      <td>Elliot Page</td>\n",
       "      <td>Ken Watanabe</td>\n",
       "      <td>2446208</td>\n",
       "      <td>Action</td>\n",
       "      <td>Adventure</td>\n",
       "      <td>Sci-Fi</td>\n",
       "      <td>8.8</td>\n",
       "      <td>UA</td>\n",
       "    </tr>\n",
       "    <tr>\n",
       "      <th>4</th>\n",
       "      <td>5</td>\n",
       "      <td>The Lord of the Rings: The Fellowship of the Ring</td>\n",
       "      <td>Peter Jackson</td>\n",
       "      <td>NaN</td>\n",
       "      <td>NaN</td>\n",
       "      <td>NaN</td>\n",
       "      <td>NaN</td>\n",
       "      <td>NaN</td>\n",
       "      <td>178</td>\n",
       "      <td>2001</td>\n",
       "      <td>...</td>\n",
       "      <td>Elijah Wood</td>\n",
       "      <td>Ian McKellen</td>\n",
       "      <td>Orlando Bloom</td>\n",
       "      <td>Sean Bean</td>\n",
       "      <td>1933012</td>\n",
       "      <td>Action</td>\n",
       "      <td>Adventure</td>\n",
       "      <td>Drama</td>\n",
       "      <td>8.8</td>\n",
       "      <td>U</td>\n",
       "    </tr>\n",
       "    <tr>\n",
       "      <th>...</th>\n",
       "      <td>...</td>\n",
       "      <td>...</td>\n",
       "      <td>...</td>\n",
       "      <td>...</td>\n",
       "      <td>...</td>\n",
       "      <td>...</td>\n",
       "      <td>...</td>\n",
       "      <td>...</td>\n",
       "      <td>...</td>\n",
       "      <td>...</td>\n",
       "      <td>...</td>\n",
       "      <td>...</td>\n",
       "      <td>...</td>\n",
       "      <td>...</td>\n",
       "      <td>...</td>\n",
       "      <td>...</td>\n",
       "      <td>...</td>\n",
       "      <td>...</td>\n",
       "      <td>...</td>\n",
       "      <td>...</td>\n",
       "      <td>...</td>\n",
       "    </tr>\n",
       "    <tr>\n",
       "      <th>1770</th>\n",
       "      <td>17+7+1</td>\n",
       "      <td>Radhe</td>\n",
       "      <td>Prabhu Deva</td>\n",
       "      <td>NaN</td>\n",
       "      <td>NaN</td>\n",
       "      <td>NaN</td>\n",
       "      <td>NaN</td>\n",
       "      <td>NaN</td>\n",
       "      <td>109</td>\n",
       "      <td>2021</td>\n",
       "      <td>...</td>\n",
       "      <td>Salman Khan</td>\n",
       "      <td>Disha Patani</td>\n",
       "      <td>Randeep Hooda</td>\n",
       "      <td>Jackie Shroff</td>\n",
       "      <td>179092</td>\n",
       "      <td>Action</td>\n",
       "      <td>Crime</td>\n",
       "      <td>Thriller</td>\n",
       "      <td>1.9</td>\n",
       "      <td>UA</td>\n",
       "    </tr>\n",
       "    <tr>\n",
       "      <th>1771</th>\n",
       "      <td>17+7+2</td>\n",
       "      <td>Race 3</td>\n",
       "      <td>Remo D'Souza</td>\n",
       "      <td>NaN</td>\n",
       "      <td>NaN</td>\n",
       "      <td>NaN</td>\n",
       "      <td>NaN</td>\n",
       "      <td>NaN</td>\n",
       "      <td>160</td>\n",
       "      <td>2018</td>\n",
       "      <td>...</td>\n",
       "      <td>Anil Kapoor</td>\n",
       "      <td>Salman Khan</td>\n",
       "      <td>Bobby Deol</td>\n",
       "      <td>Jacqueline Fernandez</td>\n",
       "      <td>47862</td>\n",
       "      <td>Action</td>\n",
       "      <td>Crime</td>\n",
       "      <td>Thriller</td>\n",
       "      <td>1.9</td>\n",
       "      <td>UA</td>\n",
       "    </tr>\n",
       "    <tr>\n",
       "      <th>1772</th>\n",
       "      <td>17+7+3</td>\n",
       "      <td>Angels Apocalypse</td>\n",
       "      <td>Sean Cain</td>\n",
       "      <td>Enzo Zelocchi</td>\n",
       "      <td>NaN</td>\n",
       "      <td>NaN</td>\n",
       "      <td>NaN</td>\n",
       "      <td>NaN</td>\n",
       "      <td>85</td>\n",
       "      <td>2015</td>\n",
       "      <td>...</td>\n",
       "      <td>Enzo Zelocchi</td>\n",
       "      <td>Jana Rochelle</td>\n",
       "      <td>Ryan C.F. Buckley</td>\n",
       "      <td>William Kirkham</td>\n",
       "      <td>42920</td>\n",
       "      <td>Action</td>\n",
       "      <td>Fantasy</td>\n",
       "      <td>Sci-Fi</td>\n",
       "      <td>1.6</td>\n",
       "      <td>NaN</td>\n",
       "    </tr>\n",
       "    <tr>\n",
       "      <th>1773</th>\n",
       "      <td>17+7+4</td>\n",
       "      <td>Elk*rtuk</td>\n",
       "      <td>Keith English</td>\n",
       "      <td>NaN</td>\n",
       "      <td>NaN</td>\n",
       "      <td>NaN</td>\n",
       "      <td>NaN</td>\n",
       "      <td>NaN</td>\n",
       "      <td>125</td>\n",
       "      <td>2021</td>\n",
       "      <td>...</td>\n",
       "      <td>Vivianne Bánovits</td>\n",
       "      <td>András Mózes</td>\n",
       "      <td>Barna Bokor</td>\n",
       "      <td>Gabriella Gubás</td>\n",
       "      <td>39615</td>\n",
       "      <td>Action</td>\n",
       "      <td>Crime</td>\n",
       "      <td>Drama</td>\n",
       "      <td>1.5</td>\n",
       "      <td>NaN</td>\n",
       "    </tr>\n",
       "    <tr>\n",
       "      <th>1774</th>\n",
       "      <td>17+7+5</td>\n",
       "      <td>Sadak 2</td>\n",
       "      <td>Mahesh Bhatt</td>\n",
       "      <td>NaN</td>\n",
       "      <td>NaN</td>\n",
       "      <td>NaN</td>\n",
       "      <td>NaN</td>\n",
       "      <td>NaN</td>\n",
       "      <td>133</td>\n",
       "      <td>2020</td>\n",
       "      <td>...</td>\n",
       "      <td>Alia Bhatt</td>\n",
       "      <td>Sanjay Dutt</td>\n",
       "      <td>Priyanka Bose</td>\n",
       "      <td>Aditya Roy Kapoor</td>\n",
       "      <td>96373</td>\n",
       "      <td>Action</td>\n",
       "      <td>Drama</td>\n",
       "      <td>NaN</td>\n",
       "      <td>1.2</td>\n",
       "      <td>15+</td>\n",
       "    </tr>\n",
       "  </tbody>\n",
       "</table>\n",
       "<p>1775 rows × 22 columns</p>\n",
       "</div>"
      ],
      "text/plain": [
       "         Sno                                         Movie_name  \\\n",
       "0          1                                    The Dark Knight   \n",
       "1          2      The Lord of the Rings: The Return of the King   \n",
       "2          3                Spider-Man: Across the Spider-Verse   \n",
       "3          4                                          Inception   \n",
       "4          5  The Lord of the Rings: The Fellowship of the Ring   \n",
       "...      ...                                                ...   \n",
       "1770  17+7+1                                              Radhe   \n",
       "1771  17+7+2                                             Race 3   \n",
       "1772  17+7+3                                  Angels Apocalypse   \n",
       "1773  17+7+4                                           Elk*rtuk   \n",
       "1774  17+7+5                                            Sadak 2   \n",
       "\n",
       "               Director1      Director2           Director3 Director4  \\\n",
       "0      Christopher Nolan            NaN                 NaN       NaN   \n",
       "1          Peter Jackson            NaN                 NaN       NaN   \n",
       "2     Joaquim Dos Santos    Kemp Powers  Justin K. Thompson       NaN   \n",
       "3      Christopher Nolan            NaN                 NaN       NaN   \n",
       "4          Peter Jackson            NaN                 NaN       NaN   \n",
       "...                  ...            ...                 ...       ...   \n",
       "1770         Prabhu Deva            NaN                 NaN       NaN   \n",
       "1771        Remo D'Souza            NaN                 NaN       NaN   \n",
       "1772           Sean Cain  Enzo Zelocchi                 NaN       NaN   \n",
       "1773       Keith English            NaN                 NaN       NaN   \n",
       "1774        Mahesh Bhatt            NaN                 NaN       NaN   \n",
       "\n",
       "     Director5 Director6  Duration  Year  ...              Star1  \\\n",
       "0          NaN       NaN       152  2008  ...     Christian Bale   \n",
       "1          NaN       NaN       201  2003  ...        Elijah Wood   \n",
       "2          NaN       NaN       140  2023  ...      Shameik Moore   \n",
       "3          NaN       NaN       148  2010  ...  Leonardo DiCaprio   \n",
       "4          NaN       NaN       178  2001  ...        Elijah Wood   \n",
       "...        ...       ...       ...   ...  ...                ...   \n",
       "1770       NaN       NaN       109  2021  ...        Salman Khan   \n",
       "1771       NaN       NaN       160  2018  ...        Anil Kapoor   \n",
       "1772       NaN       NaN        85  2015  ...      Enzo Zelocchi   \n",
       "1773       NaN       NaN       125  2021  ...  Vivianne Bánovits   \n",
       "1774       NaN       NaN       133  2020  ...         Alia Bhatt   \n",
       "\n",
       "                     Star2              Star3                 Star4    Votes  \\\n",
       "0             Heath Ledger      Aaron Eckhart         Michael Caine  2755530   \n",
       "1          Viggo Mortensen       Ian McKellen         Orlando Bloom  1904771   \n",
       "2         Hailee Steinfeld  Brian Tyree Henry     Luna Lauren Velez   199159   \n",
       "3     Joseph Gordon-Levitt        Elliot Page          Ken Watanabe  2446208   \n",
       "4             Ian McKellen      Orlando Bloom             Sean Bean  1933012   \n",
       "...                    ...                ...                   ...      ...   \n",
       "1770          Disha Patani      Randeep Hooda         Jackie Shroff   179092   \n",
       "1771           Salman Khan         Bobby Deol  Jacqueline Fernandez    47862   \n",
       "1772         Jana Rochelle  Ryan C.F. Buckley       William Kirkham    42920   \n",
       "1773          András Mózes        Barna Bokor       Gabriella Gubás    39615   \n",
       "1774           Sanjay Dutt      Priyanka Bose     Aditya Roy Kapoor    96373   \n",
       "\n",
       "         Genre1     Genre2     Genre3 Gross_collection Certification  \n",
       "0        Action      Crime      Drama              9.0            UA  \n",
       "1        Action  Adventure      Drama              9.0             U  \n",
       "2     Animation     Action  Adventure              8.9             U  \n",
       "3        Action  Adventure     Sci-Fi              8.8            UA  \n",
       "4        Action  Adventure      Drama              8.8             U  \n",
       "...         ...        ...        ...              ...           ...  \n",
       "1770     Action      Crime   Thriller              1.9            UA  \n",
       "1771     Action      Crime   Thriller              1.9            UA  \n",
       "1772     Action    Fantasy     Sci-Fi              1.6           NaN  \n",
       "1773     Action      Crime      Drama              1.5           NaN  \n",
       "1774     Action      Drama        NaN              1.2           15+  \n",
       "\n",
       "[1775 rows x 22 columns]"
      ]
     },
     "execution_count": 33,
     "metadata": {},
     "output_type": "execute_result"
    }
   ],
   "source": [
    "mov"
   ]
  },
  {
   "cell_type": "code",
   "execution_count": 23,
   "metadata": {},
   "outputs": [
    {
     "data": {
      "text/plain": [
       "Sno                   int64\n",
       "Movie_name           object\n",
       "Director1            object\n",
       "Director2            object\n",
       "Director3            object\n",
       "Director4            object\n",
       "Director5            object\n",
       "Director6            object\n",
       "Duration             object\n",
       "Year                  int64\n",
       "Ratings             float64\n",
       "Metascore           float64\n",
       "Star1                object\n",
       "Star2                object\n",
       "Star3                object\n",
       "Star4                object\n",
       "Votes                 int64\n",
       "Genre1               object\n",
       "Genre2               object\n",
       "Genre3               object\n",
       "Gross_collection    float64\n",
       "Certification        object\n",
       "dtype: object"
      ]
     },
     "execution_count": 23,
     "metadata": {},
     "output_type": "execute_result"
    }
   ],
   "source": [
    "mov.dtypes"
   ]
  },
  {
   "cell_type": "code",
   "execution_count": 24,
   "metadata": {},
   "outputs": [
    {
     "data": {
      "text/plain": [
       "Index(['Sno', 'Movie_name', 'Director1', 'Director2', 'Director3', 'Director4',\n",
       "       'Director5', 'Director6', 'Duration', 'Year', 'Ratings', 'Metascore',\n",
       "       'Star1', 'Star2', 'Star3', 'Star4', 'Votes', 'Genre1', 'Genre2',\n",
       "       'Genre3', 'Gross_collection', 'Certification'],\n",
       "      dtype='object')"
      ]
     },
     "execution_count": 24,
     "metadata": {},
     "output_type": "execute_result"
    }
   ],
   "source": [
    "mov.columns"
   ]
  },
  {
   "cell_type": "code",
   "execution_count": 34,
   "metadata": {},
   "outputs": [
    {
     "data": {
      "text/plain": [
       "Sno                    0\n",
       "Movie_name             0\n",
       "Director1              0\n",
       "Director2           1660\n",
       "Director3           1762\n",
       "Director4           1769\n",
       "Director5           1771\n",
       "Director6           1774\n",
       "Duration               0\n",
       "Year                   0\n",
       "Ratings                0\n",
       "Metascore              0\n",
       "Star1                  0\n",
       "Star2                  1\n",
       "Star3                  1\n",
       "Star4                  2\n",
       "Votes                  0\n",
       "Genre1                 0\n",
       "Genre2                 1\n",
       "Genre3               148\n",
       "Gross_collection       0\n",
       "Certification         75\n",
       "dtype: int64"
      ]
     },
     "execution_count": 34,
     "metadata": {},
     "output_type": "execute_result"
    }
   ],
   "source": [
    "mov.isnull().sum()"
   ]
  },
  {
   "cell_type": "code",
   "execution_count": 55,
   "metadata": {},
   "outputs": [],
   "source": [
    "#replacing all nan values with zero\n",
    "m=mov.replace(np. nan,0)"
   ]
  },
  {
   "cell_type": "code",
   "execution_count": 27,
   "metadata": {},
   "outputs": [
    {
     "name": "stdout",
     "output_type": "stream",
     "text": [
      "<class 'pandas.core.frame.DataFrame'>\n",
      "RangeIndex: 1775 entries, 0 to 1774\n",
      "Data columns (total 22 columns):\n",
      " #   Column            Non-Null Count  Dtype  \n",
      "---  ------            --------------  -----  \n",
      " 0   Sno               1775 non-null   int64  \n",
      " 1   Movie_name        1775 non-null   object \n",
      " 2   Director1         1775 non-null   object \n",
      " 3   Director2         115 non-null    object \n",
      " 4   Director3         13 non-null     object \n",
      " 5   Director4         6 non-null      object \n",
      " 6   Director5         4 non-null      object \n",
      " 7   Director6         1 non-null      object \n",
      " 8   Duration          1775 non-null   object \n",
      " 9   Year              1775 non-null   int64  \n",
      " 10  Ratings           1775 non-null   float64\n",
      " 11  Metascore         1586 non-null   float64\n",
      " 12  Star1             1775 non-null   object \n",
      " 13  Star2             1774 non-null   object \n",
      " 14  Star3             1774 non-null   object \n",
      " 15  Star4             1773 non-null   object \n",
      " 16  Votes             1775 non-null   int64  \n",
      " 17  Genre1            1775 non-null   object \n",
      " 18  Genre2            1774 non-null   object \n",
      " 19  Genre3            1627 non-null   object \n",
      " 20  Gross_collection  1775 non-null   float64\n",
      " 21  Certification     1700 non-null   object \n",
      "dtypes: float64(3), int64(3), object(16)\n",
      "memory usage: 305.2+ KB\n"
     ]
    }
   ],
   "source": [
    "mov.info()"
   ]
  },
  {
   "cell_type": "code",
   "execution_count": 33,
   "metadata": {},
   "outputs": [
    {
     "name": "stdout",
     "output_type": "stream",
     "text": [
      "Michael Bay         15\n",
      "Tony Scott          13\n",
      "Steven Spielberg    13\n",
      "Robert Rodriguez    13\n",
      "Antoine Fuqua       12\n",
      "                    ..\n",
      "Andrew Stanton       1\n",
      "Anne Fletcher        1\n",
      "Doug Lefler          1\n",
      "Peter Atencio        1\n",
      "Makoto Kamiya        1\n",
      "Name: Director1, Length: 943, dtype: int64\n"
     ]
    },
    {
     "data": {
      "image/png": "[encoded data removed]",
      "text/plain": [
       "<Figure size 432x288 with 1 Axes>"
      ]
     },
     "metadata": {
      "needs_background": "light"
     },
     "output_type": "display_data"
    }
   ],
   "source": [
    "sns.countplot(x=\"Director1\",data=mov)\n",
    "print(mov[\"Director1\"].value_counts())\n",
    "#most of the movies done by Micheal Bay"
   ]
  },
  {
   "cell_type": "code",
   "execution_count": 34,
   "metadata": {},
   "outputs": [
    {
     "name": "stdout",
     "output_type": "stream",
     "text": [
      "UA           599\n",
      "A            405\n",
      "U            257\n",
      "R            210\n",
      "PG-13         78\n",
      "18            37\n",
      "16            25\n",
      "Not Rated     18\n",
      "PG            16\n",
      "13            15\n",
      "UA 16+        10\n",
      "15+            7\n",
      "UA 13+         7\n",
      "7              4\n",
      "12+            3\n",
      "All            2\n",
      "(Banned)       2\n",
      "U/A 16+        1\n",
      "16+            1\n",
      "UA 7+          1\n",
      "12             1\n",
      "U/A            1\n",
      "Name: Certification, dtype: int64\n"
     ]
    },
    {
     "data": {
      "image/png": "[encoded data removed]",
      "text/plain": [
       "<Figure size 432x288 with 1 Axes>"
      ]
     },
     "metadata": {
      "needs_background": "light"
     },
     "output_type": "display_data"
    }
   ],
   "source": [
    "sns.countplot(x=\"Certification\",data=mov)\n",
    "print(mov[\"Certification\"].value_counts())\n",
    "#mos of the movies are UA certified"
   ]
  },
  {
   "cell_type": "code",
   "execution_count": 35,
   "metadata": {},
   "outputs": [
    {
     "name": "stdout",
     "output_type": "stream",
     "text": [
      "Action       1704\n",
      "Animation      71\n",
      "Name: Genre1, dtype: int64\n"
     ]
    },
    {
     "data": {
      "image/png": "[encoded data removed]",
      "text/plain": [
       "<Figure size 432x288 with 1 Axes>"
      ]
     },
     "metadata": {
      "needs_background": "light"
     },
     "output_type": "display_data"
    }
   ],
   "source": [
    "sns.countplot(x=\"Genre1\",data=mov)\n",
    "print(mov[\"Genre1\"].value_counts())"
   ]
  },
  {
   "cell_type": "code",
   "execution_count": 36,
   "metadata": {},
   "outputs": [
    {
     "name": "stdout",
     "output_type": "stream",
     "text": [
      "Adventure    643\n",
      "Crime        348\n",
      "Comedy       234\n",
      "Drama        210\n",
      "Action        71\n",
      "Thriller      68\n",
      "Sci-Fi        59\n",
      "Horror        49\n",
      "Biography     41\n",
      "Fantasy       23\n",
      "Mystery       23\n",
      "War            2\n",
      "History        1\n",
      "Family         1\n",
      "Sport          1\n",
      "Name: Genre2, dtype: int64\n"
     ]
    },
    {
     "data": {
      "image/png": "[encoded data removed]",
      "text/plain": [
       "<Figure size 432x288 with 1 Axes>"
      ]
     },
     "metadata": {
      "needs_background": "light"
     },
     "output_type": "display_data"
    }
   ],
   "source": [
    "sns.countplot(x=\"Genre2\",data=mov)\n",
    "print(mov[\"Genre2\"].value_counts())"
   ]
  },
  {
   "cell_type": "code",
   "execution_count": 37,
   "metadata": {},
   "outputs": [
    {
     "name": "stdout",
     "output_type": "stream",
     "text": [
      "Drama        336\n",
      "Thriller     312\n",
      "Sci-Fi       227\n",
      "Crime        172\n",
      "Comedy       140\n",
      "Fantasy      123\n",
      "Horror        62\n",
      "Adventure     61\n",
      "History       41\n",
      "Mystery       41\n",
      "Romance       33\n",
      "Family        22\n",
      "War           20\n",
      "Sport         16\n",
      "Biography     11\n",
      "Western        8\n",
      "Musical        1\n",
      "Music          1\n",
      "Name: Genre3, dtype: int64\n"
     ]
    },
    {
     "data": {
      "image/png": "[encoded data removed]",
      "text/plain": [
       "<Figure size 432x288 with 1 Axes>"
      ]
     },
     "metadata": {
      "needs_background": "light"
     },
     "output_type": "display_data"
    }
   ],
   "source": [
    "sns.countplot(x=\"Genre3\",data=mov)\n",
    "print(mov[\"Genre3\"].value_counts())"
   ]
  },
  {
   "cell_type": "code",
   "execution_count": 30,
   "metadata": {},
   "outputs": [
    {
     "data": {
      "image/png": "[encoded data removed]",
      "text/plain": [
       "<Figure size 432x288 with 1 Axes>"
      ]
     },
     "metadata": {
      "needs_background": "light"
     },
     "output_type": "display_data"
    }
   ],
   "source": [
    "x=mov[\"Ratings\"]\n",
    "y=mov[\"Gross_collection\"]\n",
    "plt.scatter(x,y)\n",
    "plt.show()\n",
    "#so as ratings increases gross collections also increases"
   ]
  },
  {
   "cell_type": "code",
   "execution_count": 31,
   "metadata": {},
   "outputs": [
    {
     "data": {
      "image/png": "[encoded data removed]",
      "text/plain": [
       "<Figure size 432x288 with 1 Axes>"
      ]
     },
     "metadata": {
      "needs_background": "light"
     },
     "output_type": "display_data"
    }
   ],
   "source": [
    "x=mov[\"Metascore\"]\n",
    "y=mov[\"Gross_collection\"]\n",
    "plt.scatter(x,y)\n",
    "plt.show()\n",
    "# Higher the metascore more is the gross collection"
   ]
  },
  {
   "cell_type": "code",
   "execution_count": 38,
   "metadata": {},
   "outputs": [
    {
     "name": "stderr",
     "output_type": "stream",
     "text": [
      "C:\\Users\\SATHAKI PROSAD\\anaconda3\\lib\\site-packages\\seaborn\\distributions.py:2551: FutureWarning: `distplot` is a deprecated function and will be removed in a future version. Please adapt your code to use either `displot` (a figure-level function with similar flexibility) or `histplot` (an axes-level function for histograms).\n",
      "  warnings.warn(msg, FutureWarning)\n"
     ]
    },
    {
     "data": {
      "text/plain": [
       "<AxesSubplot:xlabel='Gross_collection'>"
      ]
     },
     "execution_count": 38,
     "metadata": {},
     "output_type": "execute_result"
    },
    {
     "data": {
      "image/png": "[encoded data removed]",
      "text/plain": [
       "<Figure size 432x288 with 1 Axes>"
      ]
     },
     "metadata": {
      "needs_background": "light"
     },
     "output_type": "display_data"
    }
   ],
   "source": [
    "sns.distplot(mov[\"Gross_collection\"],bins=10,kde=False)"
   ]
  },
  {
   "cell_type": "code",
   "execution_count": 39,
   "metadata": {},
   "outputs": [
    {
     "data": {
      "text/plain": [
       "<AxesSubplot:xlabel='Votes'>"
      ]
     },
     "execution_count": 39,
     "metadata": {},
     "output_type": "execute_result"
    },
    {
     "data": {
      "image/png": "[encoded data removed]",
      "text/plain": [
       "<Figure size 432x288 with 1 Axes>"
      ]
     },
     "metadata": {
      "needs_background": "light"
     },
     "output_type": "display_data"
    }
   ],
   "source": [
    "sns.distplot(mov[\"Votes\"],bins=10,kde=False)"
   ]
  },
  {
   "cell_type": "code",
   "execution_count": 40,
   "metadata": {},
   "outputs": [
    {
     "name": "stderr",
     "output_type": "stream",
     "text": [
      "C:\\Users\\SATHAKI PROSAD\\anaconda3\\lib\\site-packages\\seaborn\\_decorators.py:36: FutureWarning: Pass the following variables as keyword args: x, y. From version 0.12, the only valid positional argument will be `data`, and passing other arguments without an explicit keyword will result in an error or misinterpretation.\n",
      "  warnings.warn(\n"
     ]
    },
    {
     "data": {
      "text/plain": [
       "<seaborn.axisgrid.FacetGrid at 0x154b9cd0b80>"
      ]
     },
     "execution_count": 40,
     "metadata": {},
     "output_type": "execute_result"
    },
    {
     "data": {
      "image/png": "[encoded data removed]",
      "text/plain": [
       "<Figure size 447x360 with 1 Axes>"
      ]
     },
     "metadata": {
      "needs_background": "light"
     },
     "output_type": "display_data"
    }
   ],
   "source": [
    "sns.lmplot(\"Gross_collection\",\"Ratings\",data=mov,hue=\"Genre1\")\n",
    "# most of the animated movie got high ratings as well as has high gross collection\n",
    "# but action movies have both high and low collections as well as ratings"
   ]
  },
  {
   "cell_type": "code",
   "execution_count": 41,
   "metadata": {},
   "outputs": [
    {
     "name": "stderr",
     "output_type": "stream",
     "text": [
      "C:\\Users\\SATHAKI PROSAD\\anaconda3\\lib\\site-packages\\seaborn\\_decorators.py:36: FutureWarning: Pass the following variables as keyword args: x, y. From version 0.12, the only valid positional argument will be `data`, and passing other arguments without an explicit keyword will result in an error or misinterpretation.\n",
      "  warnings.warn(\n"
     ]
    },
    {
     "data": {
      "text/plain": [
       "<seaborn.axisgrid.FacetGrid at 0x154baa18a30>"
      ]
     },
     "execution_count": 41,
     "metadata": {},
     "output_type": "execute_result"
    },
    {
     "data": {
      "image/png": "[encoded data removed]",
      "text/plain": [
       "<Figure size 447.75x360 with 1 Axes>"
      ]
     },
     "metadata": {
      "needs_background": "light"
     },
     "output_type": "display_data"
    }
   ],
   "source": [
    "sns.lmplot(\"Gross_collection\",\"Ratings\",data=mov,hue=\"Genre2\")\n",
    "# crime and adventure movie has high ratings and high gross collections"
   ]
  },
  {
   "cell_type": "code",
   "execution_count": 35,
   "metadata": {},
   "outputs": [],
   "source": [
    "mov.drop([\"Sno\",\"Director2\",\"Director3\",\"Director4\",\"Director5\",\"Director6\",\"Star2\",\"Star3\",\"Star4\",\"Genre2\",\"Genre3\",\"Certification\"],axis=1,inplace=True)"
   ]
  },
  {
   "cell_type": "code",
   "execution_count": 36,
   "metadata": {},
   "outputs": [
    {
     "data": {
      "text/html": [
       "<div>\n",
       "<style scoped>\n",
       "    .dataframe tbody tr th:only-of-type {\n",
       "        vertical-align: middle;\n",
       "    }\n",
       "\n",
       "    .dataframe tbody tr th {\n",
       "        vertical-align: top;\n",
       "    }\n",
       "\n",
       "    .dataframe thead th {\n",
       "        text-align: right;\n",
       "    }\n",
       "</style>\n",
       "<table border=\"1\" class=\"dataframe\">\n",
       "  <thead>\n",
       "    <tr style=\"text-align: right;\">\n",
       "      <th></th>\n",
       "      <th>Movie_name</th>\n",
       "      <th>Director1</th>\n",
       "      <th>Duration</th>\n",
       "      <th>Year</th>\n",
       "      <th>Ratings</th>\n",
       "      <th>Metascore</th>\n",
       "      <th>Star1</th>\n",
       "      <th>Votes</th>\n",
       "      <th>Genre1</th>\n",
       "      <th>Gross_collection</th>\n",
       "    </tr>\n",
       "  </thead>\n",
       "  <tbody>\n",
       "    <tr>\n",
       "      <th>0</th>\n",
       "      <td>The Dark Knight</td>\n",
       "      <td>Christopher Nolan</td>\n",
       "      <td>152</td>\n",
       "      <td>2008</td>\n",
       "      <td>9.0</td>\n",
       "      <td>84</td>\n",
       "      <td>Christian Bale</td>\n",
       "      <td>2755530</td>\n",
       "      <td>Action</td>\n",
       "      <td>9.0</td>\n",
       "    </tr>\n",
       "    <tr>\n",
       "      <th>1</th>\n",
       "      <td>The Lord of the Rings: The Return of the King</td>\n",
       "      <td>Peter Jackson</td>\n",
       "      <td>201</td>\n",
       "      <td>2003</td>\n",
       "      <td>9.0</td>\n",
       "      <td>94</td>\n",
       "      <td>Elijah Wood</td>\n",
       "      <td>1904771</td>\n",
       "      <td>Action</td>\n",
       "      <td>9.0</td>\n",
       "    </tr>\n",
       "    <tr>\n",
       "      <th>2</th>\n",
       "      <td>Spider-Man: Across the Spider-Verse</td>\n",
       "      <td>Joaquim Dos Santos</td>\n",
       "      <td>140</td>\n",
       "      <td>2023</td>\n",
       "      <td>8.9</td>\n",
       "      <td>86</td>\n",
       "      <td>Shameik Moore</td>\n",
       "      <td>199159</td>\n",
       "      <td>Animation</td>\n",
       "      <td>8.9</td>\n",
       "    </tr>\n",
       "    <tr>\n",
       "      <th>3</th>\n",
       "      <td>Inception</td>\n",
       "      <td>Christopher Nolan</td>\n",
       "      <td>148</td>\n",
       "      <td>2010</td>\n",
       "      <td>8.8</td>\n",
       "      <td>74</td>\n",
       "      <td>Leonardo DiCaprio</td>\n",
       "      <td>2446208</td>\n",
       "      <td>Action</td>\n",
       "      <td>8.8</td>\n",
       "    </tr>\n",
       "    <tr>\n",
       "      <th>4</th>\n",
       "      <td>The Lord of the Rings: The Fellowship of the Ring</td>\n",
       "      <td>Peter Jackson</td>\n",
       "      <td>178</td>\n",
       "      <td>2001</td>\n",
       "      <td>8.8</td>\n",
       "      <td>92</td>\n",
       "      <td>Elijah Wood</td>\n",
       "      <td>1933012</td>\n",
       "      <td>Action</td>\n",
       "      <td>8.8</td>\n",
       "    </tr>\n",
       "    <tr>\n",
       "      <th>...</th>\n",
       "      <td>...</td>\n",
       "      <td>...</td>\n",
       "      <td>...</td>\n",
       "      <td>...</td>\n",
       "      <td>...</td>\n",
       "      <td>...</td>\n",
       "      <td>...</td>\n",
       "      <td>...</td>\n",
       "      <td>...</td>\n",
       "      <td>...</td>\n",
       "    </tr>\n",
       "    <tr>\n",
       "      <th>1770</th>\n",
       "      <td>Radhe</td>\n",
       "      <td>Prabhu Deva</td>\n",
       "      <td>109</td>\n",
       "      <td>2021</td>\n",
       "      <td>1.9</td>\n",
       "      <td>60</td>\n",
       "      <td>Salman Khan</td>\n",
       "      <td>179092</td>\n",
       "      <td>Action</td>\n",
       "      <td>1.9</td>\n",
       "    </tr>\n",
       "    <tr>\n",
       "      <th>1771</th>\n",
       "      <td>Race 3</td>\n",
       "      <td>Remo D'Souza</td>\n",
       "      <td>160</td>\n",
       "      <td>2018</td>\n",
       "      <td>1.9</td>\n",
       "      <td>60</td>\n",
       "      <td>Anil Kapoor</td>\n",
       "      <td>47862</td>\n",
       "      <td>Action</td>\n",
       "      <td>1.9</td>\n",
       "    </tr>\n",
       "    <tr>\n",
       "      <th>1772</th>\n",
       "      <td>Angels Apocalypse</td>\n",
       "      <td>Sean Cain</td>\n",
       "      <td>85</td>\n",
       "      <td>2015</td>\n",
       "      <td>1.6</td>\n",
       "      <td>60</td>\n",
       "      <td>Enzo Zelocchi</td>\n",
       "      <td>42920</td>\n",
       "      <td>Action</td>\n",
       "      <td>1.6</td>\n",
       "    </tr>\n",
       "    <tr>\n",
       "      <th>1773</th>\n",
       "      <td>Elk*rtuk</td>\n",
       "      <td>Keith English</td>\n",
       "      <td>125</td>\n",
       "      <td>2021</td>\n",
       "      <td>1.5</td>\n",
       "      <td>60</td>\n",
       "      <td>Vivianne Bánovits</td>\n",
       "      <td>39615</td>\n",
       "      <td>Action</td>\n",
       "      <td>1.5</td>\n",
       "    </tr>\n",
       "    <tr>\n",
       "      <th>1774</th>\n",
       "      <td>Sadak 2</td>\n",
       "      <td>Mahesh Bhatt</td>\n",
       "      <td>133</td>\n",
       "      <td>2020</td>\n",
       "      <td>1.2</td>\n",
       "      <td>60</td>\n",
       "      <td>Alia Bhatt</td>\n",
       "      <td>96373</td>\n",
       "      <td>Action</td>\n",
       "      <td>1.2</td>\n",
       "    </tr>\n",
       "  </tbody>\n",
       "</table>\n",
       "<p>1775 rows × 10 columns</p>\n",
       "</div>"
      ],
      "text/plain": [
       "                                             Movie_name           Director1  \\\n",
       "0                                       The Dark Knight   Christopher Nolan   \n",
       "1         The Lord of the Rings: The Return of the King       Peter Jackson   \n",
       "2                   Spider-Man: Across the Spider-Verse  Joaquim Dos Santos   \n",
       "3                                             Inception   Christopher Nolan   \n",
       "4     The Lord of the Rings: The Fellowship of the Ring       Peter Jackson   \n",
       "...                                                 ...                 ...   \n",
       "1770                                              Radhe         Prabhu Deva   \n",
       "1771                                             Race 3        Remo D'Souza   \n",
       "1772                                  Angels Apocalypse           Sean Cain   \n",
       "1773                                           Elk*rtuk       Keith English   \n",
       "1774                                            Sadak 2        Mahesh Bhatt   \n",
       "\n",
       "      Duration  Year  Ratings  Metascore              Star1    Votes  \\\n",
       "0          152  2008      9.0         84     Christian Bale  2755530   \n",
       "1          201  2003      9.0         94        Elijah Wood  1904771   \n",
       "2          140  2023      8.9         86      Shameik Moore   199159   \n",
       "3          148  2010      8.8         74  Leonardo DiCaprio  2446208   \n",
       "4          178  2001      8.8         92        Elijah Wood  1933012   \n",
       "...        ...   ...      ...        ...                ...      ...   \n",
       "1770       109  2021      1.9         60        Salman Khan   179092   \n",
       "1771       160  2018      1.9         60        Anil Kapoor    47862   \n",
       "1772        85  2015      1.6         60      Enzo Zelocchi    42920   \n",
       "1773       125  2021      1.5         60  Vivianne Bánovits    39615   \n",
       "1774       133  2020      1.2         60         Alia Bhatt    96373   \n",
       "\n",
       "         Genre1  Gross_collection  \n",
       "0        Action               9.0  \n",
       "1        Action               9.0  \n",
       "2     Animation               8.9  \n",
       "3        Action               8.8  \n",
       "4        Action               8.8  \n",
       "...         ...               ...  \n",
       "1770     Action               1.9  \n",
       "1771     Action               1.9  \n",
       "1772     Action               1.6  \n",
       "1773     Action               1.5  \n",
       "1774     Action               1.2  \n",
       "\n",
       "[1775 rows x 10 columns]"
      ]
     },
     "execution_count": 36,
     "metadata": {},
     "output_type": "execute_result"
    }
   ],
   "source": [
    "mov #taking onle lead directors,star and genre"
   ]
  },
  {
   "cell_type": "code",
   "execution_count": 37,
   "metadata": {},
   "outputs": [
    {
     "data": {
      "text/html": [
       "<div>\n",
       "<style scoped>\n",
       "    .dataframe tbody tr th:only-of-type {\n",
       "        vertical-align: middle;\n",
       "    }\n",
       "\n",
       "    .dataframe tbody tr th {\n",
       "        vertical-align: top;\n",
       "    }\n",
       "\n",
       "    .dataframe thead th {\n",
       "        text-align: right;\n",
       "    }\n",
       "</style>\n",
       "<table border=\"1\" class=\"dataframe\">\n",
       "  <thead>\n",
       "    <tr style=\"text-align: right;\">\n",
       "      <th></th>\n",
       "      <th>Movie_name</th>\n",
       "      <th>Director1</th>\n",
       "      <th>Duration</th>\n",
       "      <th>Year</th>\n",
       "      <th>Ratings</th>\n",
       "      <th>Metascore</th>\n",
       "      <th>Star1</th>\n",
       "      <th>Votes</th>\n",
       "      <th>Genre1</th>\n",
       "      <th>Gross_collection</th>\n",
       "    </tr>\n",
       "  </thead>\n",
       "  <tbody>\n",
       "    <tr>\n",
       "      <th>0</th>\n",
       "      <td>The Dark Knight</td>\n",
       "      <td>Christopher Nolan</td>\n",
       "      <td>152</td>\n",
       "      <td>2008</td>\n",
       "      <td>9.0</td>\n",
       "      <td>84</td>\n",
       "      <td>Christian Bale</td>\n",
       "      <td>2755530</td>\n",
       "      <td>Action</td>\n",
       "      <td>9.0</td>\n",
       "    </tr>\n",
       "    <tr>\n",
       "      <th>1</th>\n",
       "      <td>The Lord of the Rings: The Return of the King</td>\n",
       "      <td>Peter Jackson</td>\n",
       "      <td>201</td>\n",
       "      <td>2003</td>\n",
       "      <td>9.0</td>\n",
       "      <td>94</td>\n",
       "      <td>Elijah Wood</td>\n",
       "      <td>1904771</td>\n",
       "      <td>Action</td>\n",
       "      <td>9.0</td>\n",
       "    </tr>\n",
       "    <tr>\n",
       "      <th>2</th>\n",
       "      <td>Spider-Man: Across the Spider-Verse</td>\n",
       "      <td>Joaquim Dos Santos</td>\n",
       "      <td>140</td>\n",
       "      <td>2023</td>\n",
       "      <td>8.9</td>\n",
       "      <td>86</td>\n",
       "      <td>Shameik Moore</td>\n",
       "      <td>199159</td>\n",
       "      <td>Animation</td>\n",
       "      <td>8.9</td>\n",
       "    </tr>\n",
       "    <tr>\n",
       "      <th>3</th>\n",
       "      <td>Inception</td>\n",
       "      <td>Christopher Nolan</td>\n",
       "      <td>148</td>\n",
       "      <td>2010</td>\n",
       "      <td>8.8</td>\n",
       "      <td>74</td>\n",
       "      <td>Leonardo DiCaprio</td>\n",
       "      <td>2446208</td>\n",
       "      <td>Action</td>\n",
       "      <td>8.8</td>\n",
       "    </tr>\n",
       "    <tr>\n",
       "      <th>4</th>\n",
       "      <td>The Lord of the Rings: The Fellowship of the Ring</td>\n",
       "      <td>Peter Jackson</td>\n",
       "      <td>178</td>\n",
       "      <td>2001</td>\n",
       "      <td>8.8</td>\n",
       "      <td>92</td>\n",
       "      <td>Elijah Wood</td>\n",
       "      <td>1933012</td>\n",
       "      <td>Action</td>\n",
       "      <td>8.8</td>\n",
       "    </tr>\n",
       "    <tr>\n",
       "      <th>...</th>\n",
       "      <td>...</td>\n",
       "      <td>...</td>\n",
       "      <td>...</td>\n",
       "      <td>...</td>\n",
       "      <td>...</td>\n",
       "      <td>...</td>\n",
       "      <td>...</td>\n",
       "      <td>...</td>\n",
       "      <td>...</td>\n",
       "      <td>...</td>\n",
       "    </tr>\n",
       "    <tr>\n",
       "      <th>1770</th>\n",
       "      <td>Radhe</td>\n",
       "      <td>Prabhu Deva</td>\n",
       "      <td>109</td>\n",
       "      <td>2021</td>\n",
       "      <td>1.9</td>\n",
       "      <td>60</td>\n",
       "      <td>Salman Khan</td>\n",
       "      <td>179092</td>\n",
       "      <td>Action</td>\n",
       "      <td>1.9</td>\n",
       "    </tr>\n",
       "    <tr>\n",
       "      <th>1771</th>\n",
       "      <td>Race 3</td>\n",
       "      <td>Remo D'Souza</td>\n",
       "      <td>160</td>\n",
       "      <td>2018</td>\n",
       "      <td>1.9</td>\n",
       "      <td>60</td>\n",
       "      <td>Anil Kapoor</td>\n",
       "      <td>47862</td>\n",
       "      <td>Action</td>\n",
       "      <td>1.9</td>\n",
       "    </tr>\n",
       "    <tr>\n",
       "      <th>1772</th>\n",
       "      <td>Angels Apocalypse</td>\n",
       "      <td>Sean Cain</td>\n",
       "      <td>85</td>\n",
       "      <td>2015</td>\n",
       "      <td>1.6</td>\n",
       "      <td>60</td>\n",
       "      <td>Enzo Zelocchi</td>\n",
       "      <td>42920</td>\n",
       "      <td>Action</td>\n",
       "      <td>1.6</td>\n",
       "    </tr>\n",
       "    <tr>\n",
       "      <th>1773</th>\n",
       "      <td>Elk*rtuk</td>\n",
       "      <td>Keith English</td>\n",
       "      <td>125</td>\n",
       "      <td>2021</td>\n",
       "      <td>1.5</td>\n",
       "      <td>60</td>\n",
       "      <td>Vivianne Bánovits</td>\n",
       "      <td>39615</td>\n",
       "      <td>Action</td>\n",
       "      <td>1.5</td>\n",
       "    </tr>\n",
       "    <tr>\n",
       "      <th>1774</th>\n",
       "      <td>Sadak 2</td>\n",
       "      <td>Mahesh Bhatt</td>\n",
       "      <td>133</td>\n",
       "      <td>2020</td>\n",
       "      <td>1.2</td>\n",
       "      <td>60</td>\n",
       "      <td>Alia Bhatt</td>\n",
       "      <td>96373</td>\n",
       "      <td>Action</td>\n",
       "      <td>1.2</td>\n",
       "    </tr>\n",
       "  </tbody>\n",
       "</table>\n",
       "<p>1775 rows × 10 columns</p>\n",
       "</div>"
      ],
      "text/plain": [
       "                                             Movie_name           Director1  \\\n",
       "0                                       The Dark Knight   Christopher Nolan   \n",
       "1         The Lord of the Rings: The Return of the King       Peter Jackson   \n",
       "2                   Spider-Man: Across the Spider-Verse  Joaquim Dos Santos   \n",
       "3                                             Inception   Christopher Nolan   \n",
       "4     The Lord of the Rings: The Fellowship of the Ring       Peter Jackson   \n",
       "...                                                 ...                 ...   \n",
       "1770                                              Radhe         Prabhu Deva   \n",
       "1771                                             Race 3        Remo D'Souza   \n",
       "1772                                  Angels Apocalypse           Sean Cain   \n",
       "1773                                           Elk*rtuk       Keith English   \n",
       "1774                                            Sadak 2        Mahesh Bhatt   \n",
       "\n",
       "      Duration  Year  Ratings  Metascore              Star1    Votes  \\\n",
       "0          152  2008      9.0         84     Christian Bale  2755530   \n",
       "1          201  2003      9.0         94        Elijah Wood  1904771   \n",
       "2          140  2023      8.9         86      Shameik Moore   199159   \n",
       "3          148  2010      8.8         74  Leonardo DiCaprio  2446208   \n",
       "4          178  2001      8.8         92        Elijah Wood  1933012   \n",
       "...        ...   ...      ...        ...                ...      ...   \n",
       "1770       109  2021      1.9         60        Salman Khan   179092   \n",
       "1771       160  2018      1.9         60        Anil Kapoor    47862   \n",
       "1772        85  2015      1.6         60      Enzo Zelocchi    42920   \n",
       "1773       125  2021      1.5         60  Vivianne Bánovits    39615   \n",
       "1774       133  2020      1.2         60         Alia Bhatt    96373   \n",
       "\n",
       "         Genre1  Gross_collection  \n",
       "0        Action               9.0  \n",
       "1        Action               9.0  \n",
       "2     Animation               8.9  \n",
       "3        Action               8.8  \n",
       "4        Action               8.8  \n",
       "...         ...               ...  \n",
       "1770     Action               1.9  \n",
       "1771     Action               1.9  \n",
       "1772     Action               1.6  \n",
       "1773     Action               1.5  \n",
       "1774     Action               1.2  \n",
       "\n",
       "[1775 rows x 10 columns]"
      ]
     },
     "execution_count": 37,
     "metadata": {},
     "output_type": "execute_result"
    }
   ],
   "source": [
    "mov.dropna()"
   ]
  },
  {
   "cell_type": "code",
   "execution_count": 38,
   "metadata": {},
   "outputs": [],
   "source": [
    "#dropped all nan values"
   ]
  },
  {
   "cell_type": "code",
   "execution_count": 39,
   "metadata": {},
   "outputs": [],
   "source": [
    "from sklearn.preprocessing import LabelEncoder"
   ]
  },
  {
   "cell_type": "code",
   "execution_count": 40,
   "metadata": {},
   "outputs": [],
   "source": [
    "lb=LabelEncoder()"
   ]
  },
  {
   "cell_type": "code",
   "execution_count": 41,
   "metadata": {},
   "outputs": [],
   "source": [
    "mov[\"Director1\"]=lb.fit_transform(mov[\"Director1\"])"
   ]
  },
  {
   "cell_type": "code",
   "execution_count": 42,
   "metadata": {},
   "outputs": [],
   "source": [
    "mov[\"Star1\"]=lb.fit_transform(mov[\"Star1\"])"
   ]
  },
  {
   "cell_type": "code",
   "execution_count": 43,
   "metadata": {},
   "outputs": [],
   "source": [
    "mov[\"Genre1\"]=lb.fit_transform(mov[\"Genre1\"])"
   ]
  },
  {
   "cell_type": "code",
   "execution_count": 44,
   "metadata": {},
   "outputs": [
    {
     "data": {
      "text/plain": [
       "Director1          -0.092524\n",
       "Duration            1.483472\n",
       "Year               -1.488027\n",
       "Ratings            -0.800099\n",
       "Metascore          -0.071639\n",
       "Star1               0.034590\n",
       "Votes               3.832176\n",
       "Genre1              4.698827\n",
       "Gross_collection   -0.800099\n",
       "dtype: float64"
      ]
     },
     "execution_count": 44,
     "metadata": {},
     "output_type": "execute_result"
    }
   ],
   "source": [
    "mov.skew()# skewness range is between -0.5 to +0.5"
   ]
  },
  {
   "cell_type": "code",
   "execution_count": 45,
   "metadata": {},
   "outputs": [],
   "source": [
    "mov.drop([\"Year\"],axis=1,inplace=True)"
   ]
  },
  {
   "cell_type": "code",
   "execution_count": 46,
   "metadata": {},
   "outputs": [],
   "source": [
    "mov.drop([\"Movie_name\"],axis=1,inplace=True)"
   ]
  },
  {
   "cell_type": "code",
   "execution_count": 47,
   "metadata": {},
   "outputs": [],
   "source": [
    "#votes is skewed so it should be removed\n",
    "mov[\"Votes\"]=np.cbrt(mov[\"Votes\"])"
   ]
  },
  {
   "cell_type": "code",
   "execution_count": 48,
   "metadata": {},
   "outputs": [
    {
     "data": {
      "text/plain": [
       "Director1             int32\n",
       "Duration              int64\n",
       "Ratings             float64\n",
       "Metascore             int64\n",
       "Star1                 int32\n",
       "Votes               float64\n",
       "Genre1                int32\n",
       "Gross_collection    float64\n",
       "dtype: object"
      ]
     },
     "execution_count": 48,
     "metadata": {},
     "output_type": "execute_result"
    }
   ],
   "source": [
    "mov.dtypes"
   ]
  },
  {
   "cell_type": "code",
   "execution_count": 49,
   "metadata": {},
   "outputs": [
    {
     "data": {
      "text/html": [
       "<div>\n",
       "<style scoped>\n",
       "    .dataframe tbody tr th:only-of-type {\n",
       "        vertical-align: middle;\n",
       "    }\n",
       "\n",
       "    .dataframe tbody tr th {\n",
       "        vertical-align: top;\n",
       "    }\n",
       "\n",
       "    .dataframe thead th {\n",
       "        text-align: right;\n",
       "    }\n",
       "</style>\n",
       "<table border=\"1\" class=\"dataframe\">\n",
       "  <thead>\n",
       "    <tr style=\"text-align: right;\">\n",
       "      <th></th>\n",
       "      <th>Director1</th>\n",
       "      <th>Duration</th>\n",
       "      <th>Ratings</th>\n",
       "      <th>Metascore</th>\n",
       "      <th>Star1</th>\n",
       "      <th>Votes</th>\n",
       "      <th>Genre1</th>\n",
       "      <th>Gross_collection</th>\n",
       "    </tr>\n",
       "  </thead>\n",
       "  <tbody>\n",
       "    <tr>\n",
       "      <th>count</th>\n",
       "      <td>1775.000000</td>\n",
       "      <td>1775.000000</td>\n",
       "      <td>1775.000000</td>\n",
       "      <td>1775.000000</td>\n",
       "      <td>1775.000000</td>\n",
       "      <td>1775.000000</td>\n",
       "      <td>1775.000000</td>\n",
       "      <td>1775.000000</td>\n",
       "    </tr>\n",
       "    <tr>\n",
       "      <th>mean</th>\n",
       "      <td>491.479437</td>\n",
       "      <td>115.399437</td>\n",
       "      <td>6.478254</td>\n",
       "      <td>54.080000</td>\n",
       "      <td>366.247887</td>\n",
       "      <td>50.214659</td>\n",
       "      <td>0.040000</td>\n",
       "      <td>6.478254</td>\n",
       "    </tr>\n",
       "    <tr>\n",
       "      <th>std</th>\n",
       "      <td>268.143256</td>\n",
       "      <td>21.737672</td>\n",
       "      <td>0.999171</td>\n",
       "      <td>15.506602</td>\n",
       "      <td>213.321963</td>\n",
       "      <td>17.791800</td>\n",
       "      <td>0.196014</td>\n",
       "      <td>0.999171</td>\n",
       "    </tr>\n",
       "    <tr>\n",
       "      <th>min</th>\n",
       "      <td>0.000000</td>\n",
       "      <td>45.000000</td>\n",
       "      <td>1.200000</td>\n",
       "      <td>9.000000</td>\n",
       "      <td>0.000000</td>\n",
       "      <td>29.240957</td>\n",
       "      <td>0.000000</td>\n",
       "      <td>1.200000</td>\n",
       "    </tr>\n",
       "    <tr>\n",
       "      <th>25%</th>\n",
       "      <td>268.500000</td>\n",
       "      <td>100.000000</td>\n",
       "      <td>5.900000</td>\n",
       "      <td>43.000000</td>\n",
       "      <td>176.000000</td>\n",
       "      <td>36.208535</td>\n",
       "      <td>0.000000</td>\n",
       "      <td>5.900000</td>\n",
       "    </tr>\n",
       "    <tr>\n",
       "      <th>50%</th>\n",
       "      <td>499.000000</td>\n",
       "      <td>112.000000</td>\n",
       "      <td>6.500000</td>\n",
       "      <td>56.000000</td>\n",
       "      <td>357.000000</td>\n",
       "      <td>45.847796</td>\n",
       "      <td>0.000000</td>\n",
       "      <td>6.500000</td>\n",
       "    </tr>\n",
       "    <tr>\n",
       "      <th>75%</th>\n",
       "      <td>727.000000</td>\n",
       "      <td>127.000000</td>\n",
       "      <td>7.100000</td>\n",
       "      <td>64.000000</td>\n",
       "      <td>566.000000</td>\n",
       "      <td>59.592704</td>\n",
       "      <td>0.000000</td>\n",
       "      <td>7.100000</td>\n",
       "    </tr>\n",
       "    <tr>\n",
       "      <th>max</th>\n",
       "      <td>942.000000</td>\n",
       "      <td>321.000000</td>\n",
       "      <td>9.000000</td>\n",
       "      <td>98.000000</td>\n",
       "      <td>735.000000</td>\n",
       "      <td>140.195814</td>\n",
       "      <td>1.000000</td>\n",
       "      <td>9.000000</td>\n",
       "    </tr>\n",
       "  </tbody>\n",
       "</table>\n",
       "</div>"
      ],
      "text/plain": [
       "         Director1     Duration      Ratings    Metascore        Star1  \\\n",
       "count  1775.000000  1775.000000  1775.000000  1775.000000  1775.000000   \n",
       "mean    491.479437   115.399437     6.478254    54.080000   366.247887   \n",
       "std     268.143256    21.737672     0.999171    15.506602   213.321963   \n",
       "min       0.000000    45.000000     1.200000     9.000000     0.000000   \n",
       "25%     268.500000   100.000000     5.900000    43.000000   176.000000   \n",
       "50%     499.000000   112.000000     6.500000    56.000000   357.000000   \n",
       "75%     727.000000   127.000000     7.100000    64.000000   566.000000   \n",
       "max     942.000000   321.000000     9.000000    98.000000   735.000000   \n",
       "\n",
       "             Votes       Genre1  Gross_collection  \n",
       "count  1775.000000  1775.000000       1775.000000  \n",
       "mean     50.214659     0.040000          6.478254  \n",
       "std      17.791800     0.196014          0.999171  \n",
       "min      29.240957     0.000000          1.200000  \n",
       "25%      36.208535     0.000000          5.900000  \n",
       "50%      45.847796     0.000000          6.500000  \n",
       "75%      59.592704     0.000000          7.100000  \n",
       "max     140.195814     1.000000          9.000000  "
      ]
     },
     "execution_count": 49,
     "metadata": {},
     "output_type": "execute_result"
    }
   ],
   "source": [
    "mov.describe()"
   ]
  },
  {
   "cell_type": "code",
   "execution_count": 50,
   "metadata": {},
   "outputs": [],
   "source": [
    "# SD is less than mean so there is less outliers."
   ]
  },
  {
   "cell_type": "code",
   "execution_count": 51,
   "metadata": {},
   "outputs": [],
   "source": [
    "#lets check correlation"
   ]
  },
  {
   "cell_type": "code",
   "execution_count": 52,
   "metadata": {},
   "outputs": [
    {
     "data": {
      "text/html": [
       "<div>\n",
       "<style scoped>\n",
       "    .dataframe tbody tr th:only-of-type {\n",
       "        vertical-align: middle;\n",
       "    }\n",
       "\n",
       "    .dataframe tbody tr th {\n",
       "        vertical-align: top;\n",
       "    }\n",
       "\n",
       "    .dataframe thead th {\n",
       "        text-align: right;\n",
       "    }\n",
       "</style>\n",
       "<table border=\"1\" class=\"dataframe\">\n",
       "  <thead>\n",
       "    <tr style=\"text-align: right;\">\n",
       "      <th></th>\n",
       "      <th>Director1</th>\n",
       "      <th>Duration</th>\n",
       "      <th>Ratings</th>\n",
       "      <th>Metascore</th>\n",
       "      <th>Star1</th>\n",
       "      <th>Votes</th>\n",
       "      <th>Genre1</th>\n",
       "      <th>Gross_collection</th>\n",
       "    </tr>\n",
       "  </thead>\n",
       "  <tbody>\n",
       "    <tr>\n",
       "      <th>Director1</th>\n",
       "      <td>1.000000</td>\n",
       "      <td>0.016038</td>\n",
       "      <td>-0.023437</td>\n",
       "      <td>-0.035500</td>\n",
       "      <td>-0.003897</td>\n",
       "      <td>-0.031717</td>\n",
       "      <td>-0.029966</td>\n",
       "      <td>-0.023437</td>\n",
       "    </tr>\n",
       "    <tr>\n",
       "      <th>Duration</th>\n",
       "      <td>0.016038</td>\n",
       "      <td>1.000000</td>\n",
       "      <td>0.341822</td>\n",
       "      <td>0.298362</td>\n",
       "      <td>0.040288</td>\n",
       "      <td>0.271563</td>\n",
       "      <td>-0.150732</td>\n",
       "      <td>0.341822</td>\n",
       "    </tr>\n",
       "    <tr>\n",
       "      <th>Ratings</th>\n",
       "      <td>-0.023437</td>\n",
       "      <td>0.341822</td>\n",
       "      <td>1.000000</td>\n",
       "      <td>0.649565</td>\n",
       "      <td>0.036972</td>\n",
       "      <td>0.425447</td>\n",
       "      <td>0.131660</td>\n",
       "      <td>1.000000</td>\n",
       "    </tr>\n",
       "    <tr>\n",
       "      <th>Metascore</th>\n",
       "      <td>-0.035500</td>\n",
       "      <td>0.298362</td>\n",
       "      <td>0.649565</td>\n",
       "      <td>1.000000</td>\n",
       "      <td>0.017111</td>\n",
       "      <td>0.314089</td>\n",
       "      <td>0.128766</td>\n",
       "      <td>0.649565</td>\n",
       "    </tr>\n",
       "    <tr>\n",
       "      <th>Star1</th>\n",
       "      <td>-0.003897</td>\n",
       "      <td>0.040288</td>\n",
       "      <td>0.036972</td>\n",
       "      <td>0.017111</td>\n",
       "      <td>1.000000</td>\n",
       "      <td>-0.016461</td>\n",
       "      <td>0.001340</td>\n",
       "      <td>0.036972</td>\n",
       "    </tr>\n",
       "    <tr>\n",
       "      <th>Votes</th>\n",
       "      <td>-0.031717</td>\n",
       "      <td>0.271563</td>\n",
       "      <td>0.425447</td>\n",
       "      <td>0.314089</td>\n",
       "      <td>-0.016461</td>\n",
       "      <td>1.000000</td>\n",
       "      <td>-0.028415</td>\n",
       "      <td>0.425447</td>\n",
       "    </tr>\n",
       "    <tr>\n",
       "      <th>Genre1</th>\n",
       "      <td>-0.029966</td>\n",
       "      <td>-0.150732</td>\n",
       "      <td>0.131660</td>\n",
       "      <td>0.128766</td>\n",
       "      <td>0.001340</td>\n",
       "      <td>-0.028415</td>\n",
       "      <td>1.000000</td>\n",
       "      <td>0.131660</td>\n",
       "    </tr>\n",
       "    <tr>\n",
       "      <th>Gross_collection</th>\n",
       "      <td>-0.023437</td>\n",
       "      <td>0.341822</td>\n",
       "      <td>1.000000</td>\n",
       "      <td>0.649565</td>\n",
       "      <td>0.036972</td>\n",
       "      <td>0.425447</td>\n",
       "      <td>0.131660</td>\n",
       "      <td>1.000000</td>\n",
       "    </tr>\n",
       "  </tbody>\n",
       "</table>\n",
       "</div>"
      ],
      "text/plain": [
       "                  Director1  Duration   Ratings  Metascore     Star1  \\\n",
       "Director1          1.000000  0.016038 -0.023437  -0.035500 -0.003897   \n",
       "Duration           0.016038  1.000000  0.341822   0.298362  0.040288   \n",
       "Ratings           -0.023437  0.341822  1.000000   0.649565  0.036972   \n",
       "Metascore         -0.035500  0.298362  0.649565   1.000000  0.017111   \n",
       "Star1             -0.003897  0.040288  0.036972   0.017111  1.000000   \n",
       "Votes             -0.031717  0.271563  0.425447   0.314089 -0.016461   \n",
       "Genre1            -0.029966 -0.150732  0.131660   0.128766  0.001340   \n",
       "Gross_collection  -0.023437  0.341822  1.000000   0.649565  0.036972   \n",
       "\n",
       "                     Votes    Genre1  Gross_collection  \n",
       "Director1        -0.031717 -0.029966         -0.023437  \n",
       "Duration          0.271563 -0.150732          0.341822  \n",
       "Ratings           0.425447  0.131660          1.000000  \n",
       "Metascore         0.314089  0.128766          0.649565  \n",
       "Star1            -0.016461  0.001340          0.036972  \n",
       "Votes             1.000000 -0.028415          0.425447  \n",
       "Genre1           -0.028415  1.000000          0.131660  \n",
       "Gross_collection  0.425447  0.131660          1.000000  "
      ]
     },
     "execution_count": 52,
     "metadata": {},
     "output_type": "execute_result"
    }
   ],
   "source": [
    "cor=mov.corr()\n",
    "cor #no multicollinearity found"
   ]
  },
  {
   "cell_type": "code",
   "execution_count": 53,
   "metadata": {},
   "outputs": [],
   "source": [
    "#Creating the model"
   ]
  },
  {
   "cell_type": "code",
   "execution_count": 54,
   "metadata": {},
   "outputs": [],
   "source": [
    "from sklearn.linear_model import LinearRegression\n",
    "from sklearn.metrics import mean_squared_error,mean_absolute_error\n",
    "from sklearn.model_selection import train_test_split"
   ]
  },
  {
   "cell_type": "code",
   "execution_count": 55,
   "metadata": {},
   "outputs": [
    {
     "data": {
      "text/html": [
       "<div>\n",
       "<style scoped>\n",
       "    .dataframe tbody tr th:only-of-type {\n",
       "        vertical-align: middle;\n",
       "    }\n",
       "\n",
       "    .dataframe tbody tr th {\n",
       "        vertical-align: top;\n",
       "    }\n",
       "\n",
       "    .dataframe thead th {\n",
       "        text-align: right;\n",
       "    }\n",
       "</style>\n",
       "<table border=\"1\" class=\"dataframe\">\n",
       "  <thead>\n",
       "    <tr style=\"text-align: right;\">\n",
       "      <th></th>\n",
       "      <th>Director1</th>\n",
       "      <th>Duration</th>\n",
       "      <th>Ratings</th>\n",
       "      <th>Metascore</th>\n",
       "      <th>Star1</th>\n",
       "      <th>Votes</th>\n",
       "      <th>Genre1</th>\n",
       "    </tr>\n",
       "  </thead>\n",
       "  <tbody>\n",
       "    <tr>\n",
       "      <th>0</th>\n",
       "      <td>148</td>\n",
       "      <td>152</td>\n",
       "      <td>9.0</td>\n",
       "      <td>84</td>\n",
       "      <td>121</td>\n",
       "      <td>140.195814</td>\n",
       "      <td>0</td>\n",
       "    </tr>\n",
       "    <tr>\n",
       "      <th>1</th>\n",
       "      <td>679</td>\n",
       "      <td>201</td>\n",
       "      <td>9.0</td>\n",
       "      <td>94</td>\n",
       "      <td>188</td>\n",
       "      <td>123.959816</td>\n",
       "      <td>0</td>\n",
       "    </tr>\n",
       "    <tr>\n",
       "      <th>2</th>\n",
       "      <td>406</td>\n",
       "      <td>140</td>\n",
       "      <td>8.9</td>\n",
       "      <td>86</td>\n",
       "      <td>622</td>\n",
       "      <td>58.398270</td>\n",
       "      <td>1</td>\n",
       "    </tr>\n",
       "    <tr>\n",
       "      <th>3</th>\n",
       "      <td>148</td>\n",
       "      <td>148</td>\n",
       "      <td>8.8</td>\n",
       "      <td>74</td>\n",
       "      <td>420</td>\n",
       "      <td>134.740388</td>\n",
       "      <td>0</td>\n",
       "    </tr>\n",
       "    <tr>\n",
       "      <th>4</th>\n",
       "      <td>679</td>\n",
       "      <td>178</td>\n",
       "      <td>8.8</td>\n",
       "      <td>92</td>\n",
       "      <td>188</td>\n",
       "      <td>124.569441</td>\n",
       "      <td>0</td>\n",
       "    </tr>\n",
       "    <tr>\n",
       "      <th>...</th>\n",
       "      <td>...</td>\n",
       "      <td>...</td>\n",
       "      <td>...</td>\n",
       "      <td>...</td>\n",
       "      <td>...</td>\n",
       "      <td>...</td>\n",
       "      <td>...</td>\n",
       "    </tr>\n",
       "    <tr>\n",
       "      <th>1770</th>\n",
       "      <td>698</td>\n",
       "      <td>109</td>\n",
       "      <td>1.9</td>\n",
       "      <td>60</td>\n",
       "      <td>591</td>\n",
       "      <td>56.367062</td>\n",
       "      <td>0</td>\n",
       "    </tr>\n",
       "    <tr>\n",
       "      <th>1771</th>\n",
       "      <td>720</td>\n",
       "      <td>160</td>\n",
       "      <td>1.9</td>\n",
       "      <td>60</td>\n",
       "      <td>43</td>\n",
       "      <td>36.307550</td>\n",
       "      <td>0</td>\n",
       "    </tr>\n",
       "    <tr>\n",
       "      <th>1772</th>\n",
       "      <td>802</td>\n",
       "      <td>85</td>\n",
       "      <td>1.6</td>\n",
       "      <td>60</td>\n",
       "      <td>196</td>\n",
       "      <td>35.012241</td>\n",
       "      <td>0</td>\n",
       "    </tr>\n",
       "    <tr>\n",
       "      <th>1773</th>\n",
       "      <td>493</td>\n",
       "      <td>125</td>\n",
       "      <td>1.5</td>\n",
       "      <td>60</td>\n",
       "      <td>708</td>\n",
       "      <td>34.089442</td>\n",
       "      <td>0</td>\n",
       "    </tr>\n",
       "    <tr>\n",
       "      <th>1774</th>\n",
       "      <td>542</td>\n",
       "      <td>133</td>\n",
       "      <td>1.2</td>\n",
       "      <td>60</td>\n",
       "      <td>24</td>\n",
       "      <td>45.847796</td>\n",
       "      <td>0</td>\n",
       "    </tr>\n",
       "  </tbody>\n",
       "</table>\n",
       "<p>1775 rows × 7 columns</p>\n",
       "</div>"
      ],
      "text/plain": [
       "      Director1  Duration  Ratings  Metascore  Star1       Votes  Genre1\n",
       "0           148       152      9.0         84    121  140.195814       0\n",
       "1           679       201      9.0         94    188  123.959816       0\n",
       "2           406       140      8.9         86    622   58.398270       1\n",
       "3           148       148      8.8         74    420  134.740388       0\n",
       "4           679       178      8.8         92    188  124.569441       0\n",
       "...         ...       ...      ...        ...    ...         ...     ...\n",
       "1770        698       109      1.9         60    591   56.367062       0\n",
       "1771        720       160      1.9         60     43   36.307550       0\n",
       "1772        802        85      1.6         60    196   35.012241       0\n",
       "1773        493       125      1.5         60    708   34.089442       0\n",
       "1774        542       133      1.2         60     24   45.847796       0\n",
       "\n",
       "[1775 rows x 7 columns]"
      ]
     },
     "execution_count": 55,
     "metadata": {},
     "output_type": "execute_result"
    }
   ],
   "source": [
    "x = mov.drop('Gross_collection', axis=1).copy()\n",
    "x"
   ]
  },
  {
   "cell_type": "code",
   "execution_count": 56,
   "metadata": {},
   "outputs": [
    {
     "data": {
      "text/plain": [
       "0       9.0\n",
       "1       9.0\n",
       "2       8.9\n",
       "3       8.8\n",
       "4       8.8\n",
       "       ... \n",
       "1770    1.9\n",
       "1771    1.9\n",
       "1772    1.6\n",
       "1773    1.5\n",
       "1774    1.2\n",
       "Name: Gross_collection, Length: 1775, dtype: float64"
      ]
     },
     "execution_count": 56,
     "metadata": {},
     "output_type": "execute_result"
    }
   ],
   "source": [
    "y = mov['Gross_collection'].copy()\n",
    "y"
   ]
  },
  {
   "cell_type": "code",
   "execution_count": 57,
   "metadata": {},
   "outputs": [],
   "source": [
    "x_train,x_test,y_train,y_test=train_test_split(x,y,test_size=0.30,random_state=42)"
   ]
  },
  {
   "cell_type": "code",
   "execution_count": 58,
   "metadata": {},
   "outputs": [],
   "source": [
    "lm=LinearRegression()"
   ]
  },
  {
   "cell_type": "code",
   "execution_count": 59,
   "metadata": {},
   "outputs": [
    {
     "data": {
      "text/plain": [
       "LinearRegression()"
      ]
     },
     "execution_count": 59,
     "metadata": {},
     "output_type": "execute_result"
    }
   ],
   "source": [
    "lm.fit(x_train,y_train)"
   ]
  },
  {
   "cell_type": "code",
   "execution_count": 60,
   "metadata": {},
   "outputs": [
    {
     "data": {
      "text/plain": [
       "array([-3.62057208e-18, -5.53069632e-18,  1.00000000e+00, -1.41279082e-16,\n",
       "       -1.79559711e-16,  3.13375601e-17, -6.06860476e-16])"
      ]
     },
     "execution_count": 60,
     "metadata": {},
     "output_type": "execute_result"
    }
   ],
   "source": [
    "lm.coef_"
   ]
  },
  {
   "cell_type": "code",
   "execution_count": 61,
   "metadata": {},
   "outputs": [
    {
     "data": {
      "text/plain": [
       "6.750155989720952e-14"
      ]
     },
     "execution_count": 61,
     "metadata": {},
     "output_type": "execute_result"
    }
   ],
   "source": [
    "lm.intercept_"
   ]
  },
  {
   "cell_type": "code",
   "execution_count": 62,
   "metadata": {},
   "outputs": [
    {
     "data": {
      "text/plain": [
       "1.0"
      ]
     },
     "execution_count": 62,
     "metadata": {},
     "output_type": "execute_result"
    }
   ],
   "source": [
    "lm.score(x_train,y_train) # this model is 100% accurate"
   ]
  },
  {
   "cell_type": "code",
   "execution_count": 63,
   "metadata": {},
   "outputs": [
    {
     "name": "stdout",
     "output_type": "stream",
     "text": [
      "predicted result [8.1 6.2 6.3 7.3 7.  6.3 6.6 7.4 7.1 7.3 6.2 6.2 4.8 5.4 5.3 5.5 7.9 6.5\n",
      " 6.3 6.5 7.3 3.5 4.7 6.  7.3 6.  6.2 7.2 6.2 6.2 6.9 6.6 6.8 5.8 7.5 6.4\n",
      " 7.9 5.7 6.6 8.3 7.6 6.9 7.2 6.7 6.1 7.  7.3 6.9 6.1 7.3 6.  8.1 6.2 7.5\n",
      " 6.5 7.8 7.8 6.5 7.4 7.  5.7 6.8 6.1 6.3 6.9 5.2 8.4 7.  6.  6.1 7.5 6.\n",
      " 5.5 6.2 7.9 6.8 5.7 6.6 7.  6.9 5.8 6.9 7.6 6.  4.5 7.2 7.3 6.3 4.5 7.6\n",
      " 6.3 6.9 7.  7.2 6.2 7.6 7.  7.1 5.2 6.9 6.7 6.2 7.6 7.6 6.9 6.4 6.5 4.7\n",
      " 5.1 6.4 6.6 7.1 7.1 7.  6.9 6.2 7.2 7.7 6.1 7.6 5.1 2.7 7.1 6.5 7.3 7.4\n",
      " 7.2 5.3 7.6 7.3 8.2 6.2 6.9 5.5 6.  5.9 6.  7.1 4.  7.1 8.1 6.6 4.5 8.1\n",
      " 8.1 7.1 7.  6.7 7.2 7.2 6.8 6.7 5.2 7.3 5.9 8.1 2.7 7.7 3.6 6.1 6.1 6.8\n",
      " 5.7 6.5 5.  6.8 8.3 6.2 6.2 5.3 4.7 6.3 5.7 8.  6.4 7.2 6.3 6.2 6.2 7.7\n",
      " 6.1 7.2 7.  6.7 4.7 6.4 6.7 7.  6.4 8.3 6.2 6.7 6.1 5.9 6.5 6.2 7.7 6.5\n",
      " 5.  6.5 8.2 6.7 6.1 7.1 7.7 6.3 6.4 6.4 8.1 6.1 6.9 5.7 6.6 6.2 4.5 6.1\n",
      " 5.7 5.6 7.9 7.5 7.4 6.6 4.6 7.3 5.8 5.3 5.6 6.7 7.  5.9 5.8 5.8 5.4 6.1\n",
      " 5.5 5.6 6.  6.4 6.3 5.6 6.2 6.5 7.4 8.1 7.1 7.3 6.7 7.9 5.4 5.7 5.7 5.4\n",
      " 6.1 7.4 7.3 6.3 5.4 6.2 7.2 7.2 5.9 5.8 6.1 5.8 7.3 6.6 7.  5.1 6.6 7.5\n",
      " 6.1 7.6 5.9 6.9 6.5 6.6 6.9 6.1 8.1 3.5 7.5 8.2 6.  5.5 7.  6.1 7.2 5.3\n",
      " 5.9 7.2 5.6 6.8 6.7 6.4 7.3 6.3 6.1 7.8 6.1 6.9 5.1 7.  7.2 5.6 7.5 7.7\n",
      " 6.7 7.6 5.9 4.9 6.1 6.6 6.  6.1 6.5 6.  6.  7.5 5.3 5.7 7.2 6.4 7.1 6.2\n",
      " 6.8 6.9 5.4 6.7 4.4 5.5 7.7 7.1 7.1 6.5 7.4 5.1 6.6 6.  6.7 6.9 6.5 6.2\n",
      " 6.6 7.  1.9 6.4 7.  7.7 6.2 7.  2.5 6.3 6.7 7.2 5.6 6.3 7.7 8.5 7.5 6.6\n",
      " 6.8 5.9 4.7 6.2 6.3 5.6 6.1 7.7 6.7 5.7 6.4 6.8 6.2 5.5 6.7 6.2 6.9 4.6\n",
      " 6.5 7.4 8.1 6.4 5.5 6.6 8.2 8.  7.5 6.1 7.3 8.  3.6 7.9 6.4 3.5 6.6 6.7\n",
      " 6.3 5.7 6.7 5.5 6.  7.9 5.6 7.2 5.9 6.4 5.3 7.  4.7 6.5 6.9 7.2 6.2 4.4\n",
      " 5.9 6.1 6.4 6.5 6.2 7.2 5.7 5.7 5.5 6.9 4.2 5.9 7.6 7.6 6.1 5.6 5.9 7.8\n",
      " 6.1 6.5 7.5 7.8 6.3 6.6 6.7 6.7 5.8 7.4 7.7 5.6 7.4 6.6 8.1 6.4 2.5 6.2\n",
      " 6.1 6.3 5.4 6.5 5.8 7.  6.3 7.1 6.6 7.6 6.6 7.5 7.  5.8 6.9 7.3 6.9 7.\n",
      " 6.1 5.3 5.7 5.9 5.5 6.3 6.7 5.2 5.5 6.7 4.5 4.6 6.5 6.6 6.8 7.4 4.8 5.2\n",
      " 6.3 5.6 5.5 6.3 6.6 6.1 7.5 5.9 5.2 7.3 6.4 7.6 6.4 6.6 5.7 4.6 6.  6.1\n",
      " 6.  7.6 6.3 5.5 5.7 7.  8.1 5.6 5.8 5.8 7.3 5.9 7.  6.4 5.8 6.2 3.7 6.\n",
      " 7.9 6.2 6.9 7.  7.  8.  6.9 7.2 5.6 8.  5.6]\n",
      "Actual result 65      8.1\n",
      "1096    6.2\n",
      "1027    6.3\n",
      "342     7.3\n",
      "557     7.0\n",
      "       ... \n",
      "582     6.9\n",
      "380     7.2\n",
      "1501    5.6\n",
      "84      8.0\n",
      "1491    5.6\n",
      "Name: Gross_collection, Length: 533, dtype: float64\n"
     ]
    }
   ],
   "source": [
    "pred=lm.predict(x_test)\n",
    "print(\"predicted result\",pred)\n",
    "print(\"Actual result\",y_test)"
   ]
  },
  {
   "cell_type": "code",
   "execution_count": 64,
   "metadata": {},
   "outputs": [
    {
     "name": "stdout",
     "output_type": "stream",
     "text": [
      "Error\n",
      "Mean Absolute Error: 3.340542351805532e-14\n",
      "Mean Squared Error: 1.4623014142419716e-27\n",
      "Root Mean Squared Error: 3.8240049872378197e-14\n"
     ]
    }
   ],
   "source": [
    "print(\"Error\")\n",
    "print(\"Mean Absolute Error:\",mean_absolute_error(y_test,pred))\n",
    "print(\"Mean Squared Error:\",mean_squared_error(y_test,pred))\n",
    "print(\"Root Mean Squared Error:\",np.sqrt(mean_squared_error(y_test,pred)))"
   ]
  },
  {
   "cell_type": "code",
   "execution_count": 66,
   "metadata": {},
   "outputs": [],
   "source": [
    "GC=pd.DataFrame(pred)\n",
    "mov.to_csv(\"Grosscollectionprediction.csv\")\n",
    "#saving the predicted value"
   ]
  },
  {
   "cell_type": "code",
   "execution_count": 67,
   "metadata": {},
   "outputs": [
    {
     "data": {
      "text/html": [
       "<div>\n",
       "<style scoped>\n",
       "    .dataframe tbody tr th:only-of-type {\n",
       "        vertical-align: middle;\n",
       "    }\n",
       "\n",
       "    .dataframe tbody tr th {\n",
       "        vertical-align: top;\n",
       "    }\n",
       "\n",
       "    .dataframe thead th {\n",
       "        text-align: right;\n",
       "    }\n",
       "</style>\n",
       "<table border=\"1\" class=\"dataframe\">\n",
       "  <thead>\n",
       "    <tr style=\"text-align: right;\">\n",
       "      <th></th>\n",
       "      <th>Director1</th>\n",
       "      <th>Duration</th>\n",
       "      <th>Ratings</th>\n",
       "      <th>Metascore</th>\n",
       "      <th>Star1</th>\n",
       "      <th>Genre1</th>\n",
       "      <th>Gross_collection</th>\n",
       "    </tr>\n",
       "  </thead>\n",
       "  <tbody>\n",
       "    <tr>\n",
       "      <th>0</th>\n",
       "      <td>148</td>\n",
       "      <td>152</td>\n",
       "      <td>9.0</td>\n",
       "      <td>84</td>\n",
       "      <td>121</td>\n",
       "      <td>0</td>\n",
       "      <td>9.0</td>\n",
       "    </tr>\n",
       "    <tr>\n",
       "      <th>1</th>\n",
       "      <td>679</td>\n",
       "      <td>201</td>\n",
       "      <td>9.0</td>\n",
       "      <td>94</td>\n",
       "      <td>188</td>\n",
       "      <td>0</td>\n",
       "      <td>9.0</td>\n",
       "    </tr>\n",
       "    <tr>\n",
       "      <th>2</th>\n",
       "      <td>406</td>\n",
       "      <td>140</td>\n",
       "      <td>8.9</td>\n",
       "      <td>86</td>\n",
       "      <td>622</td>\n",
       "      <td>1</td>\n",
       "      <td>8.9</td>\n",
       "    </tr>\n",
       "    <tr>\n",
       "      <th>3</th>\n",
       "      <td>148</td>\n",
       "      <td>148</td>\n",
       "      <td>8.8</td>\n",
       "      <td>74</td>\n",
       "      <td>420</td>\n",
       "      <td>0</td>\n",
       "      <td>8.8</td>\n",
       "    </tr>\n",
       "    <tr>\n",
       "      <th>4</th>\n",
       "      <td>679</td>\n",
       "      <td>178</td>\n",
       "      <td>8.8</td>\n",
       "      <td>92</td>\n",
       "      <td>188</td>\n",
       "      <td>0</td>\n",
       "      <td>8.8</td>\n",
       "    </tr>\n",
       "    <tr>\n",
       "      <th>...</th>\n",
       "      <td>...</td>\n",
       "      <td>...</td>\n",
       "      <td>...</td>\n",
       "      <td>...</td>\n",
       "      <td>...</td>\n",
       "      <td>...</td>\n",
       "      <td>...</td>\n",
       "    </tr>\n",
       "    <tr>\n",
       "      <th>1770</th>\n",
       "      <td>698</td>\n",
       "      <td>109</td>\n",
       "      <td>1.9</td>\n",
       "      <td>60</td>\n",
       "      <td>591</td>\n",
       "      <td>0</td>\n",
       "      <td>1.9</td>\n",
       "    </tr>\n",
       "    <tr>\n",
       "      <th>1771</th>\n",
       "      <td>720</td>\n",
       "      <td>160</td>\n",
       "      <td>1.9</td>\n",
       "      <td>60</td>\n",
       "      <td>43</td>\n",
       "      <td>0</td>\n",
       "      <td>1.9</td>\n",
       "    </tr>\n",
       "    <tr>\n",
       "      <th>1772</th>\n",
       "      <td>802</td>\n",
       "      <td>85</td>\n",
       "      <td>1.6</td>\n",
       "      <td>60</td>\n",
       "      <td>196</td>\n",
       "      <td>0</td>\n",
       "      <td>1.6</td>\n",
       "    </tr>\n",
       "    <tr>\n",
       "      <th>1773</th>\n",
       "      <td>493</td>\n",
       "      <td>125</td>\n",
       "      <td>1.5</td>\n",
       "      <td>60</td>\n",
       "      <td>708</td>\n",
       "      <td>0</td>\n",
       "      <td>1.5</td>\n",
       "    </tr>\n",
       "    <tr>\n",
       "      <th>1774</th>\n",
       "      <td>542</td>\n",
       "      <td>133</td>\n",
       "      <td>1.2</td>\n",
       "      <td>60</td>\n",
       "      <td>24</td>\n",
       "      <td>0</td>\n",
       "      <td>1.2</td>\n",
       "    </tr>\n",
       "  </tbody>\n",
       "</table>\n",
       "<p>1775 rows × 7 columns</p>\n",
       "</div>"
      ],
      "text/plain": [
       "      Director1  Duration  Ratings  Metascore  Star1  Genre1  Gross_collection\n",
       "0           148       152      9.0         84    121       0               9.0\n",
       "1           679       201      9.0         94    188       0               9.0\n",
       "2           406       140      8.9         86    622       1               8.9\n",
       "3           148       148      8.8         74    420       0               8.8\n",
       "4           679       178      8.8         92    188       0               8.8\n",
       "...         ...       ...      ...        ...    ...     ...               ...\n",
       "1770        698       109      1.9         60    591       0               1.9\n",
       "1771        720       160      1.9         60     43       0               1.9\n",
       "1772        802        85      1.6         60    196       0               1.6\n",
       "1773        493       125      1.5         60    708       0               1.5\n",
       "1774        542       133      1.2         60     24       0               1.2\n",
       "\n",
       "[1775 rows x 7 columns]"
      ]
     },
     "execution_count": 67,
     "metadata": {},
     "output_type": "execute_result"
    }
   ],
   "source": [
    "x = mov.drop('Votes', axis=1).copy()\n",
    "x"
   ]
  },
  {
   "cell_type": "code",
   "execution_count": 68,
   "metadata": {},
   "outputs": [
    {
     "data": {
      "text/plain": [
       "0       140.195814\n",
       "1       123.959816\n",
       "2        58.398270\n",
       "3       134.740388\n",
       "4       124.569441\n",
       "           ...    \n",
       "1770     56.367062\n",
       "1771     36.307550\n",
       "1772     35.012241\n",
       "1773     34.089442\n",
       "1774     45.847796\n",
       "Name: Votes, Length: 1775, dtype: float64"
      ]
     },
     "execution_count": 68,
     "metadata": {},
     "output_type": "execute_result"
    }
   ],
   "source": [
    "y = mov['Votes'].copy()\n",
    "y"
   ]
  },
  {
   "cell_type": "code",
   "execution_count": 69,
   "metadata": {},
   "outputs": [],
   "source": [
    "x_train,x_test,y_train,y_test=train_test_split(x,y,test_size=0.30,random_state=42)"
   ]
  },
  {
   "cell_type": "code",
   "execution_count": 70,
   "metadata": {},
   "outputs": [],
   "source": [
    "lm=LinearRegression()"
   ]
  },
  {
   "cell_type": "code",
   "execution_count": 71,
   "metadata": {},
   "outputs": [
    {
     "data": {
      "text/plain": [
       "LinearRegression()"
      ]
     },
     "execution_count": 71,
     "metadata": {},
     "output_type": "execute_result"
    }
   ],
   "source": [
    "lm.fit(x_train,y_train)"
   ]
  },
  {
   "cell_type": "code",
   "execution_count": 72,
   "metadata": {},
   "outputs": [
    {
     "data": {
      "text/plain": [
       "array([-2.97624812e-03,  1.20503152e-01,  3.44188041e+00,  7.38482531e-02,\n",
       "       -2.83519065e-03, -6.91141694e+00,  3.44188041e+00])"
      ]
     },
     "execution_count": 72,
     "metadata": {},
     "output_type": "execute_result"
    }
   ],
   "source": [
    "lm.coef_"
   ]
  },
  {
   "cell_type": "code",
   "execution_count": 73,
   "metadata": {},
   "outputs": [
    {
     "data": {
      "text/plain": [
       "-9.161905014899702"
      ]
     },
     "execution_count": 73,
     "metadata": {},
     "output_type": "execute_result"
    }
   ],
   "source": [
    "lm.intercept_"
   ]
  },
  {
   "cell_type": "code",
   "execution_count": 74,
   "metadata": {},
   "outputs": [
    {
     "data": {
      "text/plain": [
       "0.23899547416242206"
      ]
     },
     "execution_count": 74,
     "metadata": {},
     "output_type": "execute_result"
    }
   ],
   "source": [
    "lm.score(x_train,y_train) # this model is not accurate"
   ]
  },
  {
   "cell_type": "code",
   "execution_count": null,
   "metadata": {},
   "outputs": [],
   "source": [
    "# lets try regualarisation to improve the model"
   ]
  },
  {
   "cell_type": "code",
   "execution_count": 75,
   "metadata": {},
   "outputs": [],
   "source": [
    "from sklearn.linear_model import Lasso"
   ]
  },
  {
   "cell_type": "code",
   "execution_count": 76,
   "metadata": {},
   "outputs": [],
   "source": [
    "ls=Lasso(alpha=.0001)"
   ]
  },
  {
   "cell_type": "code",
   "execution_count": 78,
   "metadata": {},
   "outputs": [
    {
     "name": "stdout",
     "output_type": "stream",
     "text": [
      "0.23899547333137316\n",
      "233.0889513188631\n"
     ]
    },
    {
     "name": "stderr",
     "output_type": "stream",
     "text": [
      "C:\\Users\\SATHAKI PROSAD\\anaconda3\\lib\\site-packages\\sklearn\\linear_model\\_coordinate_descent.py:529: ConvergenceWarning: Objective did not converge. You might want to increase the number of iterations. Duality gap: 147283.96924254956, tolerance: 42.51385938312799\n",
      "  model = cd_fast.enet_coordinate_descent(\n"
     ]
    }
   ],
   "source": [
    "ls.fit(x_train,y_train)\n",
    "print(ls.score(x_train,y_train))\n",
    "predlasso=ls.predict(x_test)\n",
    "print(mean_squared_error(y_test,predlasso))"
   ]
  },
  {
   "cell_type": "code",
   "execution_count": 79,
   "metadata": {},
   "outputs": [
    {
     "name": "stdout",
     "output_type": "stream",
     "text": [
      "-7.146638565274856\n"
     ]
    }
   ],
   "source": [
    "from sklearn.metrics import r2_score\n",
    "print(r2_score(y_test,pred))"
   ]
  },
  {
   "cell_type": "code",
   "execution_count": null,
   "metadata": {},
   "outputs": [],
   "source": [
    "#Voting model is not fitting"
   ]
  }
 ],
 "metadata": {
  "kernelspec": {
   "display_name": "Python 3",
   "language": "python",
   "name": "python3"
  },
  "language_info": {
   "codemirror_mode": {
    "name": "ipython",
    "version": 3
   },
   "file_extension": ".py",
   "mimetype": "text/x-python",
   "name": "python",
   "nbconvert_exporter": "python",
   "pygments_lexer": "ipython3",
   "version": "3.8.5"
  }
 },
 "nbformat": 4,
 "nbformat_minor": 4
}
